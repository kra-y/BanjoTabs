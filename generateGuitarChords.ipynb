{
 "cells": [
  {
   "cell_type": "code",
   "execution_count": 1,
   "id": "e6a58149-3b0e-4d5e-b75f-6d3eddffd55d",
   "metadata": {},
   "outputs": [],
   "source": [
    "TabGuitar = {\"e\":[\"e\",\"f\",\"f#\",\"g\",\"g#\",\"a\",\"a#\",\"b\",\"c\",\"c#\",\"d\",\"d#\",\"e\",\"f\",\"f#\",\"g\",\"g#\",\"a\",\"a#\",\"b\",\"c\"],\n",
    "             \"B\":[\"b\",\"c\",\"c#\",\"d\",\"d#\",\"e\",\"f\",\"f#\",\"g\",\"g#\",\"a\",\"a#\",\"b\",\"c\",\"c#\",\"d\",\"d#\",\"e\",\"f\",\"f#\",\"g\",],\n",
    "             \"G\":[\"g\",\"g#\",\"a\",\"a#\",\"b\",\"c\",\"c#\",\"d\",\"d#\",\"e\",\"f\",\"f#\",\"g\",\"g#\",\"a\",\"a#\",\"b\",\"c\",\"c#\",\"d\",\"d#\"],\n",
    "             \"D\":[\"d\",\"d#\",\"e\",\"f\",\"f#\",\"g\",\"g#\",\"a\",\"a#\",\"b\",\"c\",\"c#\",\"d\",\"d#\",\"e\",\"f\",\"f#\",\"g\",\"g#\",\"a\",\"a#\"],\n",
    "             \"A\":[\"a\",\"a#\",\"b\",\"c\",\"c#\",\"d\",\"d#\",\"e\",\"f\",\"f#\",\"g\",\"g#\",\"a\",\"a#\",\"b\",\"c\",\"c#\",\"d\",\"d#\",\"e\",\"f\"],\n",
    "             \"E\":[\"e\",\"f\",\"f#\",\"g\",\"g#\",\"a\",\"a#\",\"b\",\"c\",\"c#\",\"d\",\"d#\",\"e\",\"f\",\"f#\",\"g\",\"g#\",\"a\",\"a#\",\"b\",\"c\"]}\n",
    "\n"
   ]
  },
  {
   "cell_type": "code",
   "execution_count": null,
   "id": "c948f2a9-8647-4e3d-b3fc-d9951323b927",
   "metadata": {},
   "outputs": [],
   "source": [
    "import itertools\n",
    "def get_guitar_chords(dct,note1,note2,note3,note4):\n",
    "    notes = [note1,note2,note3,note4]\n",
    "    doable_chords = []\n",
    "    #make a list of all the notes on the high d that appear in the notes list\n",
    "    e_string = [i for i,x in enumerate(dct[\"e\"])if x in notes]\n",
    "    #make a list of all the notes on the B that appear in the notes list\n",
    "    B_string = [i for i,x in enumerate(dct[\"B\"])if x in notes]\n",
    "    #make a list of all the notes on the G that appear in the notes list\n",
    "    G_string = [i for i,x in enumerate(dct[\"G\"])if x in notes]\n",
    "    #make a list of all the notes on the D that appear in the notes list\n",
    "    D_string = [i for i,x in enumerate(dct[\"D\"])if x in notes]\n",
    "    #make a list of all the notes on the high A that appear in the notes list\n",
    "    A_string = [i for i,x in enumerate(dct[\"A\"])if x in notes]\n",
    "    #make a list of all the notes on the high A that appear in the notes list\n",
    "    E_string = [i for i,x in enumerate(dct[\"E\"])if x in notes]\n",
    "    chords = itertools.product(E_string,A_string,D_string,G_string,B_string,e_string)\n",
    "    doable_chords = []\n",
    "    for i in chords:\n",
    "        i = list(i)\n",
    "        \n",
    "        if (max(i) - min(i))<=3:\n",
    "            doable_chords.append(i)\n",
    "    for chord in doable_chords:\n",
    "        if chord[0]<=5 and 'g' not in notes:\n",
    "            chord[0] = 'm'\n",
    "    return doable_chords\n",
    "    \n",
    "    "
   ]
  },
  {
   "cell_type": "code",
   "execution_count": null,
   "id": "b4d281fe-697b-428b-aaff-ac59bc20060a",
   "metadata": {},
   "outputs": [],
   "source": []
  },
  {
   "cell_type": "code",
   "execution_count": 18,
   "id": "32c4785d-72cb-481c-baf3-27b86f2362b3",
   "metadata": {},
   "outputs": [],
   "source": [
    "CMaj = get_guitar_chords(TabGuitar,\"e\",\"c\",\"g\",\"g\")"
   ]
  },
  {
   "cell_type": "code",
   "execution_count": 19,
   "id": "822acffd-9d8e-4a71-88c5-aefa09cfa46e",
   "metadata": {},
   "outputs": [
    {
     "name": "stdout",
     "output_type": "stream",
     "text": [
      "[0, 3, 2, 0, 1, 0]\n",
      "[0, 3, 2, 0, 1, 3]\n",
      "[3, 3, 2, 0, 1, 0]\n",
      "[3, 3, 2, 0, 1, 3]\n",
      "[3, 3, 2, 5, 5, 3]\n",
      "[3, 3, 5, 5, 5, 3]\n",
      "[8, 7, 5, 5, 5, 8]\n",
      "[8, 7, 5, 5, 8, 8]\n",
      "[8, 7, 10, 9, 8, 8]\n",
      "[8, 10, 10, 9, 8, 8]\n",
      "[12, 10, 10, 12, 13, 12]\n",
      "[12, 15, 14, 12, 13, 12]\n",
      "[12, 15, 14, 12, 13, 15]\n",
      "[15, 15, 14, 12, 13, 12]\n",
      "[15, 15, 14, 12, 13, 15]\n",
      "[15, 15, 14, 17, 17, 15]\n",
      "[15, 15, 17, 17, 17, 15]\n",
      "[20, 19, 17, 17, 17, 20]\n",
      "[20, 19, 17, 17, 20, 20]\n"
     ]
    }
   ],
   "source": [
    "for i in CMaj:\n",
    "    print(i)"
   ]
  },
  {
   "cell_type": "code",
   "execution_count": 8,
   "id": "e9c8c8fd-15cb-403f-b1d5-b00795831500",
   "metadata": {},
   "outputs": [],
   "source": [
    "def FindFrets(firstnote):\n",
    "    candidates={}\n",
    "    for string in TabGuitar:\n",
    "        indeces = [i for i,j in enumerate(TabGuitar[string])if j==firstnote]\n",
    "        candidates[string] = indeces\n",
    "    return candidates"
   ]
  },
  {
   "cell_type": "code",
   "execution_count": 9,
   "id": "060256a3-46ca-49c3-94f8-44e0d77ece53",
   "metadata": {},
   "outputs": [
    {
     "data": {
      "text/plain": [
       "{'e': [6, 18],\n",
       " 'B': [11],\n",
       " 'G': [3, 15],\n",
       " 'D': [8, 20],\n",
       " 'A': [1, 13],\n",
       " 'E': [6, 18]}"
      ]
     },
     "execution_count": 9,
     "metadata": {},
     "output_type": "execute_result"
    }
   ],
   "source": [
    "FindFrets('a#')"
   ]
  },
  {
   "cell_type": "code",
   "execution_count": 23,
   "id": "d5559566-bb45-4d40-be59-ed1ed562cd96",
   "metadata": {},
   "outputs": [],
   "source": [
    "def LowestOnNeck(firstnote):\n",
    "    candidates = FindFrets(firstnote)\n",
    "    if min(candidates,key = candidates.get)=='e':\n",
    "        string = 'E'\n",
    "    else:\n",
    "        string = min(candidates,key = candidates.get)\n",
    "    fret = candidates[min(candidates,key = candidates.get)][0]\n",
    "    return string,fret"
   ]
  },
  {
   "cell_type": "code",
   "execution_count": 24,
   "id": "bda60ac1-2899-4f04-a92d-25e5da85c556",
   "metadata": {},
   "outputs": [
    {
     "data": {
      "text/plain": [
       "('E', 2)"
      ]
     },
     "execution_count": 24,
     "metadata": {},
     "output_type": "execute_result"
    }
   ],
   "source": [
    "LowestOnNeck('f#')"
   ]
  },
  {
   "cell_type": "code",
   "execution_count": null,
   "id": "3df84731-bd1f-4fe0-8c97-4fb045224195",
   "metadata": {},
   "outputs": [],
   "source": []
  }
 ],
 "metadata": {
  "kernelspec": {
   "display_name": "Python 3",
   "language": "python",
   "name": "python3"
  },
  "language_info": {
   "codemirror_mode": {
    "name": "ipython",
    "version": 3
   },
   "file_extension": ".py",
   "mimetype": "text/x-python",
   "name": "python",
   "nbconvert_exporter": "python",
   "pygments_lexer": "ipython3",
   "version": "3.8.8"
  }
 },
 "nbformat": 4,
 "nbformat_minor": 5
}
