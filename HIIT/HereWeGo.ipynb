{
 "cells": [
  {
   "cell_type": "code",
   "execution_count": 6,
   "metadata": {},
   "outputs": [],
   "source": [
    "import PyPDF2\n",
    "import os\n",
    "import shutil"
   ]
  },
  {
   "cell_type": "code",
   "execution_count": 7,
   "metadata": {},
   "outputs": [
    {
     "data": {
      "text/plain": [
       "'Users/kraymac/Documents/PythonHobby/HIIT/100-hiit-workouts.pdf'"
      ]
     },
     "execution_count": 7,
     "metadata": {},
     "output_type": "execute_result"
    }
   ],
   "source": [
    "shutil.move(\"Users/kraymac/Downloads/100-hiit-workouts.pdf\",\"Users/kraymac/Documents/PythonHobby/HIIT/100-hiit-workouts.pdf\")"
   ]
  },
  {
   "cell_type": "code",
   "execution_count": 17,
   "metadata": {},
   "outputs": [
    {
     "ename": "DependencyError",
     "evalue": "PyCryptodome is required for AES algorithm",
     "output_type": "error",
     "traceback": [
      "\u001b[0;31m---------------------------------------------------------------------------\u001b[0m",
      "\u001b[0;31mDependencyError\u001b[0m                           Traceback (most recent call last)",
      "Cell \u001b[0;32mIn[17], line 3\u001b[0m\n\u001b[1;32m      1\u001b[0m pdfFileObject \u001b[39m=\u001b[39m \u001b[39mopen\u001b[39m(\u001b[39m\"\u001b[39m\u001b[39mUsers/kraymac/Documents/PythonHobby/HIIT/100-hiit-workouts.pdf\u001b[39m\u001b[39m\"\u001b[39m,\u001b[39m'\u001b[39m\u001b[39mrb\u001b[39m\u001b[39m'\u001b[39m)\n\u001b[1;32m      2\u001b[0m pdfReader \u001b[39m=\u001b[39m PyPDF2\u001b[39m.\u001b[39mPdfReader(pdfFileObject)\n\u001b[0;32m----> 3\u001b[0m pageObj \u001b[39m=\u001b[39m pdfReader\u001b[39m.\u001b[39;49mpages[\u001b[39m0\u001b[39;49m]\n\u001b[1;32m      4\u001b[0m \u001b[39mprint\u001b[39m(pageObj\u001b[39m.\u001b[39mextractText())\n",
      "File \u001b[0;32m~/Library/Python/3.9/lib/python/site-packages/PyPDF2/_page.py:2072\u001b[0m, in \u001b[0;36m_VirtualList.__getitem__\u001b[0;34m(self, index)\u001b[0m\n\u001b[1;32m   2070\u001b[0m \u001b[39mif\u001b[39;00m \u001b[39mnot\u001b[39;00m \u001b[39misinstance\u001b[39m(index, \u001b[39mint\u001b[39m):\n\u001b[1;32m   2071\u001b[0m     \u001b[39mraise\u001b[39;00m \u001b[39mTypeError\u001b[39;00m(\u001b[39m\"\u001b[39m\u001b[39msequence indices must be integers\u001b[39m\u001b[39m\"\u001b[39m)\n\u001b[0;32m-> 2072\u001b[0m len_self \u001b[39m=\u001b[39m \u001b[39mlen\u001b[39;49m(\u001b[39mself\u001b[39;49m)\n\u001b[1;32m   2073\u001b[0m \u001b[39mif\u001b[39;00m index \u001b[39m<\u001b[39m \u001b[39m0\u001b[39m:\n\u001b[1;32m   2074\u001b[0m     \u001b[39m# support negative indexes\u001b[39;00m\n\u001b[1;32m   2075\u001b[0m     index \u001b[39m=\u001b[39m len_self \u001b[39m+\u001b[39m index\n",
      "File \u001b[0;32m~/Library/Python/3.9/lib/python/site-packages/PyPDF2/_page.py:2063\u001b[0m, in \u001b[0;36m_VirtualList.__len__\u001b[0;34m(self)\u001b[0m\n\u001b[1;32m   2062\u001b[0m \u001b[39mdef\u001b[39;00m \u001b[39m__len__\u001b[39m(\u001b[39mself\u001b[39m) \u001b[39m-\u001b[39m\u001b[39m>\u001b[39m \u001b[39mint\u001b[39m:\n\u001b[0;32m-> 2063\u001b[0m     \u001b[39mreturn\u001b[39;00m \u001b[39mself\u001b[39;49m\u001b[39m.\u001b[39;49mlength_function()\n",
      "File \u001b[0;32m~/Library/Python/3.9/lib/python/site-packages/PyPDF2/_reader.py:445\u001b[0m, in \u001b[0;36mPdfReader._get_num_pages\u001b[0;34m(self)\u001b[0m\n\u001b[1;32m    441\u001b[0m \u001b[39m# Flattened pages will not work on an Encrypted PDF;\u001b[39;00m\n\u001b[1;32m    442\u001b[0m \u001b[39m# the PDF file's page count is used in this case. Otherwise,\u001b[39;00m\n\u001b[1;32m    443\u001b[0m \u001b[39m# the original method (flattened page count) is used.\u001b[39;00m\n\u001b[1;32m    444\u001b[0m \u001b[39mif\u001b[39;00m \u001b[39mself\u001b[39m\u001b[39m.\u001b[39mis_encrypted:\n\u001b[0;32m--> 445\u001b[0m     \u001b[39mreturn\u001b[39;00m \u001b[39mself\u001b[39;49m\u001b[39m.\u001b[39;49mtrailer[TK\u001b[39m.\u001b[39;49mROOT][\u001b[39m\"\u001b[39;49m\u001b[39m/Pages\u001b[39;49m\u001b[39m\"\u001b[39;49m][\u001b[39m\"\u001b[39m\u001b[39m/Count\u001b[39m\u001b[39m\"\u001b[39m]  \u001b[39m# type: ignore\u001b[39;00m\n\u001b[1;32m    446\u001b[0m \u001b[39melse\u001b[39;00m:\n\u001b[1;32m    447\u001b[0m     \u001b[39mif\u001b[39;00m \u001b[39mself\u001b[39m\u001b[39m.\u001b[39mflattened_pages \u001b[39mis\u001b[39;00m \u001b[39mNone\u001b[39;00m:\n",
      "File \u001b[0;32m~/Library/Python/3.9/lib/python/site-packages/PyPDF2/generic/_data_structures.py:266\u001b[0m, in \u001b[0;36mDictionaryObject.__getitem__\u001b[0;34m(self, key)\u001b[0m\n\u001b[1;32m    265\u001b[0m \u001b[39mdef\u001b[39;00m \u001b[39m__getitem__\u001b[39m(\u001b[39mself\u001b[39m, key: Any) \u001b[39m-\u001b[39m\u001b[39m>\u001b[39m PdfObject:\n\u001b[0;32m--> 266\u001b[0m     \u001b[39mreturn\u001b[39;00m \u001b[39mdict\u001b[39;49m\u001b[39m.\u001b[39;49m\u001b[39m__getitem__\u001b[39;49m(\u001b[39mself\u001b[39;49m, key)\u001b[39m.\u001b[39;49mget_object()\n",
      "File \u001b[0;32m~/Library/Python/3.9/lib/python/site-packages/PyPDF2/generic/_base.py:259\u001b[0m, in \u001b[0;36mIndirectObject.get_object\u001b[0;34m(self)\u001b[0m\n\u001b[1;32m    258\u001b[0m \u001b[39mdef\u001b[39;00m \u001b[39mget_object\u001b[39m(\u001b[39mself\u001b[39m) \u001b[39m-\u001b[39m\u001b[39m>\u001b[39m Optional[\u001b[39m\"\u001b[39m\u001b[39mPdfObject\u001b[39m\u001b[39m\"\u001b[39m]:\n\u001b[0;32m--> 259\u001b[0m     obj \u001b[39m=\u001b[39m \u001b[39mself\u001b[39;49m\u001b[39m.\u001b[39;49mpdf\u001b[39m.\u001b[39;49mget_object(\u001b[39mself\u001b[39;49m)\n\u001b[1;32m    260\u001b[0m     \u001b[39mif\u001b[39;00m obj \u001b[39mis\u001b[39;00m \u001b[39mNone\u001b[39;00m:\n\u001b[1;32m    261\u001b[0m         \u001b[39mreturn\u001b[39;00m \u001b[39mNone\u001b[39;00m\n",
      "File \u001b[0;32m~/Library/Python/3.9/lib/python/site-packages/PyPDF2/_reader.py:1205\u001b[0m, in \u001b[0;36mPdfReader.get_object\u001b[0;34m(self, indirect_reference)\u001b[0m\n\u001b[1;32m   1200\u001b[0m     \u001b[39mreturn\u001b[39;00m retval\n\u001b[1;32m   1201\u001b[0m \u001b[39mif\u001b[39;00m (\n\u001b[1;32m   1202\u001b[0m     indirect_reference\u001b[39m.\u001b[39mgeneration \u001b[39m==\u001b[39m \u001b[39m0\u001b[39m\n\u001b[1;32m   1203\u001b[0m     \u001b[39mand\u001b[39;00m indirect_reference\u001b[39m.\u001b[39midnum \u001b[39min\u001b[39;00m \u001b[39mself\u001b[39m\u001b[39m.\u001b[39mxref_objStm\n\u001b[1;32m   1204\u001b[0m ):\n\u001b[0;32m-> 1205\u001b[0m     retval \u001b[39m=\u001b[39m \u001b[39mself\u001b[39;49m\u001b[39m.\u001b[39;49m_get_object_from_stream(indirect_reference)  \u001b[39m# type: ignore\u001b[39;00m\n\u001b[1;32m   1206\u001b[0m \u001b[39melif\u001b[39;00m (\n\u001b[1;32m   1207\u001b[0m     indirect_reference\u001b[39m.\u001b[39mgeneration \u001b[39min\u001b[39;00m \u001b[39mself\u001b[39m\u001b[39m.\u001b[39mxref\n\u001b[1;32m   1208\u001b[0m     \u001b[39mand\u001b[39;00m indirect_reference\u001b[39m.\u001b[39midnum \u001b[39min\u001b[39;00m \u001b[39mself\u001b[39m\u001b[39m.\u001b[39mxref[indirect_reference\u001b[39m.\u001b[39mgeneration]\n\u001b[1;32m   1209\u001b[0m ):\n\u001b[1;32m   1210\u001b[0m     \u001b[39mif\u001b[39;00m \u001b[39mself\u001b[39m\u001b[39m.\u001b[39mxref_free_entry\u001b[39m.\u001b[39mget(indirect_reference\u001b[39m.\u001b[39mgeneration, {})\u001b[39m.\u001b[39mget(\n\u001b[1;32m   1211\u001b[0m         indirect_reference\u001b[39m.\u001b[39midnum, \u001b[39mFalse\u001b[39;00m\n\u001b[1;32m   1212\u001b[0m     ):\n",
      "File \u001b[0;32m~/Library/Python/3.9/lib/python/site-packages/PyPDF2/_reader.py:1136\u001b[0m, in \u001b[0;36mPdfReader._get_object_from_stream\u001b[0;34m(self, indirect_reference)\u001b[0m\n\u001b[1;32m   1130\u001b[0m \u001b[39mdef\u001b[39;00m \u001b[39m_get_object_from_stream\u001b[39m(\n\u001b[1;32m   1131\u001b[0m     \u001b[39mself\u001b[39m, indirect_reference: IndirectObject\n\u001b[1;32m   1132\u001b[0m ) \u001b[39m-\u001b[39m\u001b[39m>\u001b[39m Union[\u001b[39mint\u001b[39m, PdfObject, \u001b[39mstr\u001b[39m]:\n\u001b[1;32m   1133\u001b[0m     \u001b[39m# indirect reference to object in object stream\u001b[39;00m\n\u001b[1;32m   1134\u001b[0m     \u001b[39m# read the entire object stream into memory\u001b[39;00m\n\u001b[1;32m   1135\u001b[0m     stmnum, idx \u001b[39m=\u001b[39m \u001b[39mself\u001b[39m\u001b[39m.\u001b[39mxref_objStm[indirect_reference\u001b[39m.\u001b[39midnum]\n\u001b[0;32m-> 1136\u001b[0m     obj_stm: EncodedStreamObject \u001b[39m=\u001b[39m IndirectObject(stmnum, \u001b[39m0\u001b[39;49m, \u001b[39mself\u001b[39;49m)\u001b[39m.\u001b[39;49mget_object()  \u001b[39m# type: ignore\u001b[39;00m\n\u001b[1;32m   1137\u001b[0m     \u001b[39m# This is an xref to a stream, so its type better be a stream\u001b[39;00m\n\u001b[1;32m   1138\u001b[0m     \u001b[39massert\u001b[39;00m cast(\u001b[39mstr\u001b[39m, obj_stm[\u001b[39m\"\u001b[39m\u001b[39m/Type\u001b[39m\u001b[39m\"\u001b[39m]) \u001b[39m==\u001b[39m \u001b[39m\"\u001b[39m\u001b[39m/ObjStm\u001b[39m\u001b[39m\"\u001b[39m\n",
      "File \u001b[0;32m~/Library/Python/3.9/lib/python/site-packages/PyPDF2/generic/_base.py:259\u001b[0m, in \u001b[0;36mIndirectObject.get_object\u001b[0;34m(self)\u001b[0m\n\u001b[1;32m    258\u001b[0m \u001b[39mdef\u001b[39;00m \u001b[39mget_object\u001b[39m(\u001b[39mself\u001b[39m) \u001b[39m-\u001b[39m\u001b[39m>\u001b[39m Optional[\u001b[39m\"\u001b[39m\u001b[39mPdfObject\u001b[39m\u001b[39m\"\u001b[39m]:\n\u001b[0;32m--> 259\u001b[0m     obj \u001b[39m=\u001b[39m \u001b[39mself\u001b[39;49m\u001b[39m.\u001b[39;49mpdf\u001b[39m.\u001b[39;49mget_object(\u001b[39mself\u001b[39;49m)\n\u001b[1;32m    260\u001b[0m     \u001b[39mif\u001b[39;00m obj \u001b[39mis\u001b[39;00m \u001b[39mNone\u001b[39;00m:\n\u001b[1;32m    261\u001b[0m         \u001b[39mreturn\u001b[39;00m \u001b[39mNone\u001b[39;00m\n",
      "File \u001b[0;32m~/Library/Python/3.9/lib/python/site-packages/PyPDF2/_reader.py:1269\u001b[0m, in \u001b[0;36mPdfReader.get_object\u001b[0;34m(self, indirect_reference)\u001b[0m\n\u001b[1;32m   1267\u001b[0m         \u001b[39m# otherwise, decrypt here...\u001b[39;00m\n\u001b[1;32m   1268\u001b[0m         retval \u001b[39m=\u001b[39m cast(PdfObject, retval)\n\u001b[0;32m-> 1269\u001b[0m         retval \u001b[39m=\u001b[39m \u001b[39mself\u001b[39;49m\u001b[39m.\u001b[39;49m_encryption\u001b[39m.\u001b[39;49mdecrypt_object(\n\u001b[1;32m   1270\u001b[0m             retval, indirect_reference\u001b[39m.\u001b[39;49midnum, indirect_reference\u001b[39m.\u001b[39;49mgeneration\n\u001b[1;32m   1271\u001b[0m         )\n\u001b[1;32m   1272\u001b[0m \u001b[39melse\u001b[39;00m:\n\u001b[1;32m   1273\u001b[0m     \u001b[39mif\u001b[39;00m \u001b[39mhasattr\u001b[39m(\u001b[39mself\u001b[39m\u001b[39m.\u001b[39mstream, \u001b[39m\"\u001b[39m\u001b[39mgetbuffer\u001b[39m\u001b[39m\"\u001b[39m):\n",
      "File \u001b[0;32m~/Library/Python/3.9/lib/python/site-packages/PyPDF2/_encryption.py:761\u001b[0m, in \u001b[0;36mEncryption.decrypt_object\u001b[0;34m(self, obj, idnum, generation)\u001b[0m\n\u001b[1;32m    758\u001b[0m efCrypt \u001b[39m=\u001b[39m \u001b[39mself\u001b[39m\u001b[39m.\u001b[39m_get_crypt(\u001b[39mself\u001b[39m\u001b[39m.\u001b[39mEFF, rc4_key, aes128_key, aes256_key)\n\u001b[1;32m    760\u001b[0m cf \u001b[39m=\u001b[39m CryptFilter(stmCrypt, StrCrypt, efCrypt)\n\u001b[0;32m--> 761\u001b[0m \u001b[39mreturn\u001b[39;00m cf\u001b[39m.\u001b[39;49mdecrypt_object(obj)\n",
      "File \u001b[0;32m~/Library/Python/3.9/lib/python/site-packages/PyPDF2/_encryption.py:185\u001b[0m, in \u001b[0;36mCryptFilter.decrypt_object\u001b[0;34m(self, obj)\u001b[0m\n\u001b[1;32m    183\u001b[0m     obj \u001b[39m=\u001b[39m create_string_object(data)\n\u001b[1;32m    184\u001b[0m \u001b[39melif\u001b[39;00m \u001b[39misinstance\u001b[39m(obj, StreamObject):\n\u001b[0;32m--> 185\u001b[0m     obj\u001b[39m.\u001b[39m_data \u001b[39m=\u001b[39m \u001b[39mself\u001b[39;49m\u001b[39m.\u001b[39;49mstmCrypt\u001b[39m.\u001b[39;49mdecrypt(obj\u001b[39m.\u001b[39;49m_data)\n\u001b[1;32m    186\u001b[0m \u001b[39melif\u001b[39;00m \u001b[39misinstance\u001b[39m(obj, DictionaryObject):\n\u001b[1;32m    187\u001b[0m     \u001b[39mfor\u001b[39;00m dictkey, value \u001b[39min\u001b[39;00m \u001b[39mlist\u001b[39m(obj\u001b[39m.\u001b[39mitems()):\n",
      "File \u001b[0;32m~/Library/Python/3.9/lib/python/site-packages/PyPDF2/_encryption.py:147\u001b[0m, in \u001b[0;36mCryptAES.decrypt\u001b[0;34m(self, data)\u001b[0m\n\u001b[1;32m    146\u001b[0m \u001b[39mdef\u001b[39;00m \u001b[39mdecrypt\u001b[39m(\u001b[39mself\u001b[39m, data: \u001b[39mbytes\u001b[39m) \u001b[39m-\u001b[39m\u001b[39m>\u001b[39m \u001b[39mbytes\u001b[39m:\n\u001b[0;32m--> 147\u001b[0m     \u001b[39mraise\u001b[39;00m DependencyError(\u001b[39m\"\u001b[39m\u001b[39mPyCryptodome is required for AES algorithm\u001b[39m\u001b[39m\"\u001b[39m)\n",
      "\u001b[0;31mDependencyError\u001b[0m: PyCryptodome is required for AES algorithm"
     ]
    }
   ],
   "source": [
    "pdfFileObject = open(\"Users/kraymac/Documents/PythonHobby/HIIT/100-hiit-workouts.pdf\",'rb')\n",
    "pdfReader = PyPDF2.PdfReader(pdfFileObject)\n",
    "pageObj = pdfReader.pages[0]\n",
    "print(pageObj.extractText())"
   ]
  },
  {
   "cell_type": "code",
   "execution_count": null,
   "metadata": {},
   "outputs": [],
   "source": []
  }
 ],
 "metadata": {
  "kernelspec": {
   "display_name": "Python 3",
   "language": "python",
   "name": "python3"
  },
  "language_info": {
   "codemirror_mode": {
    "name": "ipython",
    "version": 3
   },
   "file_extension": ".py",
   "mimetype": "text/x-python",
   "name": "python",
   "nbconvert_exporter": "python",
   "pygments_lexer": "ipython3",
   "version": "3.9.6"
  },
  "orig_nbformat": 4,
  "vscode": {
   "interpreter": {
    "hash": "31f2aee4e71d21fbe5cf8b01ff0e069b9275f58929596ceb00d14d90e3e16cd6"
   }
  }
 },
 "nbformat": 4,
 "nbformat_minor": 2
}
