{
 "cells": [
  {
   "cell_type": "code",
   "execution_count": 1,
   "id": "65ceb0db-6435-4436-8ff0-830ce8267c46",
   "metadata": {},
   "outputs": [],
   "source": [
    "roll = [\"T\",\"I\",\"T\",\"M\"]\n",
    "\n"
   ]
  },
  {
   "cell_type": "code",
   "execution_count": 3,
   "id": "e1a4d9b9-e3c7-4da2-bf45-32aa0308e1fc",
   "metadata": {},
   "outputs": [
    {
     "name": "stdout",
     "output_type": "stream",
     "text": [
      "1\n",
      "2\n",
      "3\n",
      "4\n",
      "5\n",
      "6\n",
      "7\n",
      "8\n"
     ]
    }
   ],
   "source": [
    "for i in range(8):\n",
    "    print(i+1)"
   ]
  },
  {
   "cell_type": "code",
   "execution_count": 11,
   "id": "d74ce7a3-fbed-47c9-b80c-f36a3bc88419",
   "metadata": {},
   "outputs": [
    {
     "name": "stdout",
     "output_type": "stream",
     "text": [
      "T I T M T I T M \n"
     ]
    }
   ],
   "source": [
    "bar = ''\n",
    "l = [f'{c}{space}' for c in roll for space in [' ']]\n",
    "print (bar.join(l)*2)"
   ]
  },
  {
   "cell_type": "code",
   "execution_count": null,
   "id": "b181b56b-991f-416a-a8b1-2a35f7c48558",
   "metadata": {},
   "outputs": [],
   "source": []
  }
 ],
 "metadata": {
  "kernelspec": {
   "display_name": "Python 3",
   "language": "python",
   "name": "python3"
  },
  "language_info": {
   "codemirror_mode": {
    "name": "ipython",
    "version": 3
   },
   "file_extension": ".py",
   "mimetype": "text/x-python",
   "name": "python",
   "nbconvert_exporter": "python",
   "pygments_lexer": "ipython3",
   "version": "3.8.8"
  }
 },
 "nbformat": 4,
 "nbformat_minor": 5
}
