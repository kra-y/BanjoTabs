{
 "cells": [
  {
   "cell_type": "code",
   "execution_count": null,
   "id": "960ef5bd-4f70-4277-8981-0df6545d124f",
   "metadata": {
    "tags": []
   },
   "outputs": [],
   "source": [
    "# so now that I have banjo chords, lets make a roll dictionary.\n",
    "#if we break a bar into 16th notes there are 4 4-note rolls that can occur.\n",
    "#each roll is made up of 4 notes that can be played with the thumb (T), middle finger (M), and index finger (I)\n",
    "# so the first bar has 24 possible rolls, and any bar after the first has 8 possible rolls so there needs to be a previous finger argument return 24 rolls if empty, and 8 rolls if not empty\n",
    "\n",
    "#let's write code to figure out the right hand fingerings for all 24 permutaions first bar rolls\n",
    "#List of right hand fingers\n",
    "\n",
    "\n",
    "\n"
   ]
  },
  {
   "cell_type": "code",
   "execution_count": 3,
   "id": "96b61706-b626-4fc2-880f-d7cb3cea2088",
   "metadata": {},
   "outputs": [],
   "source": [
    "#the following code checks to see if two values appear twice in a row\n",
    "def twice_in_a_row(l):\n",
    "    repeat_count = []\n",
    "    for i in range(1,len(l)):\n",
    "        if l[i-1]==l[i]:\n",
    "            repeat_count.append(1)\n",
    "        else:\n",
    "            repeat_count.append(0)\n",
    "    if sum(repeat_count)>0:\n",
    "        return True\n",
    "    else:\n",
    "        return False"
   ]
  },
  {
   "cell_type": "code",
   "execution_count": 4,
   "id": "e1f75b9f-f420-4032-a2ef-a778406ef60e",
   "metadata": {},
   "outputs": [],
   "source": [
    "import itertools\n",
    "intermediate_rolls = []\n",
    "rolls = list(itertools.product('IMT',repeat = 4))\n",
    "for roll in rolls:\n",
    "    lroll = list(roll)\n",
    "    if not twice_in_a_row(lroll):\n",
    "        intermediate_rolls.append(roll)\n",
    "\n",
    "        "
   ]
  },
  {
   "cell_type": "code",
   "execution_count": 5,
   "id": "e945ade6-531b-464c-b934-8e71757df49b",
   "metadata": {},
   "outputs": [
    {
     "name": "stdout",
     "output_type": "stream",
     "text": [
      "{0: ('I', 'M', 'I', 'M'), 1: ('I', 'M', 'I', 'T'), 2: ('I', 'M', 'T', 'I'), 3: ('I', 'M', 'T', 'M'), 4: ('I', 'T', 'I', 'M'), 5: ('I', 'T', 'I', 'T'), 6: ('I', 'T', 'M', 'I'), 7: ('I', 'T', 'M', 'T'), 8: ('M', 'I', 'M', 'I'), 9: ('M', 'I', 'M', 'T'), 10: ('M', 'I', 'T', 'I'), 11: ('M', 'I', 'T', 'M'), 12: ('M', 'T', 'I', 'M'), 13: ('M', 'T', 'I', 'T'), 14: ('M', 'T', 'M', 'I'), 15: ('M', 'T', 'M', 'T'), 16: ('T', 'I', 'M', 'I'), 17: ('T', 'I', 'M', 'T'), 18: ('T', 'I', 'T', 'I'), 19: ('T', 'I', 'T', 'M'), 20: ('T', 'M', 'I', 'M'), 21: ('T', 'M', 'I', 'T'), 22: ('T', 'M', 'T', 'I'), 23: ('T', 'M', 'T', 'M')}\n"
     ]
    }
   ],
   "source": [
    "#create a roll dictionary with all the intermediate rolls\n",
    "roll_dict = {}\n",
    "keys = range(len(intermediate_rolls))\n",
    "for roll in keys:\n",
    "    roll_dict[roll] = intermediate_rolls[roll]\n",
    "print(roll_dict)\n",
    "        "
   ]
  },
  {
   "cell_type": "code",
   "execution_count": null,
   "id": "2dc673f8-5d38-4285-b893-b3f92b677355",
   "metadata": {},
   "outputs": [],
   "source": [
    "#now create a dictioanary to correspond with the string that each of the three fingers can pluck (INTERMEDIATE)\n",
    "\n",
    "RHString_dict = {'M':[1,2],'I':[2,3],'T':[3,4,5]}\n"
   ]
  }
 ],
 "metadata": {
  "kernelspec": {
   "display_name": "Python 3",
   "language": "python",
   "name": "python3"
  },
  "language_info": {
   "codemirror_mode": {
    "name": "ipython",
    "version": 3
   },
   "file_extension": ".py",
   "mimetype": "text/x-python",
   "name": "python",
   "nbconvert_exporter": "python",
   "pygments_lexer": "ipython3",
   "version": "3.8.8"
  }
 },
 "nbformat": 4,
 "nbformat_minor": 5
}
