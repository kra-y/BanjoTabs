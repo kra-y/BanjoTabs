{
 "cells": [
  {
   "cell_type": "code",
   "execution_count": 3,
   "id": "c17b3d55-f17b-4262-a27f-fd9bef87a1f6",
   "metadata": {},
   "outputs": [],
   "source": [
    "#now that fingerings are mapped we can start a chord dictionary\n",
    "#playing an open string is coded as \"0\", and a muted note or string not plucked is coded as \"\"\n",
    "banjChordLHF = {\"C Major\":[\"C\",\"E\",\"G\"]}\n",
    "                "
   ]
  },
  {
   "cell_type": "code",
   "execution_count": 4,
   "id": "26307a9b-a0cb-4595-9cf7-12eacf0811e9",
   "metadata": {},
   "outputs": [
    {
     "ename": "NameError",
     "evalue": "name 'banjStringAsc' is not defined",
     "output_type": "error",
     "traceback": [
      "\u001b[0;31m---------------------------------------------------------------------------\u001b[0m",
      "\u001b[0;31mNameError\u001b[0m                                 Traceback (most recent call last)",
      "\u001b[0;32m<ipython-input-4-ab949d14b6e5>\u001b[0m in \u001b[0;36m<module>\u001b[0;34m\u001b[0m\n\u001b[1;32m     13\u001b[0m \u001b[0;34m\u001b[0m\u001b[0m\n\u001b[1;32m     14\u001b[0m \u001b[0;31m#this code lists the fret of every occurence of \"c\" on each of the 5 strings\u001b[0m\u001b[0;34m\u001b[0m\u001b[0;34m\u001b[0m\u001b[0;34m\u001b[0m\u001b[0m\n\u001b[0;32m---> 15\u001b[0;31m \u001b[0;32mfor\u001b[0m \u001b[0mstring\u001b[0m \u001b[0;32min\u001b[0m \u001b[0mbanjStringAsc\u001b[0m\u001b[0;34m:\u001b[0m\u001b[0;34m\u001b[0m\u001b[0;34m\u001b[0m\u001b[0m\n\u001b[0m\u001b[1;32m     16\u001b[0m     \u001b[0mprint\u001b[0m\u001b[0;34m(\u001b[0m\u001b[0;34m[\u001b[0m\u001b[0mx\u001b[0m\u001b[0;34m.\u001b[0m\u001b[0mlower\u001b[0m\u001b[0;34m(\u001b[0m\u001b[0;34m)\u001b[0m \u001b[0;32mfor\u001b[0m \u001b[0mx\u001b[0m \u001b[0;32min\u001b[0m \u001b[0mbanjStringAsc\u001b[0m\u001b[0;34m[\u001b[0m\u001b[0mstring\u001b[0m\u001b[0;34m]\u001b[0m\u001b[0;34m]\u001b[0m\u001b[0;34m.\u001b[0m\u001b[0mindex\u001b[0m\u001b[0;34m(\u001b[0m\u001b[0;34m\"c\"\u001b[0m\u001b[0;34m)\u001b[0m\u001b[0;34m)\u001b[0m\u001b[0;34m\u001b[0m\u001b[0;34m\u001b[0m\u001b[0m\n\u001b[1;32m     17\u001b[0m \u001b[0;34m\u001b[0m\u001b[0m\n",
      "\u001b[0;31mNameError\u001b[0m: name 'banjStringAsc' is not defined"
     ]
    }
   ],
   "source": [
    "#maybe there's a way to populate the dictionary just using the three notes that make up the chord\n",
    "\n",
    "#######################################################################################################################################\n",
    "# so the write chord should take the inputs of the notes that make up the chord and select the fingerings on the mbnajo within 4 steps#\n",
    "#######################################################################################################################################\n",
    "# return the notes on the string\n",
    "\n",
    "\n",
    "\n",
    "#[x for x in range(10) if x % 2 == 0]\n",
    "\n",
    "\n",
    "\n",
    "#this code lists the fret of every occurence of \"c\" on each of the 5 strings\n",
    "for string in banjStringAsc:\n",
    "    print([x.lower() for x in banjStringAsc[string]].index(\"c\"))\n",
    "\n",
    "    \n",
    "#def write_fingerings(note1,note2,note3):\n",
    "\n",
    "\n",
    "\n",
    "# CMaj = C,E,G"
   ]
  },
  {
   "cell_type": "code",
   "execution_count": 5,
   "id": "259df464-8a9d-4a7a-b075-bfa9fdf60f35",
   "metadata": {},
   "outputs": [
    {
     "ename": "NameError",
     "evalue": "name 'banjStringAsc' is not defined",
     "output_type": "error",
     "traceback": [
      "\u001b[0;31m---------------------------------------------------------------------------\u001b[0m",
      "\u001b[0;31mNameError\u001b[0m                                 Traceback (most recent call last)",
      "\u001b[0;32m<ipython-input-5-e24129e335d2>\u001b[0m in \u001b[0;36m<module>\u001b[0;34m\u001b[0m\n\u001b[1;32m      5\u001b[0m         \u001b[0;32mfor\u001b[0m \u001b[0mstring\u001b[0m \u001b[0;32min\u001b[0m \u001b[0mbanjStringAsc\u001b[0m\u001b[0;34m:\u001b[0m\u001b[0;34m\u001b[0m\u001b[0;34m\u001b[0m\u001b[0m\n\u001b[1;32m      6\u001b[0m             \u001b[0mprint\u001b[0m\u001b[0;34m(\u001b[0m\u001b[0;34m[\u001b[0m\u001b[0mx\u001b[0m\u001b[0;34m.\u001b[0m\u001b[0mlower\u001b[0m\u001b[0;34m(\u001b[0m\u001b[0;34m)\u001b[0m\u001b[0;34m.\u001b[0m\u001b[0mstrip\u001b[0m\u001b[0;34m(\u001b[0m\u001b[0;34m\"1\"\u001b[0m\u001b[0;34m)\u001b[0m \u001b[0;32mfor\u001b[0m \u001b[0mx\u001b[0m \u001b[0;32min\u001b[0m \u001b[0mbanjStringAsc\u001b[0m\u001b[0;34m[\u001b[0m\u001b[0mstring\u001b[0m\u001b[0;34m]\u001b[0m\u001b[0;34m]\u001b[0m\u001b[0;34m.\u001b[0m\u001b[0mindex\u001b[0m\u001b[0;34m(\u001b[0m\u001b[0mnote\u001b[0m\u001b[0;34m)\u001b[0m\u001b[0;34m)\u001b[0m\u001b[0;34m\u001b[0m\u001b[0;34m\u001b[0m\u001b[0m\n\u001b[0;32m----> 7\u001b[0;31m \u001b[0mchord_fingering\u001b[0m\u001b[0;34m(\u001b[0m\u001b[0;34m\"C\"\u001b[0m\u001b[0;34m,\u001b[0m\u001b[0;34m\"E\"\u001b[0m\u001b[0;34m,\u001b[0m\u001b[0;34m\"G\"\u001b[0m\u001b[0;34m)\u001b[0m\u001b[0;34m\u001b[0m\u001b[0;34m\u001b[0m\u001b[0m\n\u001b[0m",
      "\u001b[0;32m<ipython-input-5-e24129e335d2>\u001b[0m in \u001b[0;36mchord_fingering\u001b[0;34m(note1, note2, note3)\u001b[0m\n\u001b[1;32m      3\u001b[0m     \u001b[0mfingerings\u001b[0m \u001b[0;34m=\u001b[0m \u001b[0;34m[\u001b[0m\u001b[0;34m]\u001b[0m\u001b[0;34m\u001b[0m\u001b[0;34m\u001b[0m\u001b[0m\n\u001b[1;32m      4\u001b[0m     \u001b[0;32mfor\u001b[0m \u001b[0mnote\u001b[0m \u001b[0;32min\u001b[0m \u001b[0mchord\u001b[0m\u001b[0;34m:\u001b[0m\u001b[0;34m\u001b[0m\u001b[0;34m\u001b[0m\u001b[0m\n\u001b[0;32m----> 5\u001b[0;31m         \u001b[0;32mfor\u001b[0m \u001b[0mstring\u001b[0m \u001b[0;32min\u001b[0m \u001b[0mbanjStringAsc\u001b[0m\u001b[0;34m:\u001b[0m\u001b[0;34m\u001b[0m\u001b[0;34m\u001b[0m\u001b[0m\n\u001b[0m\u001b[1;32m      6\u001b[0m             \u001b[0mprint\u001b[0m\u001b[0;34m(\u001b[0m\u001b[0;34m[\u001b[0m\u001b[0mx\u001b[0m\u001b[0;34m.\u001b[0m\u001b[0mlower\u001b[0m\u001b[0;34m(\u001b[0m\u001b[0;34m)\u001b[0m\u001b[0;34m.\u001b[0m\u001b[0mstrip\u001b[0m\u001b[0;34m(\u001b[0m\u001b[0;34m\"1\"\u001b[0m\u001b[0;34m)\u001b[0m \u001b[0;32mfor\u001b[0m \u001b[0mx\u001b[0m \u001b[0;32min\u001b[0m \u001b[0mbanjStringAsc\u001b[0m\u001b[0;34m[\u001b[0m\u001b[0mstring\u001b[0m\u001b[0;34m]\u001b[0m\u001b[0;34m]\u001b[0m\u001b[0;34m.\u001b[0m\u001b[0mindex\u001b[0m\u001b[0;34m(\u001b[0m\u001b[0mnote\u001b[0m\u001b[0;34m)\u001b[0m\u001b[0;34m)\u001b[0m\u001b[0;34m\u001b[0m\u001b[0;34m\u001b[0m\u001b[0m\n\u001b[1;32m      7\u001b[0m \u001b[0mchord_fingering\u001b[0m\u001b[0;34m(\u001b[0m\u001b[0;34m\"C\"\u001b[0m\u001b[0;34m,\u001b[0m\u001b[0;34m\"E\"\u001b[0m\u001b[0;34m,\u001b[0m\u001b[0;34m\"G\"\u001b[0m\u001b[0;34m)\u001b[0m\u001b[0;34m\u001b[0m\u001b[0;34m\u001b[0m\u001b[0m\n",
      "\u001b[0;31mNameError\u001b[0m: name 'banjStringAsc' is not defined"
     ]
    }
   ],
   "source": [
    "def chord_fingering(note1,note2,note3):\n",
    "    chord = [note1.lower(),note2.lower(),note3.lower()]\n",
    "    fingerings = []\n",
    "    for note in chord:\n",
    "        for string in banjStringAsc:\n",
    "            print([x.lower().strip(\"1\") for x in banjStringAsc[string]].index(note))\n",
    "chord_fingering(\"C\",\"E\",\"G\")"
   ]
  },
  {
   "cell_type": "code",
   "execution_count": 6,
   "id": "ca832e28-f36d-4a0a-9ef7-a4761378675d",
   "metadata": {},
   "outputs": [],
   "source": [
    "#I'm going about this all wrong\n",
    "\n",
    "# The first step is to find the index of the first occurence of C and E or a G first occurence of a C, an E, or a G on the banjo and append the\n",
    "# then find every instance of a C, an E or a G on the next string up and delete\n",
    "\n",
    "# the last step needs to be remove any index 5 or lower from the high g string. or if it does equal 5 that needs to be a 0"
   ]
  },
  {
   "cell_type": "code",
   "execution_count": 71,
   "id": "d04d15bc-ff1d-4b2e-8f13-a6fdf876eca3",
   "metadata": {},
   "outputs": [],
   "source": [
    "#Dictionary that uses the banjo string as the key, and the nth element as the note played on that fret\n",
    "#since the high g (or 5th string on a banjo) does not include the first four frets I decided to make the 0th through the 4th frets map to an empty note)\n",
    "TabBanjo = {\"d\":[\"d\",\"d#\",\"e\",\"f\",\"f#\",\"g\",\"g#\",\"a\",\"a#\",\"b\",\"c\",\"c#\",\"d\",\"d#\",\"e\",\"f\",\"f#\",\"g\",\"g#\",\"a\",\"a#\",\"b\",\"c\"],\n",
    "                 \"B\":[\"b\",\"c\",\"c#\",\"d\",\"c#\",\"e\",\"f\",\"f#\",\"g\",\"g#\",\"a\",\"a#\",\"b\",\"c\",\"c#\",\"d\",\"d#\",\"e\",\"f\",\"f#\",\"g\",\"g#\",\"a\"],\n",
    "                 \"G\":[\"g\",\"g#\",\"a\",\"a#\",\"b\",\"c\",\"c#\",\"d\",\"d#\",\"e\",\"f\",\"f#\",\"g\",\"g#\",\"a\",\"a#\",\"b\",\"c\",\"c#\",\"d\",\"d#\",\"e\",\"f\"],\n",
    "                 \"D\":[\"d\",\"d#\",\"e\",\"f\",\"f#\",\"g\",\"g#\",\"a\",\"a#\",\"b\",\"c\",\"c#\",\"d\",\"d#\",\"e\",\"f\",\"f#\",\"g\",\"g#\",\"a\",\"a#\",\"b\",\"c\"],\n",
    "                 \"g\":[\"d\",\"d#\",\"e\",\"f\",\"f#\",\"g\",\"g#\",\"a\",\"a#\",\"b\",\"c\",\"c#\",\"d\",\"d#\",\"e\",\"f\",\"f#\",\"g\",\"g#\",\"a\",\"a#\",\"b\",\"c\",\"m\"]}\n",
    "HeldBanjo = reversed(TabBanjo)\n",
    "\n"
   ]
  },
  {
   "cell_type": "code",
   "execution_count": 72,
   "id": "da65e071-3e2d-4c97-a9b0-d76fb1072308",
   "metadata": {},
   "outputs": [
    {
     "name": "stdout",
     "output_type": "stream",
     "text": [
      "10\n",
      "1\n",
      "5\n",
      "10\n",
      "10\n"
     ]
    }
   ],
   "source": [
    "frets = []\n",
    "for string in TabBanjo:\n",
    "    print(TabBanjo[string].index(\"c\"))\n",
    "#     frets.append(string.index(\"c\"))\n",
    "# print(frets)"
   ]
  },
  {
   "cell_type": "code",
   "execution_count": 73,
   "id": "7b17e3ff-03a0-49f4-833e-a26de60177ca",
   "metadata": {
    "tags": []
   },
   "outputs": [
    {
     "ename": "SyntaxError",
     "evalue": "invalid syntax (<ipython-input-73-8c85f82ac69c>, line 21)",
     "output_type": "error",
     "traceback": [
      "\u001b[0;36m  File \u001b[0;32m\"<ipython-input-73-8c85f82ac69c>\"\u001b[0;36m, line \u001b[0;32m21\u001b[0m\n\u001b[0;31m    elif:\u001b[0m\n\u001b[0m        ^\u001b[0m\n\u001b[0;31mSyntaxError\u001b[0m\u001b[0;31m:\u001b[0m invalid syntax\n"
     ]
    }
   ],
   "source": [
    "#code to return the list of all the frets for each note in a given chord on every string of the banjo\n",
    "notes = [\"d#\",\"a#\",\"f#\"]\n",
    "d_string = [i for i,x in enumerate(TabBanjo[\"d\"])if x in notes]\n",
    "B_string = [i for i,x in enumerate(TabBanjo[\"B\"])if x in notes]\n",
    "G_string = [i for i,x in enumerate(TabBanjo[\"G\"])if x in notes]\n",
    "D_string = [i for i,x in enumerate(TabBanjo[\"D\"])if x in notes]\n",
    "g_string = [i for i,x in enumerate(TabBanjo[\"g\"])if x in notes]\n",
    "\n",
    "# print(g_string)\n",
    "\n",
    "# for string in TabBanjo:\n",
    "#     chord_notes = [i for i, x in enumerate(TabBanjo[string]) if x  in [\"c\",\"e\",\"g\",\"d#\"]]\n",
    "#     print(string,chord_notes)\n",
    "chords = itertools.product(g_string,D_string,G_string,B_string,d_string)\n",
    "\n",
    "\n",
    "for i in chords:\n",
    "    i = list(i)\n",
    "    if i[0]<=5 and \"g\"  not in notes:\n",
    "        i[0] = 'm'\n",
    "    elif:\n",
    "        i[0]<=5 and 'g' in notes:\n",
    "            i[0] = 0\n",
    "\n",
    "    else:\n",
    "print(i)\n",
    "\n",
    "#the next step is to create a bunch of practical chords that  can be formed on a banjo fret board.\n",
    "#I think this will mean using itertools (at the very least stack overflow)\n",
    "\n",
    "# the process needs to select one value from each list\n",
    "# starting at\n",
    "# for i in chords:\n",
    "#         i = list(i)\n",
    "#         if i[0]<5:"
   ]
  },
  {
   "cell_type": "code",
   "execution_count": null,
   "id": "9386b666-7477-44f6-957b-5861335d5046",
   "metadata": {},
   "outputs": [],
   "source": [
    "    "
   ]
  },
  {
   "cell_type": "code",
   "execution_count": null,
   "id": "51b6176e-0c9c-4870-b593-45b49cc237dc",
   "metadata": {},
   "outputs": [],
   "source": []
  },
  {
   "cell_type": "raw",
   "id": "52b2ade8-97ae-4616-aaf1-7a0def0a1331",
   "metadata": {},
   "source": []
  },
  {
   "cell_type": "code",
   "execution_count": 74,
   "id": "df612f62-6b64-46dc-b005-68d29ffc8cf3",
   "metadata": {},
   "outputs": [],
   "source": [
    "import itertools\n",
    "def get_chords(dct,note1,note2,note3,note4):\n",
    "    notes = [note1,note2,note3,note4]\n",
    "    doable_chords = []\n",
    "    #make a list of all the notes on the high d that appear in the notes list\n",
    "    d_string = [i for i,x in enumerate(dct[\"d\"])if x in notes]\n",
    "    #make a list of all the notes on the B that appear in the notes list\n",
    "    B_string = [i for i,x in enumerate(dct[\"B\"])if x in notes]\n",
    "    #make a list of all the notes on the G that appear in the notes list\n",
    "    G_string = [i for i,x in enumerate(dct[\"G\"])if x in notes]\n",
    "    #make a list of all the notes on the D that appear in the notes list\n",
    "    D_string = [i for i,x in enumerate(dct[\"D\"])if x in notes]\n",
    "    #make a list of all the notes on the high g that appear in the notes list\n",
    "    g_string = [i for i,x in enumerate(dct[\"g\"])if x in notes]\n",
    "    chords = itertools.product(g_string,D_string,G_string,B_string,d_string)\n",
    "    doable_chords = []\n",
    "    for i in chords:\n",
    "        i = list(i)\n",
    "        \n",
    "        if (max(i) - min(i))<=3:\n",
    "            doable_chords.append(i)\n",
    "    for chord in doable_chords:\n",
    "        if chord[0]<=5 and 'g' not in notes:\n",
    "            chord[0] = 'm'\n",
    "    return doable_chords\n",
    "    \n",
    "    "
   ]
  },
  {
   "cell_type": "code",
   "execution_count": 79,
   "id": "e86423c6-8891-459f-b404-d3677c25f16e",
   "metadata": {},
   "outputs": [],
   "source": [
    "C_Major = get_chords(TabBanjo,\"e\",\"c\",\"g\",\"g\")\n",
    "# C_Major = get_chords(TabBanjo,\"e\",\"c\",\"g\",\"g\")\n",
    "# C_Minor = get_chords(TabBanjo,\"c\",\"d#\",\"g\",\"g\")\n",
    "# C_aug = get_chords(TabBanjo,\"c\",\"e\",\"g#\",\"e\")\n",
    "# Cb5 = get_chords(TabBanjo,\"c\",\"e\",\"f#\",\"e\")\n",
    "# C_dim = get_chords(TabBanjo,\"c\",\"d#\",\"g#\",\"c\")\n",
    "# C_sus = get_chords(TabBanjo,\"c\",\"d\",\"g\",\"g\")\n",
    "# C_sus2b5 = get_chords(TabBanjo,\"c\",\"d\",\"f#\",\"d\")\n",
    "# C_sus4 = get_chords(TabBanjo,\"c\",\"f\",\"g\",\"g\")\n",
    "# C5 = get_chords(TabBanjo,\"c\",\"g\",\"g\",\"g\")\n",
    "# C7 = get_chords(TabBanjo,\"c\",\"a#\",\"g\",\"e\")\n",
    "Gmin7 = get_chords(TabBanjo,\"g\",\"a#\",\"d\",\"f\")\n",
    "\n",
    "Gsharpmin7 = get_chords(TabBanjo,\"g#\",\"b\",\"d#\",\"f#\")\n",
    "Fsharpmin7 = get_chords(TabBanjo, \"f#\",\"c#\",\"a\",\"e\")\n",
    "B7 = get_chords(TabBanjo,\"b\",\"d#\",\"f#\",\"a\")\n",
    "E = get_chords(TabBanjo,\"e\",\"g#\",\"b\",\"b\")\n",
    "E7 = get_chords(TabBanjo,\"e\",\"g#\",\"b\",\"d\")\n",
    "# kinda buggy. Coercing the the high g to a 0 every time doesn't make good sounding chords.\n",
    "\n",
    "# a full chord dictionary would be cool\n",
    "\n",
    "# maybe that's soemthing to work on"
   ]
  },
  {
   "cell_type": "code",
   "execution_count": 80,
   "id": "1fd6cf41-99f3-4895-9c54-19f0bd702efa",
   "metadata": {},
   "outputs": [
    {
     "name": "stdout",
     "output_type": "stream",
     "text": [
      "G#min7 [['m', 1, 1, 0, 1], ['m', 4, 4, 7, 4], ['m', 4, 4, 7, 6], ['m', 6, 4, 7, 4], ['m', 6, 4, 7, 6], [6, 4, 4, 7, 4], [6, 4, 4, 7, 6], [6, 6, 4, 7, 4], [6, 6, 4, 7, 6], [6, 6, 8, 7, 6], [6, 6, 8, 7, 9], [6, 6, 8, 9, 6], [6, 6, 8, 9, 9], [6, 9, 8, 7, 6], [6, 9, 8, 7, 9], [6, 9, 8, 9, 6], [6, 9, 8, 9, 9], [9, 6, 8, 7, 6], [9, 6, 8, 7, 9], [9, 6, 8, 9, 6], [9, 6, 8, 9, 9], [9, 9, 8, 7, 6], [9, 9, 8, 7, 9], [9, 9, 8, 9, 6], [9, 9, 8, 9, 9], [9, 9, 11, 9, 9], [9, 9, 11, 12, 9], [13, 13, 11, 12, 13], [13, 13, 13, 12, 13], [13, 13, 13, 16, 13], [13, 13, 13, 16, 16], [13, 13, 16, 16, 13], [13, 13, 16, 16, 16], [13, 16, 13, 16, 13], [13, 16, 13, 16, 16], [13, 16, 16, 16, 13], [13, 16, 16, 16, 16], [16, 13, 13, 16, 13], [16, 13, 13, 16, 16], [16, 13, 16, 16, 13], [16, 13, 16, 16, 16], [16, 16, 13, 16, 13], [16, 16, 13, 16, 16], [16, 16, 16, 16, 13], [16, 16, 16, 16, 16], [16, 16, 16, 16, 18], [16, 16, 16, 19, 16], [16, 16, 16, 19, 18], [16, 18, 16, 16, 16], [16, 18, 16, 16, 18], [16, 18, 16, 19, 16], [16, 18, 16, 19, 18], [18, 16, 16, 16, 16], [18, 16, 16, 16, 18], [18, 16, 16, 19, 16], [18, 16, 16, 19, 18], [18, 18, 16, 16, 16], [18, 18, 16, 16, 18], [18, 18, 16, 19, 16], [18, 18, 16, 19, 18], [18, 18, 20, 19, 18], [18, 18, 20, 19, 21], [18, 18, 20, 21, 18], [18, 18, 20, 21, 21], [18, 21, 20, 19, 18], [18, 21, 20, 19, 21], [18, 21, 20, 21, 18], [18, 21, 20, 21, 21], [21, 18, 20, 19, 18], [21, 18, 20, 19, 21], [21, 18, 20, 21, 18], [21, 18, 20, 21, 21], [21, 21, 20, 19, 18], [21, 21, 20, 19, 21], [21, 21, 20, 21, 18], [21, 21, 20, 21, 21]]\n",
      "[['m', 0, 1, 0, 0], ['m', 0, 1, 0, 2], ['m', 0, 1, 3, 0], ['m', 0, 1, 3, 2], ['m', 2, 1, 0, 0], ['m', 2, 1, 0, 2], ['m', 2, 1, 3, 0], ['m', 2, 1, 3, 2], ['m', 0, 1, 0, 0], ['m', 0, 1, 0, 2], ['m', 0, 1, 3, 0], ['m', 0, 1, 3, 2], ['m', 2, 1, 0, 0], ['m', 2, 1, 0, 2], ['m', 2, 1, 3, 0], ['m', 2, 1, 3, 2], ['m', 2, 4, 3, 2], ['m', 2, 4, 5, 2], [6, 6, 4, 3, 6], [6, 6, 4, 5, 6], [6, 6, 7, 5, 6], [6, 6, 7, 9, 6], [6, 6, 7, 9, 9], [6, 6, 9, 9, 6], [6, 6, 9, 9, 9], [6, 9, 7, 9, 6], [6, 9, 7, 9, 9], [6, 9, 9, 9, 6], [6, 9, 9, 9, 9], [9, 6, 7, 9, 6], [9, 6, 7, 9, 9], [9, 6, 9, 9, 6], [9, 6, 9, 9, 9], [9, 9, 7, 9, 6], [9, 9, 7, 9, 9], [9, 9, 9, 9, 6], [9, 9, 9, 9, 9], [9, 9, 9, 9, 12], [9, 9, 9, 12, 9], [9, 9, 9, 12, 12], [9, 12, 9, 9, 9], [9, 12, 9, 9, 12], [9, 12, 9, 12, 9], [9, 12, 9, 12, 12], [12, 9, 9, 9, 9], [12, 9, 9, 9, 12], [12, 9, 9, 12, 9], [12, 9, 9, 12, 12], [12, 12, 9, 9, 9], [12, 12, 9, 9, 12], [12, 12, 9, 12, 9], [12, 12, 9, 12, 12], [12, 12, 13, 12, 12], [12, 12, 13, 12, 14], [12, 12, 13, 15, 12], [12, 12, 13, 15, 14], [12, 14, 13, 12, 12], [12, 14, 13, 12, 14], [12, 14, 13, 15, 12], [12, 14, 13, 15, 14], [14, 12, 13, 12, 12], [14, 12, 13, 12, 14], [14, 12, 13, 15, 12], [14, 12, 13, 15, 14], [14, 14, 13, 12, 12], [14, 14, 13, 12, 14], [14, 14, 13, 15, 12], [14, 14, 13, 15, 14], [14, 14, 16, 15, 14], [14, 14, 16, 17, 14], [18, 18, 16, 15, 18], [18, 18, 16, 17, 18], [18, 18, 19, 17, 18], [18, 18, 19, 21, 18], [18, 18, 19, 21, 21], [18, 18, 21, 21, 18], [18, 18, 21, 21, 21], [18, 21, 19, 21, 18], [18, 21, 19, 21, 21], [18, 21, 21, 21, 18], [18, 21, 21, 21, 21], [21, 18, 19, 21, 18], [21, 18, 19, 21, 21], [21, 18, 21, 21, 18], [21, 18, 21, 21, 21], [21, 21, 19, 21, 18], [21, 21, 19, 21, 21], [21, 21, 21, 21, 18], [21, 21, 21, 21, 21]]\n"
     ]
    }
   ],
   "source": [
    "# print('E',E[2])\n",
    "print('G#min7', Gsharpmin7)\n",
    "# print('Gmin7',Gmin7[2])\n",
    "# print('F#min7',Fsharpmin7[0])\n",
    "# print('B7',B7[0])\n",
    "print(E7)"
   ]
  },
  {
   "cell_type": "code",
   "execution_count": 112,
   "id": "67c52b68-9822-4f94-81f6-158b11899e95",
   "metadata": {
    "tags": []
   },
   "outputs": [
    {
     "name": "stdout",
     "output_type": "stream",
     "text": [
      "{'d': ['d', 'd#', 'e', 'f', 'f#', 'g', 'g#', 'a', 'a#', 'b', 'c', 'c#', 'd', 'd#', 'e', 'f', 'f#', 'g', 'g#', 'a', 'a#', 'b', 'c'], 'B': ['b', 'c', 'c#', 'd', 'c#', 'e', 'f', 'f#', 'g', 'g#', 'a', 'a#', 'b', 'c', 'c#', 'd', 'd#', 'e', 'f', 'f#', 'g', 'g#', 'a'], 'G': ['g', 'g#', 'a', 'a#', 'b', 'c', 'c#', 'd', 'd#', 'e', 'f', 'f#', 'g', 'g#', 'a', 'a#', 'b', 'c', 'c#', 'd', 'd#', 'e', 'f'], 'D': ['d', 'd#', 'e', 'f', 'f#', 'g', 'g#', 'a', 'a#', 'b', 'c', 'c#', 'd', 'd#', 'e', 'f', 'f#', 'g', 'g#', 'a', 'a#', 'b', 'c'], 'g': ['d', 'd#', 'e', 'f', 'f#', 'g', 'g#', 'a', 'a#', 'b', 'c', 'c#', 'd', 'd#', 'e', 'f', 'f#', 'g', 'g#', 'a', 'a#', 'b', 'c']}\n"
     ]
    }
   ],
   "source": []
  },
  {
   "cell_type": "code",
   "execution_count": null,
   "id": "91d61f05-548a-4fcb-be66-e30be3281fb5",
   "metadata": {},
   "outputs": [],
   "source": []
  }
 ],
 "metadata": {
  "kernelspec": {
   "display_name": "Python 3",
   "language": "python",
   "name": "python3"
  },
  "language_info": {
   "codemirror_mode": {
    "name": "ipython",
    "version": 3
   },
   "file_extension": ".py",
   "mimetype": "text/x-python",
   "name": "python",
   "nbconvert_exporter": "python",
   "pygments_lexer": "ipython3",
   "version": "3.8.8"
  }
 },
 "nbformat": 4,
 "nbformat_minor": 5
}
