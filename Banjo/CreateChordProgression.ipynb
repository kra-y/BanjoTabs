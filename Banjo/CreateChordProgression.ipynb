{
 "cells": [
  {
   "cell_type": "code",
   "execution_count": null,
   "id": "05d4f32c-423f-4c25-80ee-faaf9af5853b",
   "metadata": {},
   "outputs": [],
   "source": [
    "TabBanjo = {\"d\":[\"d\",\"d#\",\"e\",\"f\",\"f#\",\"g\",\"g#\",\"a\",\"a#\",\"b\",\"c\",\"c#\",\"d\",\"d#\",\"e\",\"f\",\"f#\",\"g\",\"g#\",\"a\",\"a#\",\"b\",\"c\"],\n",
    "                 \"B\":[\"b\",\"c\",\"c#\",\"d\",\"c#\",\"e\",\"f\",\"f#\",\"g\",\"g#\",\"a\",\"a#\",\"b\",\"c\",\"c#\",\"d\",\"d#\",\"e\",\"f\",\"f#\",\"g\",\"g#\",\"a\"],\n",
    "                 \"G\":[\"g\",\"g#\",\"a\",\"a#\",\"b\",\"c\",\"c#\",\"d\",\"d#\",\"e\",\"f\",\"f#\",\"g\",\"g#\",\"a\",\"a#\",\"b\",\"c\",\"c#\",\"d\",\"d#\",\"e\",\"f\"],\n",
    "                 \"D\":[\"d\",\"d#\",\"e\",\"f\",\"f#\",\"g\",\"g#\",\"a\",\"a#\",\"b\",\"c\",\"c#\",\"d\",\"d#\",\"e\",\"f\",\"f#\",\"g\",\"g#\",\"a\",\"a#\",\"b\",\"c\"],\n",
    "                 \"g\":[\"d\",\"d#\",\"e\",\"f\",\"f#\",\"g\",\"g#\",\"a\",\"a#\",\"b\",\"c\",\"c#\",\"d\",\"d#\",\"e\",\"f\",\"f#\",\"g\",\"g#\",\"a\",\"a#\",\"b\",\"c\",\"m\"]}"
   ]
  },
  {
   "cell_type": "code",
   "execution_count": null,
   "id": "9c11ffa3-a6a7-445e-8553-ce1efff6c407",
   "metadata": {
    "tags": []
   },
   "outputs": [],
   "source": [
    "#To generate all chords in a chord library, we should only need one chord of a class and then can generate all 12 notes of the chromatic scale\n",
    "#for example:\n",
    "#the chord C Major is composed of the notes of C,E,and G, and\n",
    "# C# Major is composed of C#,F,and G#\n",
    "# continue down the the chromatic scale to get all the notes that compose each Major chord in the chromatic scale. \n",
    "\n",
    "#Once we have this we'll be able to generate any dictionary of any chord variety\n",
    "\n",
    "# to start we'll make the list of notes in the chromatic scale\n",
    "\n",
    "chromatic_scale = ['c','c#','d','d#','e','f','f#','g','g#','a','a#','b']"
   ]
  },
  {
   "cell_type": "code",
   "execution_count": null,
   "id": "0264cd2f-640e-43dd-afc8-3a2e0244a617",
   "metadata": {
    "tags": []
   },
   "outputs": [],
   "source": [
    "#let's define a function that translates one note to another by n steps\n",
    "\n",
    "#the input should be the root note and number of half steps\n",
    "\n",
    "def translate_note(root,steps):\n",
    "    index = chromatic_scale.index(root)\n",
    "    return chromatic_scale[(index+steps)%len(chromatic_scale)]\n",
    "        "
   ]
  },
  {
   "cell_type": "code",
   "execution_count": null,
   "id": "aab7ac4f-1ecd-4c57-bf3b-e2e4281cd0e3",
   "metadata": {
    "tags": []
   },
   "outputs": [],
   "source": [
    "Major_dict = {}\n",
    "for note in chromatic_scale:\n",
    "    Major_dict[note+\"Major\"] = [translate_note(note,0),translate_note(note,4),translate_note(note,7)]\n",
    "# Major_dict"
   ]
  },
  {
   "cell_type": "code",
   "execution_count": null,
   "id": "6906c88f-96c2-4258-8b4d-a734ea4c4416",
   "metadata": {
    "tags": []
   },
   "outputs": [],
   "source": [
    "Minor_dict = {}\n",
    "for note in chromatic_scale:\n",
    "    Minor_dict[note+\"Minor\"] = [translate_note(note,0),translate_note(note,3),translate_note(note,7)]\n",
    "Minor_dict"
   ]
  },
  {
   "cell_type": "code",
   "execution_count": null,
   "id": "04b91925-4616-4cd3-87a1-b66aaaf280a3",
   "metadata": {
    "tags": []
   },
   "outputs": [],
   "source": [
    "dom7_dict = {}\n",
    "for note in chromatic_scale:\n",
    "    dom7_dict[note+\"dom7\"] = [translate_note(note,0),translate_note(note,4),translate_note(note,7),translate_note(note,10)]\n",
    "# dom7_dict"
   ]
  },
  {
   "cell_type": "code",
   "execution_count": null,
   "id": "9cc483c8-82b4-4d61-891b-2e9baa5bd415",
   "metadata": {
    "tags": []
   },
   "outputs": [],
   "source": [
    "Minor7_dict = {}\n",
    "for note in chromatic_scale:\n",
    "    Minor7_dict[note+\"Minor7\"] = [translate_note(note,0),translate_note(note,3),translate_note(note,7),translate_note(note,10)]\n",
    "Minor7_dict"
   ]
  },
  {
   "cell_type": "code",
   "execution_count": null,
   "id": "8ca4ca9f-cb86-421c-8b09-6fa61ddc4187",
   "metadata": {
    "tags": []
   },
   "outputs": [],
   "source": [
    "Major7_dict = {}\n",
    "for note in chromatic_scale:\n",
    "    Major7_dict[note+\"Major7\"] = [translate_note(note,0),translate_note(note,4),translate_note(note,7),translate_note(note,10)]\n",
    "Major7_dict"
   ]
  },
  {
   "cell_type": "code",
   "execution_count": null,
   "id": "43eec8be-f5bc-4e12-88b8-454fc84df8d4",
   "metadata": {
    "tags": []
   },
   "outputs": [],
   "source": [
    "Minor7flat5_dict = {}\n",
    "for note in chromatic_scale:\n",
    "    Minor7flat5_dict[note+\"Minor7flat5\"] = [translate_note(note,0),translate_note(note,3),translate_note(note,6),translate_note(note,10)]\n",
    "# Minor7flat5_dict"
   ]
  },
  {
   "cell_type": "code",
   "execution_count": null,
   "id": "69982c70-50c2-42b7-ad2a-fb01fc6d910f",
   "metadata": {
    "tags": []
   },
   "outputs": [],
   "source": [
    "dim_dict = {}\n",
    "for note in chromatic_scale:\n",
    "    dim_dict[note+\"dim\"] = [translate_note(note,0),translate_note(note,3),translate_note(note,6)]\n",
    "# dim_dict"
   ]
  },
  {
   "cell_type": "code",
   "execution_count": null,
   "id": "9274314d-71db-49cb-b82f-a2c87a02a713",
   "metadata": {
    "tags": []
   },
   "outputs": [],
   "source": [
    "dim7_dict = {}\n",
    "for note in chromatic_scale:\n",
    "    dim7_dict[note+\"dim7\"] = [translate_note(note,0),translate_note(note,3),translate_note(note,6),translate_note(note,9)]\n",
    "# dim7_dict"
   ]
  },
  {
   "cell_type": "code",
   "execution_count": null,
   "id": "3d4f9994-3b04-495d-981a-f4401175bfff",
   "metadata": {
    "tags": []
   },
   "outputs": [],
   "source": [
    "aug_dict = {}\n",
    "for note in chromatic_scale:\n",
    "    aug_dict[note+\"aug\"] = [translate_note(note,0),translate_note(note,4),translate_note(note,8)]\n",
    "# aug_dict"
   ]
  },
  {
   "cell_type": "code",
   "execution_count": null,
   "id": "f2139bd4-99ce-4384-8d08-01afb112f145",
   "metadata": {
    "tags": []
   },
   "outputs": [],
   "source": [
    "Major6_dict = {}\n",
    "for note in chromatic_scale:\n",
    "    Major6_dict[note+\"Major6\"] = [translate_note(note,0),translate_note(note,4),translate_note(note,7),translate_note(note,9)]\n",
    "# Major6_dict"
   ]
  },
  {
   "cell_type": "code",
   "execution_count": null,
   "id": "f1fd72a4-8347-49a7-b7ea-0f01983f3e4c",
   "metadata": {
    "tags": []
   },
   "outputs": [],
   "source": [
    "Minor6_dict = {}\n",
    "for note in chromatic_scale:\n",
    "    Minor6_dict[note+\"Minor6\"] = [translate_note(note,0),translate_note(note,3),translate_note(note,7),translate_note(note,9)]\n",
    "# Minor6_dict"
   ]
  },
  {
   "cell_type": "code",
   "execution_count": null,
   "id": "589463e9-ad87-45c0-aee5-e00f6d342b82",
   "metadata": {
    "tags": []
   },
   "outputs": [],
   "source": [
    "Major7sharp5_dict = {}\n",
    "for note in chromatic_scale:\n",
    "    Major7sharp5_dict[note+\"Major7sharp5\"] = [translate_note(note,0),translate_note(note,4),translate_note(note,8),translate_note(note,10)]\n",
    "# Major7sharp5_dict"
   ]
  },
  {
   "cell_type": "code",
   "execution_count": null,
   "id": "43d8b91f-56ec-4d9e-8a50-e94cec290572",
   "metadata": {
    "tags": []
   },
   "outputs": [],
   "source": [
    "Major7flat5_dict = {}\n",
    "for note in chromatic_scale:\n",
    "    Major7flat5_dict[note+\"Major7flat5\"] = [translate_note(note,0),translate_note(note,4),translate_note(note,6),translate_note(note,10)]\n",
    "# Major7flat5_dict"
   ]
  },
  {
   "cell_type": "code",
   "execution_count": null,
   "id": "e5f8f2ee-65ac-470a-931a-c209c66082ae",
   "metadata": {
    "tags": []
   },
   "outputs": [],
   "source": [
    "def Merge(dict1, dict2):\n",
    "    return(dict2.update(dict1))"
   ]
  },
  {
   "cell_type": "code",
   "execution_count": null,
   "id": "e42a175c-3ac6-4de2-9891-17c5c754660f",
   "metadata": {
    "tags": []
   },
   "outputs": [],
   "source": [
    "Merge(Major_dict,Minor_dict)\n",
    "Merge(Minor_dict,dom7_dict)\n",
    "Merge(dom7_dict,Minor7_dict)\n",
    "Merge(Minor7_dict,Major7_dict)\n",
    "Merge(Major7_dict,Minor7flat5_dict)\n",
    "Merge(Minor7flat5_dict,dim_dict)\n",
    "Merge(Minor7flat5_dict,dim7_dict)\n",
    "Merge(dim7_dict,aug_dict)\n",
    "Merge(aug_dict,Major6_dict),\n",
    "Merge(Major6_dict,Minor6_dict),\n",
    "Merge(Minor6_dict,Major7sharp5_dict)\n",
    "Merge(Major7sharp5_dict,Major7flat5_dict)"
   ]
  },
  {
   "cell_type": "code",
   "execution_count": 188,
   "id": "6f5d30de-2b07-4942-af4a-e4de7f61e28a",
   "metadata": {
    "tags": []
   },
   "outputs": [],
   "source": [
    "chord_dict = {}\n",
    "Merge(Major7flat5_dict,chord_dict)"
   ]
  },
  {
   "cell_type": "code",
   "execution_count": 189,
   "id": "36f4a631-155d-4acf-95a2-76f55fb4430e",
   "metadata": {
    "tags": []
   },
   "outputs": [
    {
     "data": {
      "text/plain": [
       "{'cMajor7flat5': ['c', 'e', 'f#', 'a#'],\n",
       " 'c#Major7flat5': ['c#', 'f', 'g', 'b'],\n",
       " 'dMajor7flat5': ['d', 'f#', 'g#', 'c'],\n",
       " 'd#Major7flat5': ['d#', 'g', 'a', 'c#'],\n",
       " 'eMajor7flat5': ['e', 'g#', 'a#', 'd'],\n",
       " 'fMajor7flat5': ['f', 'a', 'b', 'd#'],\n",
       " 'f#Major7flat5': ['f#', 'a#', 'c', 'e'],\n",
       " 'gMajor7flat5': ['g', 'b', 'c#', 'f'],\n",
       " 'g#Major7flat5': ['g#', 'c', 'd', 'f#'],\n",
       " 'aMajor7flat5': ['a', 'c#', 'd#', 'g'],\n",
       " 'a#Major7flat5': ['a#', 'd', 'e', 'g#'],\n",
       " 'bMajor7flat5': ['b', 'd#', 'f', 'a'],\n",
       " 'cMajor7sharp5': ['c', 'e', 'g#', 'a#'],\n",
       " 'c#Major7sharp5': ['c#', 'f', 'a', 'b'],\n",
       " 'dMajor7sharp5': ['d', 'f#', 'a#', 'c'],\n",
       " 'd#Major7sharp5': ['d#', 'g', 'b', 'c#'],\n",
       " 'eMajor7sharp5': ['e', 'g#', 'c', 'd'],\n",
       " 'fMajor7sharp5': ['f', 'a', 'c#', 'd#'],\n",
       " 'f#Major7sharp5': ['f#', 'a#', 'd', 'e'],\n",
       " 'gMajor7sharp5': ['g', 'b', 'd#', 'f'],\n",
       " 'g#Major7sharp5': ['g#', 'c', 'e', 'f#'],\n",
       " 'aMajor7sharp5': ['a', 'c#', 'f', 'g'],\n",
       " 'a#Major7sharp5': ['a#', 'd', 'f#', 'g#'],\n",
       " 'bMajor7sharp5': ['b', 'd#', 'g', 'a'],\n",
       " 'cMinor6': ['c', 'd#', 'g', 'a'],\n",
       " 'c#Minor6': ['c#', 'e', 'g#', 'a#'],\n",
       " 'dMinor6': ['d', 'f', 'a', 'b'],\n",
       " 'd#Minor6': ['d#', 'f#', 'a#', 'c'],\n",
       " 'eMinor6': ['e', 'g', 'b', 'c#'],\n",
       " 'fMinor6': ['f', 'g#', 'c', 'd'],\n",
       " 'f#Minor6': ['f#', 'a', 'c#', 'd#'],\n",
       " 'gMinor6': ['g', 'a#', 'd', 'e'],\n",
       " 'g#Minor6': ['g#', 'b', 'd#', 'f'],\n",
       " 'aMinor6': ['a', 'c', 'e', 'f#'],\n",
       " 'a#Minor6': ['a#', 'c#', 'f', 'g'],\n",
       " 'bMinor6': ['b', 'd', 'f#', 'g#'],\n",
       " 'cMajor6': ['c', 'e', 'g', 'a'],\n",
       " 'c#Major6': ['c#', 'f', 'g#', 'a#'],\n",
       " 'dMajor6': ['d', 'f#', 'a', 'b'],\n",
       " 'd#Major6': ['d#', 'g', 'a#', 'c'],\n",
       " 'eMajor6': ['e', 'g#', 'b', 'c#'],\n",
       " 'fMajor6': ['f', 'a', 'c', 'd'],\n",
       " 'f#Major6': ['f#', 'a#', 'c#', 'd#'],\n",
       " 'gMajor6': ['g', 'b', 'd', 'e'],\n",
       " 'g#Major6': ['g#', 'c', 'd#', 'f'],\n",
       " 'aMajor6': ['a', 'c#', 'e', 'f#'],\n",
       " 'a#Major6': ['a#', 'd', 'f', 'g'],\n",
       " 'bMajor6': ['b', 'd#', 'f#', 'g#'],\n",
       " 'caug': ['c', 'e', 'g#'],\n",
       " 'c#aug': ['c#', 'f', 'a'],\n",
       " 'daug': ['d', 'f#', 'a#'],\n",
       " 'd#aug': ['d#', 'g', 'b'],\n",
       " 'eaug': ['e', 'g#', 'c'],\n",
       " 'faug': ['f', 'a', 'c#'],\n",
       " 'f#aug': ['f#', 'a#', 'd'],\n",
       " 'gaug': ['g', 'b', 'd#'],\n",
       " 'g#aug': ['g#', 'c', 'e'],\n",
       " 'aaug': ['a', 'c#', 'f'],\n",
       " 'a#aug': ['a#', 'd', 'f#'],\n",
       " 'baug': ['b', 'd#', 'g'],\n",
       " 'cdim7': ['c', 'd#', 'f#', 'a'],\n",
       " 'c#dim7': ['c#', 'e', 'g', 'a#'],\n",
       " 'ddim7': ['d', 'f', 'g#', 'b'],\n",
       " 'd#dim7': ['d#', 'f#', 'a', 'c'],\n",
       " 'edim7': ['e', 'g', 'a#', 'c#'],\n",
       " 'fdim7': ['f', 'g#', 'b', 'd'],\n",
       " 'f#dim7': ['f#', 'a', 'c', 'd#'],\n",
       " 'gdim7': ['g', 'a#', 'c#', 'e'],\n",
       " 'g#dim7': ['g#', 'b', 'd', 'f'],\n",
       " 'adim7': ['a', 'c', 'd#', 'f#'],\n",
       " 'a#dim7': ['a#', 'c#', 'e', 'g'],\n",
       " 'bdim7': ['b', 'd', 'f', 'g#'],\n",
       " 'cMinor7flat5': ['c', 'd#', 'f#', 'a#'],\n",
       " 'c#Minor7flat5': ['c#', 'e', 'g', 'b'],\n",
       " 'dMinor7flat5': ['d', 'f', 'g#', 'c'],\n",
       " 'd#Minor7flat5': ['d#', 'f#', 'a', 'c#'],\n",
       " 'eMinor7flat5': ['e', 'g', 'a#', 'd'],\n",
       " 'fMinor7flat5': ['f', 'g#', 'b', 'd#'],\n",
       " 'f#Minor7flat5': ['f#', 'a', 'c', 'e'],\n",
       " 'gMinor7flat5': ['g', 'a#', 'c#', 'f'],\n",
       " 'g#Minor7flat5': ['g#', 'b', 'd', 'f#'],\n",
       " 'aMinor7flat5': ['a', 'c', 'd#', 'g'],\n",
       " 'a#Minor7flat5': ['a#', 'c#', 'e', 'g#'],\n",
       " 'bMinor7flat5': ['b', 'd', 'f', 'a'],\n",
       " 'cMajor7': ['c', 'e', 'g', 'a#'],\n",
       " 'c#Major7': ['c#', 'f', 'g#', 'b'],\n",
       " 'dMajor7': ['d', 'f#', 'a', 'c'],\n",
       " 'd#Major7': ['d#', 'g', 'a#', 'c#'],\n",
       " 'eMajor7': ['e', 'g#', 'b', 'd'],\n",
       " 'fMajor7': ['f', 'a', 'c', 'd#'],\n",
       " 'f#Major7': ['f#', 'a#', 'c#', 'e'],\n",
       " 'gMajor7': ['g', 'b', 'd', 'f'],\n",
       " 'g#Major7': ['g#', 'c', 'd#', 'f#'],\n",
       " 'aMajor7': ['a', 'c#', 'e', 'g'],\n",
       " 'a#Major7': ['a#', 'd', 'f', 'g#'],\n",
       " 'bMajor7': ['b', 'd#', 'f#', 'a'],\n",
       " 'cMinor7': ['c', 'd#', 'g', 'a#'],\n",
       " 'c#Minor7': ['c#', 'e', 'g#', 'b'],\n",
       " 'dMinor7': ['d', 'f', 'a', 'c'],\n",
       " 'd#Minor7': ['d#', 'f#', 'a#', 'c#'],\n",
       " 'eMinor7': ['e', 'g', 'b', 'd'],\n",
       " 'fMinor7': ['f', 'g#', 'c', 'd#'],\n",
       " 'f#Minor7': ['f#', 'a', 'c#', 'e'],\n",
       " 'gMinor7': ['g', 'a#', 'd', 'f'],\n",
       " 'g#Minor7': ['g#', 'b', 'd#', 'f#'],\n",
       " 'aMinor7': ['a', 'c', 'e', 'g'],\n",
       " 'a#Minor7': ['a#', 'c#', 'f', 'g#'],\n",
       " 'bMinor7': ['b', 'd', 'f#', 'a'],\n",
       " 'cdom7': ['c', 'e', 'g', 'a#'],\n",
       " 'c#dom7': ['c#', 'f', 'g#', 'b'],\n",
       " 'ddom7': ['d', 'f#', 'a', 'c'],\n",
       " 'd#dom7': ['d#', 'g', 'a#', 'c#'],\n",
       " 'edom7': ['e', 'g#', 'b', 'd'],\n",
       " 'fdom7': ['f', 'a', 'c', 'd#'],\n",
       " 'f#dom7': ['f#', 'a#', 'c#', 'e'],\n",
       " 'gdom7': ['g', 'b', 'd', 'f'],\n",
       " 'g#dom7': ['g#', 'c', 'd#', 'f#'],\n",
       " 'adom7': ['a', 'c#', 'e', 'g'],\n",
       " 'a#dom7': ['a#', 'd', 'f', 'g#'],\n",
       " 'bdom7': ['b', 'd#', 'f#', 'a'],\n",
       " 'cMinor': ['c', 'd#', 'g'],\n",
       " 'c#Minor': ['c#', 'e', 'g#'],\n",
       " 'dMinor': ['d', 'f', 'a'],\n",
       " 'd#Minor': ['d#', 'f#', 'a#'],\n",
       " 'eMinor': ['e', 'g', 'b'],\n",
       " 'fMinor': ['f', 'g#', 'c'],\n",
       " 'f#Minor': ['f#', 'a', 'c#'],\n",
       " 'gMinor': ['g', 'a#', 'd'],\n",
       " 'g#Minor': ['g#', 'b', 'd#'],\n",
       " 'aMinor': ['a', 'c', 'e'],\n",
       " 'a#Minor': ['a#', 'c#', 'f'],\n",
       " 'bMinor': ['b', 'd', 'f#'],\n",
       " 'cMajor': ['c', 'e', 'g'],\n",
       " 'c#Major': ['c#', 'f', 'g#'],\n",
       " 'dMajor': ['d', 'f#', 'a'],\n",
       " 'd#Major': ['d#', 'g', 'a#'],\n",
       " 'eMajor': ['e', 'g#', 'b'],\n",
       " 'fMajor': ['f', 'a', 'c'],\n",
       " 'f#Major': ['f#', 'a#', 'c#'],\n",
       " 'gMajor': ['g', 'b', 'd'],\n",
       " 'g#Major': ['g#', 'c', 'd#'],\n",
       " 'aMajor': ['a', 'c#', 'e'],\n",
       " 'a#Major': ['a#', 'd', 'f'],\n",
       " 'bMajor': ['b', 'd#', 'f#']}"
      ]
     },
     "execution_count": 189,
     "metadata": {},
     "output_type": "execute_result"
    }
   ],
   "source": [
    "chord_dict"
   ]
  },
  {
   "cell_type": "code",
   "execution_count": 190,
   "id": "353164c2-c2cd-42af-82a3-a66de5aadfe0",
   "metadata": {
    "tags": []
   },
   "outputs": [],
   "source": [
    "# now that we have a chord dictionary we need to write a function that will return all the eecutable banjo chords. Crucially, the doable chord needs to include every note that comprises that chord at least once        "
   ]
  },
  {
   "cell_type": "code",
   "execution_count": 191,
   "id": "4e8f47fe-c0b1-4f76-807c-dbe058000aa2",
   "metadata": {
    "tags": []
   },
   "outputs": [],
   "source": [
    "#we need a function that takes the tuple and gives a list of notes played.\n",
    "def notes_from_chord(fingers):\n",
    "    notes = []\n",
    "    notes.append(TabBanjo['g'][fingers[0]])\n",
    "    notes.append(TabBanjo['D'][fingers[1]])\n",
    "    notes.append(TabBanjo['G'][fingers[2]])\n",
    "    notes.append(TabBanjo['B'][fingers[3]])\n",
    "    notes.append(TabBanjo['d'][fingers[4]])\n",
    "    return notes\n",
    "        "
   ]
  },
  {
   "cell_type": "code",
   "execution_count": 192,
   "id": "64e6004b-7da9-4398-8ee5-7e58afc35a3b",
   "metadata": {
    "tags": []
   },
   "outputs": [],
   "source": [
    "import itertools\n",
    "def get_chords(dct,note_list):\n",
    "    \n",
    "    #make a list of all the notes on the high d that appear in the notes list\n",
    "    d_string = [i for i,x in enumerate(dct[\"d\"])if x in note_list]\n",
    "    #make a list of all the notes on the B that appear in the notes list\n",
    "    B_string = [i for i,x in enumerate(dct[\"B\"])if x in note_list]\n",
    "    #make a list of all the notes on the G that appear in the notes list\n",
    "    G_string = [i for i,x in enumerate(dct[\"G\"])if x in note_list]\n",
    "    #make a list of all the notes on the D that appear in the notes list\n",
    "    D_string = [i for i,x in enumerate(dct[\"D\"])if x in note_list]\n",
    "    #make a list of all the notes on the high g that appear in the notes list\n",
    "    g_string = [i for i,x in enumerate(dct[\"g\"])if x in note_list]\n",
    "    chords = itertools.product(g_string,D_string,G_string,B_string,d_string)\n",
    "#     for i in chords:\n",
    "#         print(i)\n",
    "    doable_chords = []\n",
    "    for i in chords:\n",
    "        i = list(i)\n",
    "        notes = notes_from_chord(i)\n",
    "#             # now that we have a chord dictionary we need to write a function that will return all the excutable banjo chords. Crucially, the doable chord needs to include every note that comprises that chord at least once\n",
    "# first we check the notes that play in our chord camdidate\n",
    "        check = all(item in notes for item in note_list)\n",
    "#         print(notes,check)\n",
    "        if (max(i) - min(i))<=2 and check:\n",
    "#             print(notes,i)\n",
    "            doable_chords.append(i)\n",
    "#     print(doable_chords)\n",
    "    for chord in doable_chords:\n",
    "        if chord[0]<=5 and 'g' in note_list:\n",
    "            chord[0] = 0\n",
    "        elif chord[0]<=5 and 'g' not in note_list:\n",
    "            chord[0] = 'm'\n",
    "    return doable_chords\n",
    "    \n",
    "    "
   ]
  },
  {
   "cell_type": "code",
   "execution_count": 193,
   "id": "0a56f7bc-09a1-4e92-9204-9fc330039192",
   "metadata": {},
   "outputs": [
    {
     "data": {
      "text/plain": [
       "[['m', 1, 1, 0, 1],\n",
       " [9, 9, 8, 9, 9],\n",
       " [13, 13, 13, 12, 13],\n",
       " [18, 18, 16, 16, 18],\n",
       " [21, 21, 20, 21, 21]]"
      ]
     },
     "execution_count": 193,
     "metadata": {},
     "output_type": "execute_result"
    }
   ],
   "source": [
    "get_chords(TabBanjo,chord_dict[\"g#Minor\"])"
   ]
  },
  {
   "cell_type": "code",
   "execution_count": 194,
   "id": "0438a23c-ba0b-46be-b819-a4ee4f726702",
   "metadata": {},
   "outputs": [
    {
     "data": {
      "text/plain": [
       "[[0, 0, 0, 0, 2],\n",
       " [0, 2, 0, 0, 0],\n",
       " [0, 2, 0, 0, 2],\n",
       " [0, 0, 0, 0, 0],\n",
       " [0, 0, 0, 0, 2],\n",
       " [0, 2, 0, 0, 0],\n",
       " [12, 12, 12, 12, 14],\n",
       " [12, 14, 12, 12, 12],\n",
       " [12, 14, 12, 12, 14],\n",
       " [14, 12, 12, 12, 12],\n",
       " [14, 12, 12, 12, 14],\n",
       " [14, 14, 12, 12, 12]]"
      ]
     },
     "execution_count": 194,
     "metadata": {},
     "output_type": "execute_result"
    }
   ],
   "source": [
    "get_chords(TabBanjo,chord_dict['eMinor7'])"
   ]
  },
  {
   "cell_type": "code",
   "execution_count": 195,
   "id": "88bcda7f-7f56-459d-a5e8-029b51c0d647",
   "metadata": {},
   "outputs": [
    {
     "data": {
      "text/plain": [
       "[['m', 2, 1, 0, 2],\n",
       " [6, 6, 4, 5, 6],\n",
       " [9, 9, 9, 9, 9],\n",
       " [14, 14, 13, 12, 14],\n",
       " [18, 18, 16, 17, 18],\n",
       " [21, 21, 21, 21, 21]]"
      ]
     },
     "execution_count": 195,
     "metadata": {},
     "output_type": "execute_result"
    }
   ],
   "source": [
    "get_chords(TabBanjo,chord_dict['eMajor'])"
   ]
  },
  {
   "cell_type": "code",
   "execution_count": 196,
   "id": "c5fbd6d5-3b74-43dc-82c9-91edefd9f8d6",
   "metadata": {},
   "outputs": [
    {
     "data": {
      "text/plain": [
       "[['m', 1, 1, 0, 1],\n",
       " [9, 9, 8, 9, 9],\n",
       " [13, 13, 13, 12, 13],\n",
       " [18, 18, 16, 16, 18],\n",
       " [21, 21, 20, 21, 21]]"
      ]
     },
     "execution_count": 196,
     "metadata": {},
     "output_type": "execute_result"
    }
   ],
   "source": [
    "get_chords(TabBanjo,chord_dict['g#Minor'])"
   ]
  },
  {
   "cell_type": "code",
   "execution_count": 197,
   "id": "a25a9f7f-8ad7-4e3c-98f2-2e59dacb3c8b",
   "metadata": {},
   "outputs": [
    {
     "data": {
      "text/plain": [
       "[['m', 2, 1, 2, 2],\n",
       " [6, 6, 6, 5, 6],\n",
       " [11, 11, 9, 9, 11],\n",
       " [14, 14, 13, 14, 14],\n",
       " [18, 18, 18, 17, 18]]"
      ]
     },
     "execution_count": 197,
     "metadata": {},
     "output_type": "execute_result"
    }
   ],
   "source": [
    "get_chords(TabBanjo,chord_dict['c#Minor'])"
   ]
  },
  {
   "cell_type": "code",
   "execution_count": 198,
   "id": "e37742df-baa9-4645-ad55-82bcef625369",
   "metadata": {
    "tags": []
   },
   "outputs": [
    {
     "data": {
      "text/plain": [
       "[['m', 2, 3, 2, 4],\n",
       " ['m', 2, 3, 4, 4],\n",
       " ['m', 4, 3, 2, 2],\n",
       " ['m', 4, 3, 2, 4],\n",
       " ['m', 4, 3, 4, 2],\n",
       " ['m', 4, 3, 4, 4],\n",
       " ['m', 2, 3, 2, 2],\n",
       " ['m', 2, 3, 2, 4],\n",
       " ['m', 2, 3, 4, 2],\n",
       " ['m', 2, 3, 4, 4],\n",
       " ['m', 4, 3, 2, 2],\n",
       " ['m', 4, 3, 4, 2],\n",
       " [14, 14, 15, 14, 16],\n",
       " [14, 16, 15, 14, 14],\n",
       " [14, 16, 15, 14, 16],\n",
       " [16, 14, 15, 14, 14],\n",
       " [16, 14, 15, 14, 16],\n",
       " [16, 16, 15, 14, 14]]"
      ]
     },
     "execution_count": 198,
     "metadata": {},
     "output_type": "execute_result"
    }
   ],
   "source": [
    "get_chords(TabBanjo,chord_dict['f#Major7'])"
   ]
  },
  {
   "cell_type": "code",
   "execution_count": 199,
   "id": "0d77a0d4-6978-47bf-b98a-35f4a6676aca",
   "metadata": {},
   "outputs": [
    {
     "data": {
      "text/plain": [
       "[['m', 3, 2, 3, 3],\n",
       " [7, 7, 7, 6, 7],\n",
       " [12, 12, 10, 10, 12],\n",
       " [15, 15, 14, 15, 15],\n",
       " [19, 19, 19, 18, 19]]"
      ]
     },
     "execution_count": 199,
     "metadata": {},
     "output_type": "execute_result"
    }
   ],
   "source": [
    "get_chords(TabBanjo,chord_dict['dMinor'])"
   ]
  },
  {
   "cell_type": "code",
   "execution_count": 200,
   "id": "e73cfeb7-36c5-4703-9eab-96ba8641e01e",
   "metadata": {},
   "outputs": [
    {
     "data": {
      "text/plain": [
       "[[0, 3, 4, 3, 5],\n",
       " [0, 5, 4, 3, 3],\n",
       " [0, 5, 4, 3, 5],\n",
       " [0, 3, 4, 3, 3],\n",
       " [0, 3, 4, 3, 5],\n",
       " [0, 5, 4, 3, 3],\n",
       " [15, 15, 16, 15, 17],\n",
       " [15, 17, 16, 15, 15],\n",
       " [15, 17, 16, 15, 17],\n",
       " [17, 15, 16, 15, 15],\n",
       " [17, 15, 16, 15, 17],\n",
       " [17, 17, 16, 15, 15]]"
      ]
     },
     "execution_count": 200,
     "metadata": {},
     "output_type": "execute_result"
    }
   ],
   "source": [
    "get_chords(TabBanjo,chord_dict['gMajor7'])"
   ]
  },
  {
   "cell_type": "code",
   "execution_count": 201,
   "id": "a9694d30-f978-49db-819b-116461f9c8f1",
   "metadata": {},
   "outputs": [
    {
     "data": {
      "text/plain": [
       "[[8, 8, 9, 8, 10],\n",
       " [8, 10, 9, 8, 8],\n",
       " [8, 10, 9, 8, 10],\n",
       " [10, 8, 9, 8, 8],\n",
       " [10, 8, 9, 8, 10],\n",
       " [10, 10, 9, 8, 8],\n",
       " [20, 20, 21, 20, 22],\n",
       " [20, 22, 21, 20, 20],\n",
       " [20, 22, 21, 20, 22],\n",
       " [22, 20, 21, 20, 20],\n",
       " [22, 20, 21, 20, 22],\n",
       " [22, 22, 21, 20, 20]]"
      ]
     },
     "execution_count": 201,
     "metadata": {},
     "output_type": "execute_result"
    }
   ],
   "source": [
    "get_chords(TabBanjo,chord_dict['cMajor7'])"
   ]
  },
  {
   "cell_type": "code",
   "execution_count": 202,
   "id": "69ba1054-9651-4289-95c6-a0354719ad9c",
   "metadata": {},
   "outputs": [
    {
     "ename": "SyntaxError",
     "evalue": "unexpected EOF while parsing (<ipython-input-202-95fff34a04da>, line 5)",
     "output_type": "error",
     "traceback": [
      "\u001b[0;36m  File \u001b[0;32m\"<ipython-input-202-95fff34a04da>\"\u001b[0;36m, line \u001b[0;32m5\u001b[0m\n\u001b[0;31m    \u001b[0m\n\u001b[0m    ^\u001b[0m\n\u001b[0;31mSyntaxError\u001b[0m\u001b[0;31m:\u001b[0m unexpected EOF while parsing\n"
     ]
    }
   ],
   "source": [
    "def ChooseString(note):\n",
    "    TabBanjo[note]\n",
    "\n",
    "def PlaceNoteOnLine(note,string,position):\n",
    "    \n"
   ]
  },
  {
   "cell_type": "code",
   "execution_count": 203,
   "id": "33e0a749-9914-4448-ad56-d366708da876",
   "metadata": {},
   "outputs": [
    {
     "ename": "NameError",
     "evalue": "name 'PlaceNoteOnStaff' is not defined",
     "output_type": "error",
     "traceback": [
      "\u001b[0;31m---------------------------------------------------------------------------\u001b[0m",
      "\u001b[0;31mNameError\u001b[0m                                 Traceback (most recent call last)",
      "\u001b[0;32m<ipython-input-203-6fd8f2e61518>\u001b[0m in \u001b[0;36m<module>\u001b[0;34m\u001b[0m\n\u001b[0;32m----> 1\u001b[0;31m \u001b[0mPlaceNoteOnStaff\u001b[0m\u001b[0;34m(\u001b[0m\u001b[0;34m[\u001b[0m\u001b[0;36m1\u001b[0m\u001b[0;34m]\u001b[0m\u001b[0;34m,\u001b[0m\u001b[0;34m\"k\"\u001b[0m\u001b[0;34m)\u001b[0m\u001b[0;34m\u001b[0m\u001b[0;34m\u001b[0m\u001b[0m\n\u001b[0m",
      "\u001b[0;31mNameError\u001b[0m: name 'PlaceNoteOnStaff' is not defined"
     ]
    }
   ],
   "source": [
    "PlaceNoteOnStaff([1],\"k\")"
   ]
  },
  {
   "cell_type": "code",
   "execution_count": 204,
   "id": "baa9db44-7d8e-49eb-b904-7a6e133a31d7",
   "metadata": {},
   "outputs": [
    {
     "name": "stdout",
     "output_type": "stream",
     "text": [
      "|0---------------\n",
      "|0-----4---------\n"
     ]
    }
   ],
   "source": [
    "start = '|----------------'\n",
    "pos = [1,7]\n",
    "note = ['0','4']\n",
    "for i in range(len(pos)):\n",
    "    start = start[0:pos[i]]+note[i]+start[pos[i]+1:]\n",
    "    print(start)\n",
    "# start = start[0:pos]+note+start[pos+1:]\n",
    "# print(start)\n",
    "\n",
    "\n",
    "# for i in range(2):\n",
    "#     print(start[0:pos[i]]+notes[i]+start[pos[i+1]:])\n",
    "\n",
    "# def PlaceTwoNotes(frets, positions):\n",
    "#     start = '|----------------'\n",
    "    "
   ]
  },
  {
   "cell_type": "code",
   "execution_count": 205,
   "id": "4bf6dcd9-7d14-46b0-b599-1eac6bd28e0a",
   "metadata": {},
   "outputs": [],
   "source": [
    "def replace_character_at_index(org_string,index,replacement):\n",
    "    new_string = org_string\n",
    "    if index<len(org_string):\n",
    "        \n",
    "        new_string = org_string[0:index]+replacement+org_string[index+1:]\n",
    "    return new_string"
   ]
  },
  {
   "cell_type": "code",
   "execution_count": 206,
   "id": "afa5c568-77f6-4a55-85ee-f4847ac6ec82",
   "metadata": {},
   "outputs": [
    {
     "data": {
      "text/plain": [
       "'|0---------------'"
      ]
     },
     "execution_count": 206,
     "metadata": {},
     "output_type": "execute_result"
    }
   ],
   "source": [
    "replace_character_at_index('|----------------',1,'0')"
   ]
  },
  {
   "cell_type": "code",
   "execution_count": null,
   "id": "c39cbf2f-179c-4cef-b010-e1a4fc2c84b4",
   "metadata": {},
   "outputs": [],
   "source": []
  },
  {
   "cell_type": "code",
   "execution_count": 207,
   "id": "f58e3356-1b16-45dd-b524-fc5f56758907",
   "metadata": {},
   "outputs": [],
   "source": [
    "def replace_character_at_index(org_string,index,replacement):\n",
    "    new_string = org_string\n",
    "    \n",
    "    new_string = org_string[0:index]+replacement+org_string[index+1:]\n",
    "    return new_string\n",
    "\n",
    "def place_notes_on_staff(positions, replacements):\n",
    "    start = '|----------------'\n",
    "    char_to_replace = {}\n",
    "    for i, j in zip(positions,replacements):\n",
    "#         print(pos,char)\n",
    "        char_to_replace[i]=j\n",
    "    for index,position in char_to_replace.items():\n",
    "        start = replace_character_at_index(start,index,position)\n",
    "    return start\n",
    "    \n",
    "    "
   ]
  },
  {
   "cell_type": "code",
   "execution_count": 208,
   "id": "97db66b5-daf1-4d26-a17c-b83d8c716fa5",
   "metadata": {},
   "outputs": [
    {
     "data": {
      "text/plain": [
       "'|jk--------------'"
      ]
     },
     "execution_count": 208,
     "metadata": {},
     "output_type": "execute_result"
    }
   ],
   "source": [
    "place_notes_on_staff([1,2],['j','k'])"
   ]
  },
  {
   "cell_type": "code",
   "execution_count": 209,
   "id": "2437d411-0fdb-43d1-b546-0c47227627cf",
   "metadata": {},
   "outputs": [
    {
     "data": {
      "text/plain": [
       "'jdjJJdkkdj'"
      ]
     },
     "execution_count": 209,
     "metadata": {},
     "output_type": "execute_result"
    }
   ],
   "source": [
    "replace_character_at_index('jdjjdkkdj',3,'JJ')"
   ]
  },
  {
   "cell_type": "code",
   "execution_count": 210,
   "id": "5d672f7c-8657-4034-a5c8-70279c12043f",
   "metadata": {},
   "outputs": [
    {
     "name": "stdout",
     "output_type": "stream",
     "text": [
      "1\n",
      "16\n",
      "8\n",
      "1\n",
      "1\n"
     ]
    }
   ],
   "source": [
    "# ok we need to create a function that takes a string of quarter notes (\"c\",\"d\",\"e\",\"f\",\"g\",\"a\",\"b\",\"c\") and spits out the scale on ta banjo tab\n",
    "\n",
    "for key, value in TabBanjo.items():\n",
    "    print(TabBanjo[key].index('d#'))"
   ]
  },
  {
   "cell_type": "code",
   "execution_count": 211,
   "id": "0cd4570d-7da1-4917-99fb-ce8af1f370ad",
   "metadata": {},
   "outputs": [],
   "source": [
    "#we need to define a function that prints out from the TabBanjo all the places where a note falls on the staff\n",
    "\n",
    "def FindFret(firstnote):\n",
    "    if firstnote=='-':\n",
    "        return \n",
    "    else:\n",
    "        candidates={}\n",
    "        for string in TabBanjo:\n",
    "            indeces = [i for i,j in enumerate(TabBanjo[string])if j==firstnote]\n",
    "            candidates[string] = indeces\n",
    "    return candidates\n"
   ]
  },
  {
   "cell_type": "code",
   "execution_count": 212,
   "id": "8aa2f315-83be-44b1-94b2-0a2524aef902",
   "metadata": {},
   "outputs": [],
   "source": [
    "# for the first note in a melody we eant to find the lowest fret on the neck that produces that note\n",
    "def LowestOnNeck(firstnote):\n",
    "    if firstnote=='-':\n",
    "        return \n",
    "    else:\n",
    "        candidates = FindFret(firstnote)\n",
    "        string = min(candidates,key = candidates.get)\n",
    "        fret = candidates[min(candidates,key = candidates.get)][0]\n",
    "    return string,fret\n",
    "    "
   ]
  },
  {
   "cell_type": "code",
   "execution_count": 213,
   "id": "bc0a1c62-34f5-46eb-b547-48ef66550eaa",
   "metadata": {},
   "outputs": [
    {
     "data": {
      "text/plain": [
       "('d', 1)"
      ]
     },
     "execution_count": 213,
     "metadata": {},
     "output_type": "execute_result"
    }
   ],
   "source": [
    "LowestOnNeck('d#')"
   ]
  },
  {
   "cell_type": "code",
   "execution_count": 214,
   "id": "6d2b6676-c49e-472f-b853-5685e889e5b9",
   "metadata": {},
   "outputs": [],
   "source": [
    "#now we need a function that finds the closest next note and fret when given an initial note and fret, and the next note\n",
    "def NextNote(initialfret,nextnote):\n",
    "    candidates = FindFrets(nextnote)\n",
    "    for string in TabBanjo:\n",
    "        string = min(candidates)"
   ]
  },
  {
   "cell_type": "code",
   "execution_count": null,
   "id": "d2640437-ef30-4880-87d7-c1d7a70c0cac",
   "metadata": {},
   "outputs": [],
   "source": [
    "# | I  T  I  M   I  T  I  M   I  T  I  M   I  T  I  M  \n",
    "# |----------2-|------------|------------|------------|\n",
    "# |------------|-0----------|------------|------------|\n",
    "# |-0-----1----|------------|-2----------|-0----------|\n",
    "# |----2-------|------------|------------|------------|\n",
    "# |------------|------------|------------|------------|\n",
    "#    eMajor       f#Minor      f#Minor7      bMajor7   \n",
    "\n",
    "#Melody:\n",
    "# |                                                \n",
    "# |------------------------------------------------\n",
    "# |------------------------------------------------\n",
    "# |------------------------------------------------\n",
    "# |----2-------------------------------------------\n",
    "# |------------------------------------------------\n",
    "\n",
    "\n",
    "# Maybe it will be easier to conceptualize in garageband...\n",
    "\n",
    "\n",
    "# it was easier to conceptulaize in garageband.\n",
    "#The essential approach has not changed, but it's been illuminated how necessary it is to have a mapping of each\n",
    "# 16th note in a bar so to write make these tabs\n"
   ]
  },
  {
   "cell_type": "code",
   "execution_count": null,
   "id": "b7ef525f-ba3f-4459-a18b-65b600901f26",
   "metadata": {},
   "outputs": [],
   "source": [
    "\n",
    "rolls = [['T', 'I', 'M', 'I', 'T', 'I', 'M', 'I'],\n",
    "         ['I', 'M', 'T', 'M', 'I', 'M', 'T', 'M'],\n",
    "         ['T', 'I', 'M', 'I', 'M', 'T', 'M', 'I'],\n",
    "         ['T', 'M', 'T', 'I', 'T', 'M', 'T', 'I'],\n",
    "         ['T', 'I', 'M', 'T', 'I', 'T', 'M', 'I', 'T', 'M'],\n",
    "         ['T', 'I', 'M', 'T', 'P', 'I', 'M', 'I'],\n",
    "        ['I', 'M', 'T', 'M', 'P', 'I', 'M', 'I'],\n",
    "        ['T', 'P', 'M', 'P', 'I', 'P', 'M', 'P'],\n",
    "        ['T', 'I', 'M', 'I', 'T', 'S', 'M', 'I']]\n",
    "\n",
    "usable_rolls = [roll for roll in rolls if roll[3] != 'T']\n",
    "chord = get_chords(TabBanjo,chord_dict['eMajor'])[0]\n",
    "chord\n",
    "rolls"
   ]
  },
  {
   "cell_type": "code",
   "execution_count": null,
   "id": "af21c043-39b1-42e8-a4d1-4a0907307caf",
   "metadata": {},
   "outputs": [],
   "source": [
    "\n",
    "# Forward Roll: (T, I, M, I, T, I, M, I)\n",
    "# Reverse Roll: (I, M, T, M, I, M, T, M)\n",
    "# Forward-Reverse Roll: (T, I, M, I, M, T, M, I)\n",
    "# Alternating Thumb Roll: (T, M, T, I, T, M, T, I)\n",
    "# Foggy Mountain Breakdown Roll: (T, I, M, T, I, T, M, I, T, M)\n",
    "# Single String Roll: (T, T, T, T, I, I, I, I)\n",
    "# Forward Roll with a Pinch: (T, I, M, T, P, I, M, I)\n",
    "# Backward Roll with a Pinch: (I, M, T, M, P, I, M, I)\n",
    "# Mixed Pinch Roll: (T, P, M, P, I, P, M, P)\n",
    "# Forward Roll with a Slide: (T, I, M, I, T, S, M, I)\n",
    "\n",
    "\n",
    "chord_phrase=['eMajor','eMajor','eMajor','eMajor','g#Minor','g#Minor','g#Minor','g#Minor','aMajor','aMajor','eMajor','eMajor','f#Major7','f#Major7','bMajor7','bMajor7']\n",
    "frets = []\n",
    "for i in chord_phrase:\n",
    "    frets.append(get_chords(TabBanjo,chord_dict[i])[0])\n",
    "frets"
   ]
  },
  {
   "cell_type": "code",
   "execution_count": null,
   "id": "68022645-9480-4fd1-91e3-3216de0136f2",
   "metadata": {},
   "outputs": [],
   "source": [
    "# ok. we need an dictionary that has all 16 by 5 positions for the bar\n",
    "\n",
    "fingerings=[]\n",
    "positions = []\n",
    "for i in range(0,16):\n",
    "    positions.append('-')\n",
    "    fingerings.append(' ')\n",
    "positions\n",
    "\n"
   ]
  },
  {
   "cell_type": "code",
   "execution_count": 120,
   "id": "2d333fa3-b242-41b2-ba25-f9c9e2d6b222",
   "metadata": {},
   "outputs": [],
   "source": [
    "bar = {'rhf':fingerings,\n",
    "           'd':positions,\n",
    "           'B':positions,\n",
    "           'G':positions,\n",
    "           'D':positions,\n",
    "           'g':positions}\n",
    "# bar\n",
    "# we need to write a function that replace the spaces to print out the chord on the 7th dictionary key....\n",
    "\n"
   ]
  },
  {
   "cell_type": "code",
   "execution_count": 260,
   "id": "c5274a17-7ccd-48d9-9dc5-8f357c5dfb6b",
   "metadata": {},
   "outputs": [],
   "source": [
    "#we need a function that gets a chord\n",
    "\n",
    "# So we need to populate the melody dictionary correctly\n",
    "\n",
    "# we'll use replace character at index to map each note to the correct space in the string printout\n",
    "\n",
    "# so let's make all 16 positions for fingers\n",
    "\n",
    "# | I  T  I  M  I  T  I  M  I  T  I  M  I  T  I  M  \n",
    "# |-0--0--0--0--0--0--0--0--0--0--0--0--0--0--0--0-\n",
    "# |------------------------------------------------\n",
    "# |------------------------------------------------\n",
    "# |------------------------------------------------\n",
    "# |------------------------------------------------\n",
    "#    eMajor       f#Minor      f#Minor7      bMajor7   \n",
    "\n",
    "rhfstring = '| I  T  I  M   I  T  I  M   I  T  I  M   I  T  I  M ' \n",
    "\n",
    "\n",
    "staffpos16 = [2,5,8,11,14,17,20,23,26,29,32,35,38,41,44,47]\n",
    "# these all work for the 16th note positions for each line in the tablature\n",
    "\n",
    "#the melody will for now necessarily be a a list of the 16th notes in the bar.\n",
    "# so our list for the fastball song is the following\n",
    "\n",
    "OOMHmelody = ['b','-','-','-','-','g#','f#','e','d#','-','d#','d#','-','g#','b']\n"
   ]
  },
  {
   "cell_type": "code",
   "execution_count": 295,
   "id": "91cfbd8b-9a7c-43cd-a067-1ec4070fe36e",
   "metadata": {
    "tags": []
   },
   "outputs": [
    {
     "name": "stdout",
     "output_type": "stream",
     "text": [
      "|                T  M  I  M              T  M    \n",
      "|-------------------4--2--1-----1--1-------------\n",
      "|-0-----------------------------------------0----\n",
      "|----------------1-----------------------1-------\n",
      "|------------------------------------------------\n",
      "|------------------------------------------------\n",
      "                     eMajor                     \n"
     ]
    }
   ],
   "source": [
    "OOMHmelody = ['b','-','-','-','-','g#','f#','e','d#','-','d#','d#','-','g#','b'] #notes played in 4-beat melody\n",
    "#                                                                                index+1 = nth sixteenth beat note\n",
    "\n",
    "\n",
    "def one_bar_melody(melody,chord):\n",
    "    \n",
    "    def repeat_list_elements(lst, n):\n",
    "        result = []\n",
    "        for i in range(n):\n",
    "            result.append(lst[i % len(lst)])\n",
    "        return result\n",
    "    \n",
    "\n",
    "    \n",
    "    rolls = [['T', 'I', 'M', 'I', 'T', 'I', 'M', 'I'],\n",
    "         ['I', 'M', 'T', 'M', 'I', 'M', 'T', 'M'],\n",
    "         ['T', 'I', 'M', 'I', 'M', 'T', 'M', 'I'],\n",
    "         ['T', 'M', 'T', 'I', 'T', 'M', 'T', 'I'],\n",
    "         ['T', 'I', 'M', 'T', 'I', 'T', 'M', 'I', 'T', 'M'],\n",
    "         ['T', 'I', 'M', 'T', 'P', 'I', 'M', 'I'],\n",
    "        ['I', 'M', 'T', 'M', 'P', 'I', 'M', 'I'],\n",
    "        ['T', 'P', 'M', 'P', 'I', 'P', 'M', 'P'],\n",
    "        ['T', 'I', 'M', 'I', 'T', 'S', 'M', 'I']]\n",
    "    \n",
    "    comparators = []\n",
    "    for i in rolls:\n",
    "        comparators.append(repeat_list_elements(i,16))\n",
    "\n",
    "    \n",
    "    blankrhf = \"|\" + \" \" * 48 \n",
    "    blankstaff = \"|\"+ \"-\" * 48 \n",
    "    \n",
    "    line1 = blankrhf\n",
    "    line2 = blankstaff\n",
    "    line3 = blankstaff\n",
    "    line4 = blankstaff\n",
    "    line5 = blankstaff\n",
    "    line6 = blankstaff\n",
    "    line7 =  \" \" * ((48 - len(chord)) // 2) + chord + \" \" * ((48 - len(chord)) // 2)\n",
    "\n",
    "\n",
    "    staffpos16 = [2,5,8,11,14,17,20,23,26,29,32,35,38,41,44,47]# index of tabulature character string where to insert note\n",
    "    \n",
    "    roll_list = []\n",
    "    \n",
    "    def repeat_list_elements(lst, n):\n",
    "        result = []\n",
    "        for i in range(n):\n",
    "            result.append(lst[i % len(lst)])\n",
    "        return result\n",
    "    \n",
    "\n",
    "    for i,note in enumerate(melody):\n",
    "        result = LowestOnNeck(note)\n",
    "#         print(result)\n",
    "        if result == None:\n",
    "            roll_list.append(' ')\n",
    "            pass\n",
    "            \n",
    "        elif result[0]=='d':\n",
    "            line2 = replace_character_at_index(line2,staffpos16[i],str(result[1]))\n",
    "            if line1[staffpos16[i-1]]=='I':\n",
    "                line1 = replace_character_at_index(line1,staffpos16[i],\"M\")\n",
    "                roll_list.append(\"M\")\n",
    "            elif line1[staffpos16[i-1]]=='M':\n",
    "                line1 = replace_character_at_index(line1,staffpos16[i],\"I\")\n",
    "                roll_list.append(\"I\")\n",
    "            elif line1[staffpos16[i-1]]=='T':\n",
    "                line1 = replace_character_at_index(line1,staffpos16[i],\"M\")\n",
    "                roll_list.append(\"M\")\n",
    "        elif result[0]=='B':\n",
    "            line3 = replace_character_at_index(line3,staffpos16[i],str(result[1]))\n",
    "            if line1[staffpos16[i-1]]=='I':\n",
    "                line1 = replace_character_at_index(line1,staffpos16[i],\"M\")\n",
    "                roll_list.append(\"M\")\n",
    "            elif line1[staffpos16[i-1]]=='M':\n",
    "                line1 = replace_character_at_index(line1,staffpos16[i],\"I\")\n",
    "                roll_list.append(\"I\")\n",
    "            elif line1[staffpos16[i-1]]=='T':\n",
    "                line1 = replace_character_at_index(line1,staffpos16[i],\"M\")\n",
    "                roll_list.append(\"M\")\n",
    "        elif result[0]=='G':\n",
    "            line4 = replace_character_at_index(line4,staffpos16[i],str(result[1]))\n",
    "            if melody[i-1]=='-':\n",
    "                line1 = replace_character_at_index(line1,staffpos16[i],\"T\")\n",
    "                roll_list.append(\"T\")\n",
    "        elif result[0]=='D':\n",
    "            line5 = replace_character_at_index(line5,staffpos16[i],str(result[1]))\n",
    "            line1 = replace_character_at_index(line1,staffpos16[i],'T')\n",
    "            roll_list.append(\"T\")\n",
    "        elif result[0]=='g':\n",
    "            line6 = replace_character_at_index(line6,staffpos[i],str(result[1]))\n",
    "            line1 = replace_character_at_index(line1,staffpos[i],'T')\n",
    "            roll_list.append(\"T\")\n",
    "    \n",
    "    \n",
    "\n",
    "        \n",
    "    \n",
    "    melody_tablature = \"\\n\".join([line1, line2, line3, line4, line5, line6,line7])\n",
    "    \n",
    "    firstnote = melody[0]\n",
    "    \n",
    "    return melody_tablature\n",
    "\n",
    "print(one_bar_melody(OOMHmelody,'eMajor'))  \n",
    "\n",
    "\n",
    "#now we gotta figure out the roll. maybe we make some fun rules with the gaps\n",
    "   \n"
   ]
  },
  {
   "cell_type": "code",
   "execution_count": 259,
   "id": "302654b5-46b8-4489-8b10-93adcd08ba17",
   "metadata": {},
   "outputs": [
    {
     "data": {
      "text/plain": [
       "'|                                                '"
      ]
     },
     "execution_count": 259,
     "metadata": {},
     "output_type": "execute_result"
    }
   ],
   "source": [
    "\"|\"+\" \"*48"
   ]
  },
  {
   "cell_type": "code",
   "execution_count": 280,
   "id": "763dd163-de5f-4736-8228-9495704ec64e",
   "metadata": {},
   "outputs": [
    {
     "data": {
      "text/plain": [
       "[['T', 'I', 'M', 'I', 'T', 'I', 'M', 'I'],\n",
       " ['I', 'M', 'T', 'M', 'I', 'M', 'T', 'M'],\n",
       " ['T', 'I', 'M', 'I', 'M', 'T', 'M', 'I'],\n",
       " ['T', 'M', 'T', 'I', 'T', 'M', 'T', 'I'],\n",
       " ['T', 'I', 'M', 'T', 'I', 'T', 'M', 'I', 'T', 'M'],\n",
       " ['T', 'I', 'M', 'T', 'P', 'I', 'M', 'I'],\n",
       " ['I', 'M', 'T', 'M', 'P', 'I', 'M', 'I'],\n",
       " ['T', 'P', 'M', 'P', 'I', 'P', 'M', 'P'],\n",
       " ['T', 'I', 'M', 'I', 'T', 'S', 'M', 'I']]"
      ]
     },
     "execution_count": 280,
     "metadata": {},
     "output_type": "execute_result"
    }
   ],
   "source": [
    "rolls"
   ]
  },
  {
   "cell_type": "code",
   "execution_count": 281,
   "id": "f65ecbc2-db4a-4d02-99f3-a523928c757a",
   "metadata": {},
   "outputs": [],
   "source": [
    "def repeat_list_elements(lst, n):\n",
    "    result = []\n",
    "    for i in range(n):\n",
    "        result.append(lst[i % len(lst)])\n",
    "    return result"
   ]
  },
  {
   "cell_type": "code",
   "execution_count": 282,
   "id": "61e71e18-ac13-40d0-b165-cab032f87a23",
   "metadata": {},
   "outputs": [
    {
     "data": {
      "text/plain": [
       "[['T', 'I', 'M', 'I', 'T', 'I', 'M', 'I'],\n",
       " ['I', 'M', 'T', 'M', 'I', 'M', 'T', 'M'],\n",
       " ['T', 'I', 'M', 'I', 'M', 'T', 'M', 'I'],\n",
       " ['T', 'M', 'T', 'I', 'T', 'M', 'T', 'I'],\n",
       " ['T', 'I', 'M', 'T', 'I', 'T', 'M', 'I', 'T', 'M'],\n",
       " ['T', 'I', 'M', 'T', 'P', 'I', 'M', 'I'],\n",
       " ['I', 'M', 'T', 'M', 'P', 'I', 'M', 'I'],\n",
       " ['T', 'P', 'M', 'P', 'I', 'P', 'M', 'P'],\n",
       " ['T', 'I', 'M', 'I', 'T', 'S', 'M', 'I'],\n",
       " ['T', 'I', 'M', 'I', 'T', 'I', 'M', 'I'],\n",
       " ['I', 'M', 'T', 'M', 'I', 'M', 'T', 'M'],\n",
       " ['T', 'I', 'M', 'I', 'M', 'T', 'M', 'I'],\n",
       " ['T', 'M', 'T', 'I', 'T', 'M', 'T', 'I'],\n",
       " ['T', 'I', 'M', 'T', 'I', 'T', 'M', 'I', 'T', 'M'],\n",
       " ['T', 'I', 'M', 'T', 'P', 'I', 'M', 'I'],\n",
       " ['I', 'M', 'T', 'M', 'P', 'I', 'M', 'I']]"
      ]
     },
     "execution_count": 282,
     "metadata": {},
     "output_type": "execute_result"
    }
   ],
   "source": [
    "repeat_list_elements(rolls,16)"
   ]
  },
  {
   "cell_type": "code",
   "execution_count": 284,
   "id": "387ff73d-ccad-465e-a4de-0c248220d1f9",
   "metadata": {},
   "outputs": [
    {
     "data": {
      "text/plain": [
       "[['T',\n",
       "  'I',\n",
       "  'M',\n",
       "  'I',\n",
       "  'T',\n",
       "  'I',\n",
       "  'M',\n",
       "  'I',\n",
       "  'T',\n",
       "  'I',\n",
       "  'M',\n",
       "  'I',\n",
       "  'T',\n",
       "  'I',\n",
       "  'M',\n",
       "  'I'],\n",
       " ['I',\n",
       "  'M',\n",
       "  'T',\n",
       "  'M',\n",
       "  'I',\n",
       "  'M',\n",
       "  'T',\n",
       "  'M',\n",
       "  'I',\n",
       "  'M',\n",
       "  'T',\n",
       "  'M',\n",
       "  'I',\n",
       "  'M',\n",
       "  'T',\n",
       "  'M'],\n",
       " ['T',\n",
       "  'I',\n",
       "  'M',\n",
       "  'I',\n",
       "  'M',\n",
       "  'T',\n",
       "  'M',\n",
       "  'I',\n",
       "  'T',\n",
       "  'I',\n",
       "  'M',\n",
       "  'I',\n",
       "  'M',\n",
       "  'T',\n",
       "  'M',\n",
       "  'I'],\n",
       " ['T',\n",
       "  'M',\n",
       "  'T',\n",
       "  'I',\n",
       "  'T',\n",
       "  'M',\n",
       "  'T',\n",
       "  'I',\n",
       "  'T',\n",
       "  'M',\n",
       "  'T',\n",
       "  'I',\n",
       "  'T',\n",
       "  'M',\n",
       "  'T',\n",
       "  'I'],\n",
       " ['T',\n",
       "  'I',\n",
       "  'M',\n",
       "  'T',\n",
       "  'I',\n",
       "  'T',\n",
       "  'M',\n",
       "  'I',\n",
       "  'T',\n",
       "  'M',\n",
       "  'T',\n",
       "  'I',\n",
       "  'M',\n",
       "  'T',\n",
       "  'I',\n",
       "  'T'],\n",
       " ['T',\n",
       "  'I',\n",
       "  'M',\n",
       "  'T',\n",
       "  'P',\n",
       "  'I',\n",
       "  'M',\n",
       "  'I',\n",
       "  'T',\n",
       "  'I',\n",
       "  'M',\n",
       "  'T',\n",
       "  'P',\n",
       "  'I',\n",
       "  'M',\n",
       "  'I'],\n",
       " ['I',\n",
       "  'M',\n",
       "  'T',\n",
       "  'M',\n",
       "  'P',\n",
       "  'I',\n",
       "  'M',\n",
       "  'I',\n",
       "  'I',\n",
       "  'M',\n",
       "  'T',\n",
       "  'M',\n",
       "  'P',\n",
       "  'I',\n",
       "  'M',\n",
       "  'I'],\n",
       " ['T',\n",
       "  'P',\n",
       "  'M',\n",
       "  'P',\n",
       "  'I',\n",
       "  'P',\n",
       "  'M',\n",
       "  'P',\n",
       "  'T',\n",
       "  'P',\n",
       "  'M',\n",
       "  'P',\n",
       "  'I',\n",
       "  'P',\n",
       "  'M',\n",
       "  'P'],\n",
       " ['T',\n",
       "  'I',\n",
       "  'M',\n",
       "  'I',\n",
       "  'T',\n",
       "  'S',\n",
       "  'M',\n",
       "  'I',\n",
       "  'T',\n",
       "  'I',\n",
       "  'M',\n",
       "  'I',\n",
       "  'T',\n",
       "  'S',\n",
       "  'M',\n",
       "  'I']]"
      ]
     },
     "execution_count": 284,
     "metadata": {},
     "output_type": "execute_result"
    }
   ],
   "source": [
    "comparators = []\n",
    "for i in rolls:\n",
    "    comparators.append(repeat_list_elements(i,16))\n",
    "comparators\n",
    "    "
   ]
  },
  {
   "cell_type": "code",
   "execution_count": null,
   "id": "b025cb9d-c1e1-41c9-84be-ab8f4371f08b",
   "metadata": {},
   "outputs": [],
   "source": []
  }
 ],
 "metadata": {
  "kernelspec": {
   "display_name": "Python 3",
   "language": "python",
   "name": "python3"
  },
  "language_info": {
   "codemirror_mode": {
    "name": "ipython",
    "version": 3
   },
   "file_extension": ".py",
   "mimetype": "text/x-python",
   "name": "python",
   "nbconvert_exporter": "python",
   "pygments_lexer": "ipython3",
   "version": "3.8.8"
  }
 },
 "nbformat": 4,
 "nbformat_minor": 5
}
