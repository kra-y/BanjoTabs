{
 "cells": [
  {
   "cell_type": "code",
   "execution_count": 1,
   "id": "05d4f32c-423f-4c25-80ee-faaf9af5853b",
   "metadata": {},
   "outputs": [],
   "source": [
    "TabBanjo = {\"d\":[\"d\",\"d#\",\"e\",\"f\",\"f#\",\"g\",\"g#\",\"a\",\"a#\",\"b\",\"c\",\"c#\",\"d\",\"d#\",\"e\",\"f\",\"f#\",\"g\",\"g#\",\"a\",\"a#\",\"b\",\"c\"],\n",
    "                 \"B\":[\"b\",\"c\",\"c#\",\"d\",\"c#\",\"e\",\"f\",\"f#\",\"g\",\"g#\",\"a\",\"a#\",\"b\",\"c\",\"c#\",\"d\",\"d#\",\"e\",\"f\",\"f#\",\"g\",\"g#\",\"a\"],\n",
    "                 \"G\":[\"g\",\"g#\",\"a\",\"a#\",\"b\",\"c\",\"c#\",\"d\",\"d#\",\"e\",\"f\",\"f#\",\"g\",\"g#\",\"a\",\"a#\",\"b\",\"c\",\"c#\",\"d\",\"d#\",\"e\",\"f\"],\n",
    "                 \"D\":[\"d\",\"d#\",\"e\",\"f\",\"f#\",\"g\",\"g#\",\"a\",\"a#\",\"b\",\"c\",\"c#\",\"d\",\"d#\",\"e\",\"f\",\"f#\",\"g\",\"g#\",\"a\",\"a#\",\"b\",\"c\"],\n",
    "                 \"g\":[\"d\",\"d#\",\"e\",\"f\",\"f#\",\"g\",\"g#\",\"a\",\"a#\",\"b\",\"c\",\"c#\",\"d\",\"d#\",\"e\",\"f\",\"f#\",\"g\",\"g#\",\"a\",\"a#\",\"b\",\"c\",\"m\"]}"
   ]
  },
  {
   "cell_type": "code",
   "execution_count": 2,
   "id": "9c11ffa3-a6a7-445e-8553-ce1efff6c407",
   "metadata": {
    "tags": []
   },
   "outputs": [],
   "source": [
    "#To generate all chords in a chord library, we should only need one chord of a class and then can generate all 12 notes of the chromatic scale\n",
    "#for example:\n",
    "#the chord C Major is composed of the notes of C,E,and G, and\n",
    "# C# Major is composed of C#,F,and G#\n",
    "# continue down the the chromatic scale to get all the notes that compose each Major chord in the chromatic scale. \n",
    "\n",
    "#Once we have this we'll be able to generate any dictionary of any chord variety\n",
    "\n",
    "# to start we'll make the list of notes in the chromatic scale\n",
    "\n",
    "chromatic_scale = ['c','c#','d','d#','e','f','f#','g','g#','a','a#','b']"
   ]
  },
  {
   "cell_type": "code",
   "execution_count": 3,
   "id": "0264cd2f-640e-43dd-afc8-3a2e0244a617",
   "metadata": {
    "tags": []
   },
   "outputs": [],
   "source": [
    "#let's define a function that translates one note to another by n steps\n",
    "\n",
    "#the input should be the root note and number of half steps\n",
    "\n",
    "def translate_note(root,steps):\n",
    "    index = chromatic_scale.index(root)\n",
    "    return chromatic_scale[(index+steps)%len(chromatic_scale)]\n",
    "        "
   ]
  },
  {
   "cell_type": "code",
   "execution_count": 4,
   "id": "aab7ac4f-1ecd-4c57-bf3b-e2e4281cd0e3",
   "metadata": {
    "tags": []
   },
   "outputs": [],
   "source": [
    "Major_dict = {}\n",
    "for note in chromatic_scale:\n",
    "    Major_dict[note+\"Major\"] = [translate_note(note,0),translate_note(note,4),translate_note(note,7)]\n",
    "# Major_dict"
   ]
  },
  {
   "cell_type": "code",
   "execution_count": 5,
   "id": "6906c88f-96c2-4258-8b4d-a734ea4c4416",
   "metadata": {
    "tags": []
   },
   "outputs": [
    {
     "data": {
      "text/plain": [
       "{'cMinor': ['c', 'd#', 'g'],\n",
       " 'c#Minor': ['c#', 'e', 'g#'],\n",
       " 'dMinor': ['d', 'f', 'a'],\n",
       " 'd#Minor': ['d#', 'f#', 'a#'],\n",
       " 'eMinor': ['e', 'g', 'b'],\n",
       " 'fMinor': ['f', 'g#', 'c'],\n",
       " 'f#Minor': ['f#', 'a', 'c#'],\n",
       " 'gMinor': ['g', 'a#', 'd'],\n",
       " 'g#Minor': ['g#', 'b', 'd#'],\n",
       " 'aMinor': ['a', 'c', 'e'],\n",
       " 'a#Minor': ['a#', 'c#', 'f'],\n",
       " 'bMinor': ['b', 'd', 'f#']}"
      ]
     },
     "execution_count": 5,
     "metadata": {},
     "output_type": "execute_result"
    }
   ],
   "source": [
    "Minor_dict = {}\n",
    "for note in chromatic_scale:\n",
    "    Minor_dict[note+\"Minor\"] = [translate_note(note,0),translate_note(note,3),translate_note(note,7)]\n",
    "Minor_dict"
   ]
  },
  {
   "cell_type": "code",
   "execution_count": 6,
   "id": "04b91925-4616-4cd3-87a1-b66aaaf280a3",
   "metadata": {
    "tags": []
   },
   "outputs": [],
   "source": [
    "dom7_dict = {}\n",
    "for note in chromatic_scale:\n",
    "    dom7_dict[note+\"dom7\"] = [translate_note(note,0),translate_note(note,4),translate_note(note,7),translate_note(note,10)]\n",
    "# dom7_dict"
   ]
  },
  {
   "cell_type": "code",
   "execution_count": 7,
   "id": "9cc483c8-82b4-4d61-891b-2e9baa5bd415",
   "metadata": {
    "tags": []
   },
   "outputs": [
    {
     "data": {
      "text/plain": [
       "{'cMinor7': ['c', 'd#', 'g', 'a#'],\n",
       " 'c#Minor7': ['c#', 'e', 'g#', 'b'],\n",
       " 'dMinor7': ['d', 'f', 'a', 'c'],\n",
       " 'd#Minor7': ['d#', 'f#', 'a#', 'c#'],\n",
       " 'eMinor7': ['e', 'g', 'b', 'd'],\n",
       " 'fMinor7': ['f', 'g#', 'c', 'd#'],\n",
       " 'f#Minor7': ['f#', 'a', 'c#', 'e'],\n",
       " 'gMinor7': ['g', 'a#', 'd', 'f'],\n",
       " 'g#Minor7': ['g#', 'b', 'd#', 'f#'],\n",
       " 'aMinor7': ['a', 'c', 'e', 'g'],\n",
       " 'a#Minor7': ['a#', 'c#', 'f', 'g#'],\n",
       " 'bMinor7': ['b', 'd', 'f#', 'a']}"
      ]
     },
     "execution_count": 7,
     "metadata": {},
     "output_type": "execute_result"
    }
   ],
   "source": [
    "Minor7_dict = {}\n",
    "for note in chromatic_scale:\n",
    "    Minor7_dict[note+\"Minor7\"] = [translate_note(note,0),translate_note(note,3),translate_note(note,7),translate_note(note,10)]\n",
    "Minor7_dict"
   ]
  },
  {
   "cell_type": "code",
   "execution_count": 8,
   "id": "8ca4ca9f-cb86-421c-8b09-6fa61ddc4187",
   "metadata": {
    "jupyter": {
     "source_hidden": true
    },
    "tags": []
   },
   "outputs": [],
   "source": [
    "Major7_dict = {}\n",
    "for note in chromatic_scale:\n",
    "    Major7_dict[note+\"Major7\"] = [translate_note(note,0),translate_note(note,4),translate_note(note,7),translate_note(note,11)]\n",
    "# Major7_dict"
   ]
  },
  {
   "cell_type": "code",
   "execution_count": 9,
   "id": "43eec8be-f5bc-4e12-88b8-454fc84df8d4",
   "metadata": {
    "jupyter": {
     "source_hidden": true
    },
    "tags": []
   },
   "outputs": [],
   "source": [
    "Minor7flat5_dict = {}\n",
    "for note in chromatic_scale:\n",
    "    Minor7flat5_dict[note+\"Minor7flat5\"] = [translate_note(note,0),translate_note(note,3),translate_note(note,6),translate_note(note,10)]\n",
    "# Minor7flat5_dict"
   ]
  },
  {
   "cell_type": "code",
   "execution_count": 10,
   "id": "69982c70-50c2-42b7-ad2a-fb01fc6d910f",
   "metadata": {
    "jupyter": {
     "source_hidden": true
    },
    "tags": []
   },
   "outputs": [],
   "source": [
    "dim_dict = {}\n",
    "for note in chromatic_scale:\n",
    "    dim_dict[note+\"dim\"] = [translate_note(note,0),translate_note(note,3),translate_note(note,6)]\n",
    "# dim_dict"
   ]
  },
  {
   "cell_type": "code",
   "execution_count": 11,
   "id": "9274314d-71db-49cb-b82f-a2c87a02a713",
   "metadata": {
    "jupyter": {
     "source_hidden": true
    },
    "tags": []
   },
   "outputs": [],
   "source": [
    "dim7_dict = {}\n",
    "for note in chromatic_scale:\n",
    "    dim7_dict[note+\"dim7\"] = [translate_note(note,0),translate_note(note,3),translate_note(note,6),translate_note(note,9)]\n",
    "# dim7_dict"
   ]
  },
  {
   "cell_type": "code",
   "execution_count": 12,
   "id": "3d4f9994-3b04-495d-981a-f4401175bfff",
   "metadata": {
    "jupyter": {
     "source_hidden": true
    },
    "tags": []
   },
   "outputs": [],
   "source": [
    "aug_dict = {}\n",
    "for note in chromatic_scale:\n",
    "    aug_dict[note+\"aug\"] = [translate_note(note,0),translate_note(note,4),translate_note(note,8)]\n",
    "# aug_dict"
   ]
  },
  {
   "cell_type": "code",
   "execution_count": 13,
   "id": "f2139bd4-99ce-4384-8d08-01afb112f145",
   "metadata": {
    "jupyter": {
     "source_hidden": true
    },
    "tags": []
   },
   "outputs": [],
   "source": [
    "Major6_dict = {}\n",
    "for note in chromatic_scale:\n",
    "    Major6_dict[note+\"Major6\"] = [translate_note(note,0),translate_note(note,4),translate_note(note,7),translate_note(note,9)]\n",
    "# Major6_dict"
   ]
  },
  {
   "cell_type": "code",
   "execution_count": 14,
   "id": "f1fd72a4-8347-49a7-b7ea-0f01983f3e4c",
   "metadata": {
    "jupyter": {
     "source_hidden": true
    },
    "tags": []
   },
   "outputs": [],
   "source": [
    "Minor6_dict = {}\n",
    "for note in chromatic_scale:\n",
    "    Minor6_dict[note+\"Minor6\"] = [translate_note(note,0),translate_note(note,3),translate_note(note,7),translate_note(note,9)]\n",
    "# Minor6_dict"
   ]
  },
  {
   "cell_type": "code",
   "execution_count": 15,
   "id": "589463e9-ad87-45c0-aee5-e00f6d342b82",
   "metadata": {
    "jupyter": {
     "source_hidden": true
    },
    "tags": []
   },
   "outputs": [],
   "source": [
    "Major7sharp5_dict = {}\n",
    "for note in chromatic_scale:\n",
    "    Major7sharp5_dict[note+\"Major7sharp5\"] = [translate_note(note,0),translate_note(note,4),translate_note(note,8),translate_note(note,10)]\n",
    "# Major7sharp5_dict"
   ]
  },
  {
   "cell_type": "code",
   "execution_count": 16,
   "id": "43d8b91f-56ec-4d9e-8a50-e94cec290572",
   "metadata": {
    "jupyter": {
     "source_hidden": true
    },
    "tags": []
   },
   "outputs": [],
   "source": [
    "Major7flat5_dict = {}\n",
    "for note in chromatic_scale:\n",
    "    Major7flat5_dict[note+\"Major7flat5\"] = [translate_note(note,0),translate_note(note,4),translate_note(note,6),translate_note(note,10)]\n",
    "# Major7flat5_dict"
   ]
  },
  {
   "cell_type": "code",
   "execution_count": 17,
   "id": "e5f8f2ee-65ac-470a-931a-c209c66082ae",
   "metadata": {
    "jupyter": {
     "source_hidden": true
    },
    "tags": []
   },
   "outputs": [],
   "source": [
    "def Merge(dict1, dict2):\n",
    "    return(dict2.update(dict1))"
   ]
  },
  {
   "cell_type": "code",
   "execution_count": 18,
   "id": "e42a175c-3ac6-4de2-9891-17c5c754660f",
   "metadata": {
    "jupyter": {
     "source_hidden": true
    },
    "tags": []
   },
   "outputs": [],
   "source": [
    "Merge(Major_dict,Minor_dict)\n",
    "Merge(Minor_dict,dom7_dict)\n",
    "Merge(dom7_dict,Minor7_dict)\n",
    "Merge(Minor7_dict,Major7_dict)\n",
    "Merge(Major7_dict,Minor7flat5_dict)\n",
    "Merge(Minor7flat5_dict,dim_dict)\n",
    "Merge(Minor7flat5_dict,dim7_dict)\n",
    "Merge(dim7_dict,aug_dict)\n",
    "Merge(aug_dict,Major6_dict),\n",
    "Merge(Major6_dict,Minor6_dict),\n",
    "Merge(Minor6_dict,Major7sharp5_dict)\n",
    "Merge(Major7sharp5_dict,Major7flat5_dict)"
   ]
  },
  {
   "cell_type": "code",
   "execution_count": 19,
   "id": "6f5d30de-2b07-4942-af4a-e4de7f61e28a",
   "metadata": {
    "jupyter": {
     "source_hidden": true
    },
    "tags": []
   },
   "outputs": [],
   "source": [
    "chord_dict = {}\n",
    "Merge(Major7flat5_dict,chord_dict)"
   ]
  },
  {
   "cell_type": "code",
   "execution_count": 20,
   "id": "36f4a631-155d-4acf-95a2-76f55fb4430e",
   "metadata": {
    "tags": []
   },
   "outputs": [
    {
     "data": {
      "text/plain": [
       "{'cMajor7flat5': ['c', 'e', 'f#', 'a#'],\n",
       " 'c#Major7flat5': ['c#', 'f', 'g', 'b'],\n",
       " 'dMajor7flat5': ['d', 'f#', 'g#', 'c'],\n",
       " 'd#Major7flat5': ['d#', 'g', 'a', 'c#'],\n",
       " 'eMajor7flat5': ['e', 'g#', 'a#', 'd'],\n",
       " 'fMajor7flat5': ['f', 'a', 'b', 'd#'],\n",
       " 'f#Major7flat5': ['f#', 'a#', 'c', 'e'],\n",
       " 'gMajor7flat5': ['g', 'b', 'c#', 'f'],\n",
       " 'g#Major7flat5': ['g#', 'c', 'd', 'f#'],\n",
       " 'aMajor7flat5': ['a', 'c#', 'd#', 'g'],\n",
       " 'a#Major7flat5': ['a#', 'd', 'e', 'g#'],\n",
       " 'bMajor7flat5': ['b', 'd#', 'f', 'a'],\n",
       " 'cMajor7sharp5': ['c', 'e', 'g#', 'a#'],\n",
       " 'c#Major7sharp5': ['c#', 'f', 'a', 'b'],\n",
       " 'dMajor7sharp5': ['d', 'f#', 'a#', 'c'],\n",
       " 'd#Major7sharp5': ['d#', 'g', 'b', 'c#'],\n",
       " 'eMajor7sharp5': ['e', 'g#', 'c', 'd'],\n",
       " 'fMajor7sharp5': ['f', 'a', 'c#', 'd#'],\n",
       " 'f#Major7sharp5': ['f#', 'a#', 'd', 'e'],\n",
       " 'gMajor7sharp5': ['g', 'b', 'd#', 'f'],\n",
       " 'g#Major7sharp5': ['g#', 'c', 'e', 'f#'],\n",
       " 'aMajor7sharp5': ['a', 'c#', 'f', 'g'],\n",
       " 'a#Major7sharp5': ['a#', 'd', 'f#', 'g#'],\n",
       " 'bMajor7sharp5': ['b', 'd#', 'g', 'a'],\n",
       " 'cMinor6': ['c', 'd#', 'g', 'a'],\n",
       " 'c#Minor6': ['c#', 'e', 'g#', 'a#'],\n",
       " 'dMinor6': ['d', 'f', 'a', 'b'],\n",
       " 'd#Minor6': ['d#', 'f#', 'a#', 'c'],\n",
       " 'eMinor6': ['e', 'g', 'b', 'c#'],\n",
       " 'fMinor6': ['f', 'g#', 'c', 'd'],\n",
       " 'f#Minor6': ['f#', 'a', 'c#', 'd#'],\n",
       " 'gMinor6': ['g', 'a#', 'd', 'e'],\n",
       " 'g#Minor6': ['g#', 'b', 'd#', 'f'],\n",
       " 'aMinor6': ['a', 'c', 'e', 'f#'],\n",
       " 'a#Minor6': ['a#', 'c#', 'f', 'g'],\n",
       " 'bMinor6': ['b', 'd', 'f#', 'g#'],\n",
       " 'cMajor6': ['c', 'e', 'g', 'a'],\n",
       " 'c#Major6': ['c#', 'f', 'g#', 'a#'],\n",
       " 'dMajor6': ['d', 'f#', 'a', 'b'],\n",
       " 'd#Major6': ['d#', 'g', 'a#', 'c'],\n",
       " 'eMajor6': ['e', 'g#', 'b', 'c#'],\n",
       " 'fMajor6': ['f', 'a', 'c', 'd'],\n",
       " 'f#Major6': ['f#', 'a#', 'c#', 'd#'],\n",
       " 'gMajor6': ['g', 'b', 'd', 'e'],\n",
       " 'g#Major6': ['g#', 'c', 'd#', 'f'],\n",
       " 'aMajor6': ['a', 'c#', 'e', 'f#'],\n",
       " 'a#Major6': ['a#', 'd', 'f', 'g'],\n",
       " 'bMajor6': ['b', 'd#', 'f#', 'g#'],\n",
       " 'caug': ['c', 'e', 'g#'],\n",
       " 'c#aug': ['c#', 'f', 'a'],\n",
       " 'daug': ['d', 'f#', 'a#'],\n",
       " 'd#aug': ['d#', 'g', 'b'],\n",
       " 'eaug': ['e', 'g#', 'c'],\n",
       " 'faug': ['f', 'a', 'c#'],\n",
       " 'f#aug': ['f#', 'a#', 'd'],\n",
       " 'gaug': ['g', 'b', 'd#'],\n",
       " 'g#aug': ['g#', 'c', 'e'],\n",
       " 'aaug': ['a', 'c#', 'f'],\n",
       " 'a#aug': ['a#', 'd', 'f#'],\n",
       " 'baug': ['b', 'd#', 'g'],\n",
       " 'cdim7': ['c', 'd#', 'f#', 'a'],\n",
       " 'c#dim7': ['c#', 'e', 'g', 'a#'],\n",
       " 'ddim7': ['d', 'f', 'g#', 'b'],\n",
       " 'd#dim7': ['d#', 'f#', 'a', 'c'],\n",
       " 'edim7': ['e', 'g', 'a#', 'c#'],\n",
       " 'fdim7': ['f', 'g#', 'b', 'd'],\n",
       " 'f#dim7': ['f#', 'a', 'c', 'd#'],\n",
       " 'gdim7': ['g', 'a#', 'c#', 'e'],\n",
       " 'g#dim7': ['g#', 'b', 'd', 'f'],\n",
       " 'adim7': ['a', 'c', 'd#', 'f#'],\n",
       " 'a#dim7': ['a#', 'c#', 'e', 'g'],\n",
       " 'bdim7': ['b', 'd', 'f', 'g#'],\n",
       " 'cMinor7flat5': ['c', 'd#', 'f#', 'a#'],\n",
       " 'c#Minor7flat5': ['c#', 'e', 'g', 'b'],\n",
       " 'dMinor7flat5': ['d', 'f', 'g#', 'c'],\n",
       " 'd#Minor7flat5': ['d#', 'f#', 'a', 'c#'],\n",
       " 'eMinor7flat5': ['e', 'g', 'a#', 'd'],\n",
       " 'fMinor7flat5': ['f', 'g#', 'b', 'd#'],\n",
       " 'f#Minor7flat5': ['f#', 'a', 'c', 'e'],\n",
       " 'gMinor7flat5': ['g', 'a#', 'c#', 'f'],\n",
       " 'g#Minor7flat5': ['g#', 'b', 'd', 'f#'],\n",
       " 'aMinor7flat5': ['a', 'c', 'd#', 'g'],\n",
       " 'a#Minor7flat5': ['a#', 'c#', 'e', 'g#'],\n",
       " 'bMinor7flat5': ['b', 'd', 'f', 'a'],\n",
       " 'cMajor7': ['c', 'e', 'g', 'b'],\n",
       " 'c#Major7': ['c#', 'f', 'g#', 'c'],\n",
       " 'dMajor7': ['d', 'f#', 'a', 'c#'],\n",
       " 'd#Major7': ['d#', 'g', 'a#', 'd'],\n",
       " 'eMajor7': ['e', 'g#', 'b', 'd#'],\n",
       " 'fMajor7': ['f', 'a', 'c', 'e'],\n",
       " 'f#Major7': ['f#', 'a#', 'c#', 'f'],\n",
       " 'gMajor7': ['g', 'b', 'd', 'f#'],\n",
       " 'g#Major7': ['g#', 'c', 'd#', 'g'],\n",
       " 'aMajor7': ['a', 'c#', 'e', 'g#'],\n",
       " 'a#Major7': ['a#', 'd', 'f', 'a'],\n",
       " 'bMajor7': ['b', 'd#', 'f#', 'a#'],\n",
       " 'cMinor7': ['c', 'd#', 'g', 'a#'],\n",
       " 'c#Minor7': ['c#', 'e', 'g#', 'b'],\n",
       " 'dMinor7': ['d', 'f', 'a', 'c'],\n",
       " 'd#Minor7': ['d#', 'f#', 'a#', 'c#'],\n",
       " 'eMinor7': ['e', 'g', 'b', 'd'],\n",
       " 'fMinor7': ['f', 'g#', 'c', 'd#'],\n",
       " 'f#Minor7': ['f#', 'a', 'c#', 'e'],\n",
       " 'gMinor7': ['g', 'a#', 'd', 'f'],\n",
       " 'g#Minor7': ['g#', 'b', 'd#', 'f#'],\n",
       " 'aMinor7': ['a', 'c', 'e', 'g'],\n",
       " 'a#Minor7': ['a#', 'c#', 'f', 'g#'],\n",
       " 'bMinor7': ['b', 'd', 'f#', 'a'],\n",
       " 'cdom7': ['c', 'e', 'g', 'a#'],\n",
       " 'c#dom7': ['c#', 'f', 'g#', 'b'],\n",
       " 'ddom7': ['d', 'f#', 'a', 'c'],\n",
       " 'd#dom7': ['d#', 'g', 'a#', 'c#'],\n",
       " 'edom7': ['e', 'g#', 'b', 'd'],\n",
       " 'fdom7': ['f', 'a', 'c', 'd#'],\n",
       " 'f#dom7': ['f#', 'a#', 'c#', 'e'],\n",
       " 'gdom7': ['g', 'b', 'd', 'f'],\n",
       " 'g#dom7': ['g#', 'c', 'd#', 'f#'],\n",
       " 'adom7': ['a', 'c#', 'e', 'g'],\n",
       " 'a#dom7': ['a#', 'd', 'f', 'g#'],\n",
       " 'bdom7': ['b', 'd#', 'f#', 'a'],\n",
       " 'cMinor': ['c', 'd#', 'g'],\n",
       " 'c#Minor': ['c#', 'e', 'g#'],\n",
       " 'dMinor': ['d', 'f', 'a'],\n",
       " 'd#Minor': ['d#', 'f#', 'a#'],\n",
       " 'eMinor': ['e', 'g', 'b'],\n",
       " 'fMinor': ['f', 'g#', 'c'],\n",
       " 'f#Minor': ['f#', 'a', 'c#'],\n",
       " 'gMinor': ['g', 'a#', 'd'],\n",
       " 'g#Minor': ['g#', 'b', 'd#'],\n",
       " 'aMinor': ['a', 'c', 'e'],\n",
       " 'a#Minor': ['a#', 'c#', 'f'],\n",
       " 'bMinor': ['b', 'd', 'f#'],\n",
       " 'cMajor': ['c', 'e', 'g'],\n",
       " 'c#Major': ['c#', 'f', 'g#'],\n",
       " 'dMajor': ['d', 'f#', 'a'],\n",
       " 'd#Major': ['d#', 'g', 'a#'],\n",
       " 'eMajor': ['e', 'g#', 'b'],\n",
       " 'fMajor': ['f', 'a', 'c'],\n",
       " 'f#Major': ['f#', 'a#', 'c#'],\n",
       " 'gMajor': ['g', 'b', 'd'],\n",
       " 'g#Major': ['g#', 'c', 'd#'],\n",
       " 'aMajor': ['a', 'c#', 'e'],\n",
       " 'a#Major': ['a#', 'd', 'f'],\n",
       " 'bMajor': ['b', 'd#', 'f#']}"
      ]
     },
     "execution_count": 20,
     "metadata": {},
     "output_type": "execute_result"
    }
   ],
   "source": [
    "chord_dict"
   ]
  },
  {
   "cell_type": "code",
   "execution_count": 21,
   "id": "353164c2-c2cd-42af-82a3-a66de5aadfe0",
   "metadata": {
    "tags": []
   },
   "outputs": [],
   "source": [
    "# now that we have a chord dictionary we need to write a function that will return all the eecutable banjo chords. Crucially, the doable chord needs to include every note that comprises that chord at least once        "
   ]
  },
  {
   "cell_type": "code",
   "execution_count": 22,
   "id": "4e8f47fe-c0b1-4f76-807c-dbe058000aa2",
   "metadata": {
    "tags": []
   },
   "outputs": [],
   "source": [
    "#we need a function that takes the tuple and gives a list of notes played.\n",
    "def notes_from_chord(fingers):\n",
    "    notes = []\n",
    "    notes.append(TabBanjo['g'][fingers[0]])\n",
    "    notes.append(TabBanjo['D'][fingers[1]])\n",
    "    notes.append(TabBanjo['G'][fingers[2]])\n",
    "    notes.append(TabBanjo['B'][fingers[3]])\n",
    "    notes.append(TabBanjo['d'][fingers[4]])\n",
    "    return notes\n",
    "        "
   ]
  },
  {
   "cell_type": "code",
   "execution_count": 23,
   "id": "64e6004b-7da9-4398-8ee5-7e58afc35a3b",
   "metadata": {
    "tags": []
   },
   "outputs": [],
   "source": [
    "import itertools\n",
    "def get_chords(dct,note_list):\n",
    "    \n",
    "    #make a list of all the notes on the high d that appear in the notes list\n",
    "    d_string = [i for i,x in enumerate(dct[\"d\"])if x in note_list]\n",
    "    #make a list of all the notes on the B that appear in the notes list\n",
    "    B_string = [i for i,x in enumerate(dct[\"B\"])if x in note_list]\n",
    "    #make a list of all the notes on the G that appear in the notes list\n",
    "    G_string = [i for i,x in enumerate(dct[\"G\"])if x in note_list]\n",
    "    #make a list of all the notes on the D that appear in the notes list\n",
    "    D_string = [i for i,x in enumerate(dct[\"D\"])if x in note_list]\n",
    "    #make a list of all the notes on the high g that appear in the notes list\n",
    "    g_string = [i for i,x in enumerate(dct[\"g\"])if x in note_list]\n",
    "    chords = itertools.product(g_string,D_string,G_string,B_string,d_string)\n",
    "#     for i in chords:\n",
    "#         print(i)\n",
    "    doable_chords = []\n",
    "    for i in chords:\n",
    "        i = list(i)\n",
    "        notes = notes_from_chord(i)\n",
    "#             # now that we have a chord dictionary we need to write a function that will return all the excutable banjo chords. Crucially, the doable chord needs to include every note that comprises that chord at least once\n",
    "# first we check the notes that play in our chord camdidate\n",
    "        check = all(item in notes for item in note_list)\n",
    "#         print(notes,check)\n",
    "        if (max(i) - min(i))<=2 and check:\n",
    "#             print(notes,i)\n",
    "            doable_chords.append(i)\n",
    "#     print(doable_chords)\n",
    "    for chord in doable_chords:\n",
    "        if chord[0]<=5 and 'g' in note_list:\n",
    "            chord[0] = 0\n",
    "        elif chord[0]<=5 and 'g' not in note_list:\n",
    "            chord[0] = 'm'\n",
    "    return doable_chords\n",
    "    \n",
    "    "
   ]
  },
  {
   "cell_type": "code",
   "execution_count": 24,
   "id": "715d502e-9199-4e82-bafd-a12c6009019c",
   "metadata": {},
   "outputs": [],
   "source": [
    "\n",
    "# We need to define a function that takes a chord, a number of beats, and a roll to createthe bancjo tablture\n",
    "def DrawOneBar(chord, roll = [\"T\",\"I\",\"T\",\"M\"]):\n",
    "    RHFing = ''\n",
    "    line1 = [f' {finger}{space}' for finger in roll for space in ['']]\n",
    "    RollFingers = (RHFing.join(line1)*2+' ')\n",
    "    Frets = get_chords(TabBanjo,chord_dict[chord])[0]\n",
    "    g = Frets[0]\n",
    "    D = Frets[1]\n",
    "    G = Frets[2]\n",
    "    B = Frets[3]\n",
    "    d = Frets[4]\n",
    "    line2 = f'|------{d}-------{d}-'\n",
    "    line3 = f'|--{B}-------{B}-----'\n",
    "    line4 = f'|{G}---------------'\n",
    "    line5 = f'|--------{D}-------'\n",
    "    line6 = f'|----{g}-------{g}---'\n",
    "    line7 = f'     {chord}     '\n",
    "        \n",
    "#     print(f'{RollFingers*beats}\\n{line2*beats}\\n{line3*beats}\\n{line4*beats}\\n{line5*beats}\\n{line6*beats}\\n{line7*beats}')\n",
    "    bar = f'{RollFingers}\\n{line2}\\n{line3}\\n{line4}\\n{line5}\\n{line6}\\n{line7}'\n",
    "    return bar\n",
    "    "
   ]
  },
  {
   "cell_type": "code",
   "execution_count": 25,
   "id": "ea0b3f7d-2a35-450c-9bac-9684e3744f5f",
   "metadata": {},
   "outputs": [
    {
     "name": "stdout",
     "output_type": "stream",
     "text": [
      " T I T M T I T M \n",
      "|------2-------2-\n",
      "|--0-------0-----\n",
      "|1---------------\n",
      "|--------2-------\n",
      "|----m-------m---\n",
      "     eMajor     \n"
     ]
    }
   ],
   "source": [
    "print(DrawOneBar('eMajor',[\"T\",\"I\",\"T\",\"M\"]))\n"
   ]
  },
  {
   "cell_type": "code",
   "execution_count": 37,
   "id": "24a05a13-7286-4d1b-aedc-c4e997444b96",
   "metadata": {},
   "outputs": [],
   "source": [
    "# now we need superimpose a melody all played in 1/4 notes over the tab dleting the already plpaced chord notes.\n",
    "#How am I going "
   ]
  },
  {
   "cell_type": "code",
   "execution_count": 32,
   "id": "c315c497",
   "metadata": {},
   "outputs": [],
   "source": [
    "# Now let's figure out a way that we can ask python to listen to a note and tell us the frequency so we can get a good idea of the starting note of a melody...\n",
    "\n",
    "\n"
   ]
  },
  {
   "cell_type": "code",
   "execution_count": 38,
   "id": "0438a23c-ba0b-46be-b819-a4ee4f726702",
   "metadata": {},
   "outputs": [
    {
     "data": {
      "text/plain": [
       "[[0, 0, 0, 0, 2],\n",
       " [0, 2, 0, 0, 0],\n",
       " [0, 2, 0, 0, 2],\n",
       " [0, 0, 0, 0, 0],\n",
       " [0, 0, 0, 0, 2],\n",
       " [0, 2, 0, 0, 0],\n",
       " [12, 12, 12, 12, 14],\n",
       " [12, 14, 12, 12, 12],\n",
       " [12, 14, 12, 12, 14],\n",
       " [14, 12, 12, 12, 12],\n",
       " [14, 12, 12, 12, 14],\n",
       " [14, 14, 12, 12, 12]]"
      ]
     },
     "execution_count": 38,
     "metadata": {},
     "output_type": "execute_result"
    }
   ],
   "source": [
    "get_chords(TabBanjo,chord_dict['eMinor7'])"
   ]
  },
  {
   "cell_type": "code",
   "execution_count": 30,
   "id": "69ba1054-9651-4289-95c6-a0354719ad9c",
   "metadata": {},
   "outputs": [],
   "source": [
    "def ChooseString(note):\n",
    "    TabBanjo[note]\n",
    "\n",
    "def PlaceNoteOnLine(note,string,position):\n",
    "    \n"
   ]
  },
  {
   "cell_type": "code",
   "execution_count": 33,
   "id": "33e0a749-9914-4448-ad56-d366708da876",
   "metadata": {},
   "outputs": [
    {
     "name": "stdout",
     "output_type": "stream",
     "text": [
      "At least one of your arguments is not a list\n"
     ]
    }
   ],
   "source": [
    "PlaceNoteOnStaff([1],\"k\")"
   ]
  },
  {
   "cell_type": "code",
   "execution_count": 3,
   "id": "baa9db44-7d8e-49eb-b904-7a6e133a31d7",
   "metadata": {},
   "outputs": [
    {
     "name": "stdout",
     "output_type": "stream",
     "text": [
      "|0---------------\n",
      "|0-----4---------\n"
     ]
    }
   ],
   "source": [
    "start = '|----------------'\n",
    "pos = [1,7]\n",
    "note = ['0','4']\n",
    "for i in range(len(pos)):\n",
    "    start = start[0:pos[i]]+note[i]+start[pos[i]+1:]\n",
    "    print(start)\n",
    "# start = start[0:pos]+note+start[pos+1:]\n",
    "# print(start)\n",
    "\n",
    "\n",
    "# for i in range(2):\n",
    "#     print(start[0:pos[i]]+notes[i]+start[pos[i+1]:])\n",
    "\n",
    "# def PlaceTwoNotes(frets, positions):\n",
    "#     start = '|----------------'\n",
    "    "
   ]
  },
  {
   "cell_type": "code",
   "execution_count": 4,
   "id": "4bf6dcd9-7d14-46b0-b599-1eac6bd28e0a",
   "metadata": {},
   "outputs": [],
   "source": [
    "def replace_character_at_index(org_string,index,replacement):\n",
    "    new_string = org_string\n",
    "    if index<len(org_string):\n",
    "        \n",
    "        new_string = org_string[0:index]+replacement+org_string[index+1:]\n",
    "    return new_string"
   ]
  },
  {
   "cell_type": "code",
   "execution_count": 5,
   "id": "afa5c568-77f6-4a55-85ee-f4847ac6ec82",
   "metadata": {},
   "outputs": [
    {
     "data": {
      "text/plain": [
       "'|0---------------'"
      ]
     },
     "execution_count": 5,
     "metadata": {},
     "output_type": "execute_result"
    }
   ],
   "source": [
    "replace_character_at_index('|----------------',1,'0')"
   ]
  },
  {
   "cell_type": "code",
   "execution_count": null,
   "id": "c39cbf2f-179c-4cef-b010-e1a4fc2c84b4",
   "metadata": {},
   "outputs": [],
   "source": []
  },
  {
   "cell_type": "code",
   "execution_count": 6,
   "id": "f58e3356-1b16-45dd-b524-fc5f56758907",
   "metadata": {},
   "outputs": [],
   "source": [
    "def replace_character_at_index(org_string,index,replacement):\n",
    "    new_string = org_string\n",
    "    \n",
    "    new_string = org_string[0:index]+replacement+org_string[index+1:]\n",
    "    return new_string\n",
    "\n",
    "def place_notes_on_staff(positions, replacements):\n",
    "    start = '|----------------'\n",
    "    char_to_replace = {}\n",
    "    for i, j in zip(positions,replacements):\n",
    "#         print(pos,char)\n",
    "        char_to_replace[i]=j\n",
    "    for index,position in char_to_replace.items():\n",
    "        start = replace_character_at_index(start,index,position)\n",
    "    return start\n",
    "    \n",
    "    "
   ]
  },
  {
   "cell_type": "code",
   "execution_count": 44,
   "id": "97db66b5-daf1-4d26-a17c-b83d8c716fa5",
   "metadata": {},
   "outputs": [
    {
     "data": {
      "text/plain": [
       "'|jk--------------'"
      ]
     },
     "execution_count": 44,
     "metadata": {},
     "output_type": "execute_result"
    }
   ],
   "source": [
    "place_notes_on_staff([1,2],['j','k'])"
   ]
  },
  {
   "cell_type": "code",
   "execution_count": 45,
   "id": "2437d411-0fdb-43d1-b546-0c47227627cf",
   "metadata": {},
   "outputs": [
    {
     "data": {
      "text/plain": [
       "'jdjJJdkkdj'"
      ]
     },
     "execution_count": 45,
     "metadata": {},
     "output_type": "execute_result"
    }
   ],
   "source": [
    "replace_character_at_index('jdjjdkkdj',3,'JJ')"
   ]
  },
  {
   "cell_type": "code",
   "execution_count": 46,
   "id": "5d672f7c-8657-4034-a5c8-70279c12043f",
   "metadata": {},
   "outputs": [
    {
     "name": "stdout",
     "output_type": "stream",
     "text": [
      "1\n",
      "16\n",
      "8\n",
      "1\n",
      "1\n"
     ]
    }
   ],
   "source": [
    "# ok we need to create a function that takes a string of quarter notes (\"c\",\"d\",\"e\",\"f\",\"g\",\"a\",\"b\",\"c\") and spits out the scale on ta banjo tab\n",
    "\n",
    "for key, value in TabBanjo.items():\n",
    "    print(TabBanjo[key].index('d#'))"
   ]
  },
  {
   "cell_type": "code",
   "execution_count": 47,
   "id": "0cd4570d-7da1-4917-99fb-ce8af1f370ad",
   "metadata": {},
   "outputs": [],
   "source": [
    "#we need to define a function that prints out from the TabBanjo all the places where a note falls on the staff\n",
    "\n",
    "def FindFret(firstnote):\n",
    "    candidates={}\n",
    "    for string in TabBanjo:\n",
    "        indeces = [i for i,j in enumerate(TabBanjo[string])if j==firstnote]\n",
    "        candidates[string] = indeces\n",
    "    return candidates\n"
   ]
  },
  {
   "cell_type": "code",
   "execution_count": 48,
   "id": "9f716e6e-3704-41d7-85ea-0ed1733d2ea3",
   "metadata": {},
   "outputs": [
    {
     "name": "stdout",
     "output_type": "stream",
     "text": [
      "Thre string that has the lowest  fretted g is:G - and the fret is: 0\n"
     ]
    }
   ],
   "source": [
    "a = FindFret('g')\n",
    "print(\"Thre string that has the lowest  fretted g is:{} - and the fret is: {}\".format(min(a, key=a.get), a[min(a, key=a.get)][0]))"
   ]
  },
  {
   "cell_type": "code",
   "execution_count": 49,
   "id": "8aa2f315-83be-44b1-94b2-0a2524aef902",
   "metadata": {},
   "outputs": [],
   "source": [
    "# for the first note in a melody we eant to find the lowest fret on the neck that produces that note\n",
    "def LowestOnNeck(firstnote):\n",
    "    candidates = FindFret(firstnote)\n",
    "    string = min(candidates,key = candidates.get)\n",
    "    fret = candidates[min(candidates,key = candidates.get)][0]\n",
    "    return string,fret\n",
    "    "
   ]
  },
  {
   "cell_type": "code",
   "execution_count": 50,
   "id": "bc0a1c62-34f5-46eb-b547-48ef66550eaa",
   "metadata": {},
   "outputs": [
    {
     "data": {
      "text/plain": [
       "('B', 2)"
      ]
     },
     "execution_count": 50,
     "metadata": {},
     "output_type": "execute_result"
    }
   ],
   "source": [
    "LowestOnNeck('c#')"
   ]
  },
  {
   "cell_type": "code",
   "execution_count": 51,
   "id": "6d2b6676-c49e-472f-b853-5685e889e5b9",
   "metadata": {},
   "outputs": [],
   "source": [
    "#now we need a function that finds the closest next note and fret when given an initial note and fret, and the next note\n",
    "def NextNote(initialfret,nextnote):\n",
    "    candidates = FindFrets(nextnote)\n",
    "    for string in TabBanjo:\n",
    "        string = min(candidates)"
   ]
  },
  {
   "cell_type": "code",
   "execution_count": 52,
   "id": "1ea7a852-3798-479b-87f6-c1e5c34012c0",
   "metadata": {},
   "outputs": [],
   "source": [
    "a = FindFret('f#')\n",
    "# key, value = min(.items(), key=lambda (_, v): abs(v - target))"
   ]
  },
  {
   "cell_type": "code",
   "execution_count": 53,
   "id": "0f1b78fa-9751-4e44-8247-4ae67296c774",
   "metadata": {},
   "outputs": [
    {
     "name": "stdout",
     "output_type": "stream",
     "text": [
      "{'d': [4, 16], 'B': [7, 19], 'G': [11], 'D': [4, 16], 'g': [4, 16]}\n",
      "100\n",
      "4\n"
     ]
    }
   ],
   "source": [
    "print(a)\n",
    "testval = 5\n",
    "candidate  = ['',100]\n",
    "print(candidate[1])\n",
    "if 4<candidate[1]:\n",
    "    candidate[1] = 4\n",
    "print(candidate[1])\n"
   ]
  },
  {
   "cell_type": "code",
   "execution_count": 54,
   "id": "c79d8cdc-4fc1-40d0-8e52-eb1b7884eee6",
   "metadata": {},
   "outputs": [],
   "source": [
    "def index_of_closest(number,l):# given a number and a list of numbers this finds the index of the number in the list that is closest to the given number\n",
    "    newl = []\n",
    "    for i in l:\n",
    "        newl.append(abs(i-number))\n",
    "    return newl.index(min(newl))"
   ]
  },
  {
   "cell_type": "code",
   "execution_count": 55,
   "id": "69aa8950-09c1-46bd-8c14-fde7453050a0",
   "metadata": {},
   "outputs": [
    {
     "name": "stdout",
     "output_type": "stream",
     "text": [
      "[('d', [4, 16]), ('B', [7, 19]), ('G', [11]), ('D', [4, 16]), ('g', [4, 16])]\n"
     ]
    }
   ],
   "source": [
    "# let's see if we can use our functions to find the lowest place on the neck where you can see a c#\n",
    "fnote = (LowestOnNeck('c#')) #this returns [B,2] which means b string second fret\n",
    "#now with this b2 we need to find the closest fret where an f# is\n",
    "#first find all the f#s on the banjo\n",
    "frets = FindFret('f#')\n",
    "res = [(key,value) for key,value in frets.items() ]#if key not in fnote[0]]\n",
    "print(res)"
   ]
  },
  {
   "cell_type": "code",
   "execution_count": 56,
   "id": "918b94a2-f518-481e-b35d-07a595f1e6cb",
   "metadata": {},
   "outputs": [
    {
     "data": {
      "text/plain": [
       "('B', 2)"
      ]
     },
     "execution_count": 56,
     "metadata": {},
     "output_type": "execute_result"
    }
   ],
   "source": [
    "fnote"
   ]
  },
  {
   "cell_type": "code",
   "execution_count": null,
   "id": "49087d56-1166-4e8a-bad4-c94336512f79",
   "metadata": {},
   "outputs": [],
   "source": []
  },
  {
   "cell_type": "code",
   "execution_count": 57,
   "id": "1dd7cf0d-b609-46d4-b8bc-ff212a6f6eae",
   "metadata": {},
   "outputs": [],
   "source": [
    "#we need a function for placing a note on a staff. we need the note and the octave to select the string.\n",
    "\n"
   ]
  },
  {
   "cell_type": "code",
   "execution_count": 1,
   "id": "40b6656e",
   "metadata": {},
   "outputs": [],
   "source": [
    "#maybe what we actually need is a dictionary that gives the frequency in hz of the given notes on a banjo\n",
    "#g : 784\n",
    "#D : 146.8\n",
    "#G : 196.0\n",
    "#B : 246.9\n",
    "#d : 293.7\n",
    "\n",
    "\n",
    "# \t  C    \t  C#\t  D\t      D#\t  E\t      F\t      F#\t  G\t      G#\t  A\t      A#\t  B\n",
    "# 3\t            \t146.8\t155.6\t164.8\t174.6\t185.0\t196.0\t207.7\t220.0\t233.1\t246.9\n",
    "# 4\t261.6\t277.2\t293.7\t311.1\t329.6\t349.2\t370.0\t392.0\t415.3\t440.0\t466.2\t493.9\n",
    "# 5\t523.3\t554.4\t587.3\t622.3\t659.3\t698.5\t740.0\t784.0\t830.6\t880.0\t932.3\t987.8\n",
    "# 6\t1047\n",
    "\n",
    "\n",
    "freq_dict = {'a':[220.0,440.0,880.0],\n",
    "'a#':[233.1,466.2,932.3],\n",
    "'b':[246.9,493.9,987.8],\n",
    "'c':[261.6,523.3,1047],\n",
    "'c#':[277.2,544.4],\n",
    "'d':[146.8,293.7,587.3],\n",
    "'d#':[155.6,311.1,622.3],\n",
    "'e':[164.8,329.6,659.3],\n",
    "'f':[174.6,349.2,698.5],\n",
    "'f#':[185.0,370.0,740.0],\n",
    "'g':[196.0,392.0,784.0],\n",
    "'g#':[207.7,415.3,830.6]}"
   ]
  },
  {
   "cell_type": "code",
   "execution_count": 2,
   "id": "a73604fc",
   "metadata": {},
   "outputs": [
    {
     "data": {
      "text/plain": [
       "[233.1, 466.2, 932.3]"
      ]
     },
     "execution_count": 2,
     "metadata": {},
     "output_type": "execute_result"
    }
   ],
   "source": []
  },
  {
   "cell_type": "code",
   "execution_count": null,
   "id": "33171f6a",
   "metadata": {},
   "outputs": [],
   "source": []
  }
 ],
 "metadata": {
  "kernelspec": {
   "display_name": "Python 3",
   "language": "python",
   "name": "python3"
  },
  "language_info": {
   "codemirror_mode": {
    "name": "ipython",
    "version": 3
   },
   "file_extension": ".py",
   "mimetype": "text/x-python",
   "name": "python",
   "nbconvert_exporter": "python",
   "pygments_lexer": "ipython3",
   "version": "3.8.8"
  }
 },
 "nbformat": 4,
 "nbformat_minor": 5
}
