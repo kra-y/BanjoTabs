{
 "cells": [
  {
   "cell_type": "code",
   "execution_count": null,
   "id": "c25a4492-9d4a-415a-b934-ea1152127acd",
   "metadata": {},
   "outputs": [],
   "source": []
  },
  {
   "cell_type": "code",
   "execution_count": 3,
   "id": "f7428c74-a2dd-44c0-9648-500af1ac567d",
   "metadata": {},
   "outputs": [],
   "source": [
    "TabBanjo = {\"d\":[\"d\",\"d#\",\"e\",\"f\",\"f#\",\"g\",\"g#\",\"a\",\"a#\",\"b\",\"c\",\"c#\",\"d\",\"d#\",\"e\",\"f\",\"f#\",\"g\",\"g#\",\"a\",\"a#\",\"b\",\"c\"],\n",
    "                 \"B\":[\"b\",\"c\",\"c#\",\"d\",\"c#\",\"e\",\"f\",\"f#\",\"g\",\"g#\",\"a\",\"a#\",\"b\",\"c\",\"c#\",\"d\",\"d#\",\"e\",\"f\",\"f#\",\"g\",\"g#\",\"a\"],\n",
    "                 \"G\":[\"g\",\"g#\",\"a\",\"a#\",\"b\",\"c\",\"c#\",\"d\",\"d#\",\"e\",\"f\",\"f#\",\"g\",\"g#\",\"a\",\"a#\",\"b\",\"c\",\"c#\",\"d\",\"d#\",\"e\",\"f\"],\n",
    "                 \"D\":[\"d\",\"d#\",\"e\",\"f\",\"f#\",\"g\",\"g#\",\"a\",\"a#\",\"b\",\"c\",\"c#\",\"d\",\"d#\",\"e\",\"f\",\"f#\",\"g\",\"g#\",\"a\",\"a#\",\"b\",\"c\"],\n",
    "                 \"g\":[\"d\",\"d#\",\"e\",\"f\",\"f#\",\"g\",\"g#\",\"a\",\"a#\",\"b\",\"c\",\"c#\",\"d\",\"d#\",\"e\",\"f\",\"f#\",\"g\",\"g#\",\"a\",\"a#\",\"b\",\"c\",\"m\"]}"
   ]
  },
  {
   "cell_type": "code",
   "execution_count": 4,
   "id": "80f58061-1628-497b-82bf-16bc65deb6b4",
   "metadata": {
    "tags": []
   },
   "outputs": [],
   "source": [
    "#To generate all chords in a chord library, we should only need one chord of a class and then can generate all 12 notes of the chromatic scale\n",
    "#for example:\n",
    "#the chord C Major is composed of the notes of C,E,and G, and\n",
    "# C# Major is composed of C#,F,and G#\n",
    "# continue down the the chromatic scale to get all the notes that compose each Major chord in the chromatic scale. \n",
    "\n",
    "#Once we have this we'll be able to generate any dictionary of any chord variety\n",
    "\n",
    "# to start we'll make the list of notes in the chromatic scale\n",
    "\n",
    "chromatic_scale = ['c','c#','d','d#','e','f','f#','g','g#','a','a#','b']"
   ]
  },
  {
   "cell_type": "code",
   "execution_count": 5,
   "id": "f4e84988-789e-4834-b2e0-f5522ffc6a5a",
   "metadata": {
    "tags": []
   },
   "outputs": [],
   "source": [
    "#let's define a function that translates one note to another by n steps\n",
    "\n",
    "#the input should be the root note and number of half steps\n",
    "\n",
    "def translate_note(root,steps):\n",
    "    index = chromatic_scale.index(root)\n",
    "    return chromatic_scale[(index+steps)%len(chromatic_scale)]\n",
    "        "
   ]
  },
  {
   "cell_type": "code",
   "execution_count": 6,
   "id": "78516ff3-861e-42e0-8635-f9dcbb620d06",
   "metadata": {
    "tags": []
   },
   "outputs": [],
   "source": [
    "Major_dict = {}\n",
    "for note in chromatic_scale:\n",
    "    Major_dict[note+\"Major\"] = [translate_note(note,0),translate_note(note,4),translate_note(note,7)]\n",
    "# Major_dict"
   ]
  },
  {
   "cell_type": "code",
   "execution_count": 24,
   "id": "2c537c5c",
   "metadata": {},
   "outputs": [
    {
     "data": {
      "text/plain": [
       "{'cMajor': ['c', 'e', 'g'],\n",
       " 'c#Major': ['c#', 'f', 'g#'],\n",
       " 'dMajor': ['d', 'f#', 'a'],\n",
       " 'd#Major': ['d#', 'g', 'a#'],\n",
       " 'eMajor': ['e', 'g#', 'b'],\n",
       " 'fMajor': ['f', 'a', 'c'],\n",
       " 'f#Major': ['f#', 'a#', 'c#'],\n",
       " 'gMajor': ['g', 'b', 'd'],\n",
       " 'g#Major': ['g#', 'c', 'd#'],\n",
       " 'aMajor': ['a', 'c#', 'e'],\n",
       " 'a#Major': ['a#', 'd', 'f'],\n",
       " 'bMajor': ['b', 'd#', 'f#']}"
      ]
     },
     "execution_count": 24,
     "metadata": {},
     "output_type": "execute_result"
    }
   ],
   "source": [
    "Major_dict"
   ]
  },
  {
   "cell_type": "code",
   "execution_count": 25,
   "id": "4951e222-b1e7-4c64-8e04-01b9be0b50c1",
   "metadata": {
    "tags": []
   },
   "outputs": [],
   "source": [
    "Minor_dict = {}\n",
    "for note in chromatic_scale:\n",
    "    Minor_dict[note+\"Minor\"] = [translate_note(note,0),translate_note(note,3),translate_note(note,7)]\n",
    "# Minor_dict"
   ]
  },
  {
   "cell_type": "code",
   "execution_count": 27,
   "id": "ab1707cd-459b-49ba-8b7e-40b86e7e5afa",
   "metadata": {},
   "outputs": [],
   "source": [
    "major_notes_dict = {}\n",
    "\n",
    "for key, notes in Major_dict.items():\n",
    "    for note in notes:\n",
    "        if note not in major_notes_dict:\n",
    "            major_notes_dict[note] = []\n",
    "        major_notes_dict[note].append(key)"
   ]
  },
  {
   "cell_type": "code",
   "execution_count": 26,
   "id": "9b00f586-0b56-4c5f-84e1-f91ce2cd26ee",
   "metadata": {},
   "outputs": [
    {
     "data": {
      "text/plain": [
       "{'cMinor': ['c', 'd#', 'g'],\n",
       " 'c#Minor': ['c#', 'e', 'g#'],\n",
       " 'dMinor': ['d', 'f', 'a'],\n",
       " 'd#Minor': ['d#', 'f#', 'a#'],\n",
       " 'eMinor': ['e', 'g', 'b'],\n",
       " 'fMinor': ['f', 'g#', 'c'],\n",
       " 'f#Minor': ['f#', 'a', 'c#'],\n",
       " 'gMinor': ['g', 'a#', 'd'],\n",
       " 'g#Minor': ['g#', 'b', 'd#'],\n",
       " 'aMinor': ['a', 'c', 'e'],\n",
       " 'a#Minor': ['a#', 'c#', 'f'],\n",
       " 'bMinor': ['b', 'd', 'f#']}"
      ]
     },
     "execution_count": 26,
     "metadata": {},
     "output_type": "execute_result"
    }
   ],
   "source": [
    "Minor_dict\n"
   ]
  },
  {
   "cell_type": "code",
   "execution_count": 28,
   "id": "bfa25abe-dc2f-436d-a582-8b13a082df21",
   "metadata": {},
   "outputs": [
    {
     "data": {
      "text/plain": [
       "{'c': ['cMajor', 'fMajor', 'g#Major'],\n",
       " 'e': ['cMajor', 'eMajor', 'aMajor'],\n",
       " 'g': ['cMajor', 'd#Major', 'gMajor'],\n",
       " 'c#': ['c#Major', 'f#Major', 'aMajor'],\n",
       " 'f': ['c#Major', 'fMajor', 'a#Major'],\n",
       " 'g#': ['c#Major', 'eMajor', 'g#Major'],\n",
       " 'd': ['dMajor', 'gMajor', 'a#Major'],\n",
       " 'f#': ['dMajor', 'f#Major', 'bMajor'],\n",
       " 'a': ['dMajor', 'fMajor', 'aMajor'],\n",
       " 'd#': ['d#Major', 'g#Major', 'bMajor'],\n",
       " 'a#': ['d#Major', 'f#Major', 'a#Major'],\n",
       " 'b': ['eMajor', 'gMajor', 'bMajor']}"
      ]
     },
     "execution_count": 28,
     "metadata": {},
     "output_type": "execute_result"
    }
   ],
   "source": [
    "major_notes_dict\n"
   ]
  },
  {
   "cell_type": "code",
   "execution_count": 8,
   "id": "121954f9-7571-456d-a129-b7bd7c856020",
   "metadata": {
    "tags": []
   },
   "outputs": [],
   "source": [
    "dom7_dict = {}\n",
    "for note in chromatic_scale:\n",
    "    dom7_dict[note+\"dom7\"] = [translate_note(note,0),translate_note(note,4),translate_note(note,7),translate_note(note,10)]\n",
    "# dom7_dict"
   ]
  },
  {
   "cell_type": "code",
   "execution_count": 23,
   "id": "db033fa2-1aea-49ab-ace6-55edce64a855",
   "metadata": {},
   "outputs": [
    {
     "data": {
      "text/plain": [
       "{'c': ['cMajor', 'fMajor', 'g#Major'],\n",
       " 'e': ['cMajor', 'eMajor', 'aMajor'],\n",
       " 'g': ['cMajor', 'd#Major', 'gMajor'],\n",
       " 'c#': ['c#Major', 'f#Major', 'aMajor'],\n",
       " 'f': ['c#Major', 'fMajor', 'a#Major'],\n",
       " 'g#': ['c#Major', 'eMajor', 'g#Major'],\n",
       " 'd': ['dMajor', 'gMajor', 'a#Major'],\n",
       " 'f#': ['dMajor', 'f#Major', 'bMajor'],\n",
       " 'a': ['dMajor', 'fMajor', 'aMajor'],\n",
       " 'd#': ['d#Major', 'g#Major', 'bMajor'],\n",
       " 'a#': ['d#Major', 'f#Major', 'a#Major'],\n",
       " 'b': ['eMajor', 'gMajor', 'bMajor']}"
      ]
     },
     "execution_count": 23,
     "metadata": {},
     "output_type": "execute_result"
    }
   ],
   "source": [
    "major_notes_dict\n"
   ]
  },
  {
   "cell_type": "code",
   "execution_count": 11,
   "id": "e583a69d-b571-4766-b71e-f91c87e71ef0",
   "metadata": {
    "tags": []
   },
   "outputs": [],
   "source": [
    "Minor7_dict = {}\n",
    "for note in chromatic_scale:\n",
    "    Minor7_dict[note+\"Minor7\"] = [translate_note(note,0),translate_note(note,3),translate_note(note,7),translate_note(note,10)]\n",
    "# Minor7_dict"
   ]
  },
  {
   "cell_type": "code",
   "execution_count": 12,
   "id": "5d75f25b-18e6-4310-a652-48af00c005c7",
   "metadata": {
    "tags": []
   },
   "outputs": [],
   "source": [
    "Major7_dict = {}\n",
    "for note in chromatic_scale:\n",
    "    Major7_dict[note+\"Major7\"] = [translate_note(note,0),translate_note(note,4),translate_note(note,7),translate_note(note,11)]\n",
    "# Major7_dict"
   ]
  },
  {
   "cell_type": "code",
   "execution_count": 13,
   "id": "4d838a3e-df19-498a-b770-48e654351926",
   "metadata": {
    "tags": []
   },
   "outputs": [],
   "source": [
    "Minor7flat5_dict = {}\n",
    "for note in chromatic_scale:\n",
    "    Minor7flat5_dict[note+\"Minor7flat5\"] = [translate_note(note,0),translate_note(note,3),translate_note(note,6),translate_note(note,10)]\n",
    "# Minor7flat5_dict"
   ]
  },
  {
   "cell_type": "code",
   "execution_count": 14,
   "id": "5564bb43-a5d3-4d6b-978d-6c54aaa63f33",
   "metadata": {
    "tags": []
   },
   "outputs": [],
   "source": [
    "dim_dict = {}\n",
    "for note in chromatic_scale:\n",
    "    dim_dict[note+\"dim\"] = [translate_note(note,0),translate_note(note,3),translate_note(note,6)]\n",
    "# dim_dict"
   ]
  },
  {
   "cell_type": "code",
   "execution_count": 15,
   "id": "eb3ddff7-846b-4e68-8914-d3a69b3f707b",
   "metadata": {
    "tags": []
   },
   "outputs": [],
   "source": [
    "dim7_dict = {}\n",
    "for note in chromatic_scale:\n",
    "    dim7_dict[note+\"dim7\"] = [translate_note(note,0),translate_note(note,3),translate_note(note,6),translate_note(note,9)]\n",
    "# dim7_dict"
   ]
  },
  {
   "cell_type": "code",
   "execution_count": 16,
   "id": "749cb79c-8c26-4729-a4ca-2dc04cba7655",
   "metadata": {
    "tags": []
   },
   "outputs": [],
   "source": [
    "aug_dict = {}\n",
    "for note in chromatic_scale:\n",
    "    aug_dict[note+\"aug\"] = [translate_note(note,0),translate_note(note,4),translate_note(note,8)]\n",
    "# aug_dict"
   ]
  },
  {
   "cell_type": "code",
   "execution_count": 17,
   "id": "5fe1bdc3-b103-4e92-bc3f-b3c6269d1bca",
   "metadata": {
    "tags": []
   },
   "outputs": [],
   "source": [
    "Major6_dict = {}\n",
    "for note in chromatic_scale:\n",
    "    Major6_dict[note+\"Major6\"] = [translate_note(note,0),translate_note(note,4),translate_note(note,7),translate_note(note,9)]\n",
    "# Major6_dict"
   ]
  },
  {
   "cell_type": "code",
   "execution_count": 18,
   "id": "33257432-c322-46ae-9c20-82ca5e693755",
   "metadata": {
    "tags": []
   },
   "outputs": [],
   "source": [
    "Minor6_dict = {}\n",
    "for note in chromatic_scale:\n",
    "    Minor6_dict[note+\"Minor6\"] = [translate_note(note,0),translate_note(note,3),translate_note(note,7),translate_note(note,9)]\n",
    "# Minor6_dict"
   ]
  },
  {
   "cell_type": "code",
   "execution_count": 19,
   "id": "c0df4547-be7d-4f3c-be89-b03c4484b760",
   "metadata": {},
   "outputs": [],
   "source": [
    "Major7sharp5_dict = {}\n",
    "for note in chromatic_scale:\n",
    "    Major7sharp5_dict[note+\"Major7sharp5\"] = [translate_note(note,0),translate_note(note,4),translate_note(note,8),translate_note(note,10)]\n",
    "# Major7sharp5_dict"
   ]
  },
  {
   "cell_type": "code",
   "execution_count": 20,
   "id": "f186bff1-34ec-4382-879b-3913317363c7",
   "metadata": {},
   "outputs": [],
   "source": [
    "Major7flat5_dict = {}\n",
    "for note in chromatic_scale:\n",
    "    Major7flat5_dict[note+\"Major7flat5\"] = [translate_note(note,0),translate_note(note,4),translate_note(note,6),translate_note(note,10)]\n",
    "# Major7flat5_dict"
   ]
  },
  {
   "cell_type": "code",
   "execution_count": 21,
   "id": "3565b25e-0103-4486-a7f5-7c9affd35993",
   "metadata": {},
   "outputs": [],
   "source": [
    "def Merge(dict1, dict2):\n",
    "    return(dict2.update(dict1))"
   ]
  },
  {
   "cell_type": "code",
   "execution_count": 22,
   "id": "1165a8ec-a35e-46d3-9c49-e3dc82027ce2",
   "metadata": {},
   "outputs": [
    {
     "ename": "NameError",
     "evalue": "name 'dom7_dict' is not defined",
     "output_type": "error",
     "traceback": [
      "\u001b[0;31m---------------------------------------------------------------------------\u001b[0m",
      "\u001b[0;31mNameError\u001b[0m                                 Traceback (most recent call last)",
      "\u001b[0;32m<ipython-input-22-44ce42f671c6>\u001b[0m in \u001b[0;36m<module>\u001b[0;34m\u001b[0m\n\u001b[1;32m      1\u001b[0m \u001b[0mMerge\u001b[0m\u001b[0;34m(\u001b[0m\u001b[0mMajor_dict\u001b[0m\u001b[0;34m,\u001b[0m\u001b[0mMinor_dict\u001b[0m\u001b[0;34m)\u001b[0m\u001b[0;34m\u001b[0m\u001b[0;34m\u001b[0m\u001b[0m\n\u001b[0;32m----> 2\u001b[0;31m \u001b[0mMerge\u001b[0m\u001b[0;34m(\u001b[0m\u001b[0mMinor_dict\u001b[0m\u001b[0;34m,\u001b[0m\u001b[0mdom7_dict\u001b[0m\u001b[0;34m)\u001b[0m\u001b[0;34m\u001b[0m\u001b[0;34m\u001b[0m\u001b[0m\n\u001b[0m\u001b[1;32m      3\u001b[0m \u001b[0mMerge\u001b[0m\u001b[0;34m(\u001b[0m\u001b[0mdom7_dict\u001b[0m\u001b[0;34m,\u001b[0m\u001b[0mMinor7_dict\u001b[0m\u001b[0;34m)\u001b[0m\u001b[0;34m\u001b[0m\u001b[0;34m\u001b[0m\u001b[0m\n\u001b[1;32m      4\u001b[0m \u001b[0mMerge\u001b[0m\u001b[0;34m(\u001b[0m\u001b[0mMinor7_dict\u001b[0m\u001b[0;34m,\u001b[0m\u001b[0mMajor7_dict\u001b[0m\u001b[0;34m)\u001b[0m\u001b[0;34m\u001b[0m\u001b[0;34m\u001b[0m\u001b[0m\n\u001b[1;32m      5\u001b[0m \u001b[0mMerge\u001b[0m\u001b[0;34m(\u001b[0m\u001b[0mMajor7_dict\u001b[0m\u001b[0;34m,\u001b[0m\u001b[0mMinor7flat5_dict\u001b[0m\u001b[0;34m)\u001b[0m\u001b[0;34m\u001b[0m\u001b[0;34m\u001b[0m\u001b[0m\n",
      "\u001b[0;31mNameError\u001b[0m: name 'dom7_dict' is not defined"
     ]
    }
   ],
   "source": [
    "Merge(Major_dict,Minor_dict)\n",
    "Merge(Minor_dict,dom7_dict)\n",
    "Merge(dom7_dict,Minor7_dict)\n",
    "Merge(Minor7_dict,Major7_dict)\n",
    "Merge(Major7_dict,Minor7flat5_dict)\n",
    "Merge(Minor7flat5_dict,dim_dict)\n",
    "Merge(Minor7flat5_dict,dim7_dict)\n",
    "Merge(dim7_dict,aug_dict)\n",
    "Merge(aug_dict,Major6_dict),\n",
    "Merge(Major6_dict,Minor6_dict),\n",
    "Merge(Minor6_dict,Major7sharp5_dict)\n",
    "Merge(Major7sharp5_dict,Major7flat5_dict)"
   ]
  },
  {
   "cell_type": "code",
   "execution_count": 21,
   "id": "8f21b8d0-4869-4617-b382-ccc431d12f2f",
   "metadata": {
    "tags": []
   },
   "outputs": [],
   "source": [
    "chord_dict = {}\n",
    "Merge(Major7flat5_dict,chord_dict)"
   ]
  },
  {
   "cell_type": "code",
   "execution_count": 22,
   "id": "e3f314e6-bc9b-4766-97b2-4bdb0f97ab23",
   "metadata": {},
   "outputs": [],
   "source": [
    "import itertools\n",
    "def get_chords(dct,note_list):\n",
    "    doable_chords = []\n",
    "    #make a list of all the notes on the high d that appear in the notes list\n",
    "    d_string = [i for i,x in enumerate(dct[\"d\"])if x in note_list]\n",
    "    #make a list of all the notes on the B that appear in the notes list\n",
    "    B_string = [i for i,x in enumerate(dct[\"B\"])if x in note_list]\n",
    "    #make a list of all the notes on the G that appear in the notes list\n",
    "    G_string = [i for i,x in enumerate(dct[\"G\"])if x in note_list]\n",
    "    #make a list of all the notes on the D that appear in the notes list\n",
    "    D_string = [i for i,x in enumerate(dct[\"D\"])if x in note_list]\n",
    "    #make a list of all the notes on the high g that appear in the notes list\n",
    "    g_string = [i for i,x in enumerate(dct[\"g\"])if x in note_list]\n",
    "    chords = itertools.product(g_string,D_string,G_string,B_string,d_string)\n",
    "    doable_chords = []\n",
    "    for i in chords:\n",
    "        i = list(i)\n",
    "        \n",
    "        if (max(i) - min(i))<=3:\n",
    "            doable_chords.append(i)\n",
    "    for chord in doable_chords:\n",
    "        if chord[0]<=5 and 'g' in note_list:\n",
    "            chord[0] = 0\n",
    "        elif chord[0]<=5 and 'g' not in note_list:\n",
    "            chord[0] = 'm'\n",
    "    return doable_chords\n",
    "    \n",
    "    "
   ]
  },
  {
   "cell_type": "code",
   "execution_count": 23,
   "id": "29d295b7-96c2-42f9-a0f7-d81b1df9d29f",
   "metadata": {
    "tags": []
   },
   "outputs": [],
   "source": [
    "Banjo_Chord_Dictionary = {}\n",
    "for key, value in chord_dict.items():\n",
    "    Banjo_Chord_Dictionary[key] = get_chords(TabBanjo,value)\n"
   ]
  },
  {
   "cell_type": "code",
   "execution_count": null,
   "id": "ef974edc",
   "metadata": {},
   "outputs": [],
   "source": [
    "Banjo_Chord_Dictionary"
   ]
  },
  {
   "cell_type": "code",
   "execution_count": 29,
   "id": "452ba4cb",
   "metadata": {},
   "outputs": [],
   "source": [
    "chord_types = [\"Major\", \"Minor\", \"dom7\", \"Minor7\", \"Major7\", \"Minor6\", \"Major6\", \"aug\", \"dim7\", \"dim\"]\n",
    "\n",
    "chord_dict = {}\n",
    "\n",
    "for note in chromatic_scale:\n",
    "    for chord_type in chord_types:\n",
    "        if chord_type == \"Major\":\n",
    "            chord_dict[note+\"Major\"] = [translate_note(note,0),translate_note(note,4),translate_note(note,7)]\n",
    "        elif chord_type == \"Minor\":\n",
    "            chord_dict[note+\"Minor\"] = [translate_note(note,0),translate_note(note,3),translate_note(note,7)]\n",
    "        elif chord_type == \"dom7\":\n",
    "            chord_dict[note+\"dom7\"] = [translate_note(note,0),translate_note(note,4),translate_note(note,7),translate_note(note,10)]\n",
    "        elif chord_type == \"Minor7\":\n",
    "            chord_dict[note+\"Minor7\"] = [translate_note(note,0),translate_note(note,3),translate_note(note,7),translate_note(note,10)]\n",
    "        elif chord_type == \"Major7\":\n",
    "            chord_dict[note+\"Major7\"] = [translate_note(note,0),translate_note(note,4),translate_note(note,7),translate_note(note,11)]\n",
    "        elif chord_type == \"Minor6\":\n",
    "            chord_dict[note+\"Minor6\"] = [translate_note(note,0),translate_note(note,3),translate_note(note,7),translate_note(note,9)]\n",
    "        elif chord_type == \"Major6\":\n",
    "            chord_dict[note+\"Major6\"] = [translate_note(note,0),translate_note(note,4),translate_note(note,7),translate_note(note,9)]\n",
    "        elif chord_type == \"aug\":\n",
    "            chord_dict[note+\"aug\"] = [translate_note(note,0),translate_note(note,4),translate_note(note,8)]\n",
    "        elif chord_type == \"dim7\":\n",
    "            chord_dict[note+\"dim7\"] = [translate_note(note,0),translate_note(note,3),translate_note(note,6),translate_note(note,9)]\n",
    "        elif chord_type == \"dim\":\n",
    "            chord_dict[note+\"dim\"] = [translate_note(note,0),translate_note(note,3),translate_note(note,6)]\n"
   ]
  },
  {
   "cell_type": "code",
   "execution_count": 30,
   "id": "ca7a98ae-b7a8-4e8d-a1e8-09ed50be531f",
   "metadata": {},
   "outputs": [
    {
     "data": {
      "text/plain": [
       "{'cMajor': ['c', 'e', 'g'],\n",
       " 'cMinor': ['c', 'd#', 'g'],\n",
       " 'cdom7': ['c', 'e', 'g', 'a#'],\n",
       " 'cMinor7': ['c', 'd#', 'g', 'a#'],\n",
       " 'cMajor7': ['c', 'e', 'g', 'b'],\n",
       " 'cMinor6': ['c', 'd#', 'g', 'a'],\n",
       " 'cMajor6': ['c', 'e', 'g', 'a'],\n",
       " 'caug': ['c', 'e', 'g#'],\n",
       " 'cdim7': ['c', 'd#', 'f#', 'a'],\n",
       " 'cdim': ['c', 'd#', 'f#'],\n",
       " 'c#Major': ['c#', 'f', 'g#'],\n",
       " 'c#Minor': ['c#', 'e', 'g#'],\n",
       " 'c#dom7': ['c#', 'f', 'g#', 'b'],\n",
       " 'c#Minor7': ['c#', 'e', 'g#', 'b'],\n",
       " 'c#Major7': ['c#', 'f', 'g#', 'c'],\n",
       " 'c#Minor6': ['c#', 'e', 'g#', 'a#'],\n",
       " 'c#Major6': ['c#', 'f', 'g#', 'a#'],\n",
       " 'c#aug': ['c#', 'f', 'a'],\n",
       " 'c#dim7': ['c#', 'e', 'g', 'a#'],\n",
       " 'c#dim': ['c#', 'e', 'g'],\n",
       " 'dMajor': ['d', 'f#', 'a'],\n",
       " 'dMinor': ['d', 'f', 'a'],\n",
       " 'ddom7': ['d', 'f#', 'a', 'c'],\n",
       " 'dMinor7': ['d', 'f', 'a', 'c'],\n",
       " 'dMajor7': ['d', 'f#', 'a', 'c#'],\n",
       " 'dMinor6': ['d', 'f', 'a', 'b'],\n",
       " 'dMajor6': ['d', 'f#', 'a', 'b'],\n",
       " 'daug': ['d', 'f#', 'a#'],\n",
       " 'ddim7': ['d', 'f', 'g#', 'b'],\n",
       " 'ddim': ['d', 'f', 'g#'],\n",
       " 'd#Major': ['d#', 'g', 'a#'],\n",
       " 'd#Minor': ['d#', 'f#', 'a#'],\n",
       " 'd#dom7': ['d#', 'g', 'a#', 'c#'],\n",
       " 'd#Minor7': ['d#', 'f#', 'a#', 'c#'],\n",
       " 'd#Major7': ['d#', 'g', 'a#', 'd'],\n",
       " 'd#Minor6': ['d#', 'f#', 'a#', 'c'],\n",
       " 'd#Major6': ['d#', 'g', 'a#', 'c'],\n",
       " 'd#aug': ['d#', 'g', 'b'],\n",
       " 'd#dim7': ['d#', 'f#', 'a', 'c'],\n",
       " 'd#dim': ['d#', 'f#', 'a'],\n",
       " 'eMajor': ['e', 'g#', 'b'],\n",
       " 'eMinor': ['e', 'g', 'b'],\n",
       " 'edom7': ['e', 'g#', 'b', 'd'],\n",
       " 'eMinor7': ['e', 'g', 'b', 'd'],\n",
       " 'eMajor7': ['e', 'g#', 'b', 'd#'],\n",
       " 'eMinor6': ['e', 'g', 'b', 'c#'],\n",
       " 'eMajor6': ['e', 'g#', 'b', 'c#'],\n",
       " 'eaug': ['e', 'g#', 'c'],\n",
       " 'edim7': ['e', 'g', 'a#', 'c#'],\n",
       " 'edim': ['e', 'g', 'a#'],\n",
       " 'fMajor': ['f', 'a', 'c'],\n",
       " 'fMinor': ['f', 'g#', 'c'],\n",
       " 'fdom7': ['f', 'a', 'c', 'd#'],\n",
       " 'fMinor7': ['f', 'g#', 'c', 'd#'],\n",
       " 'fMajor7': ['f', 'a', 'c', 'e'],\n",
       " 'fMinor6': ['f', 'g#', 'c', 'd'],\n",
       " 'fMajor6': ['f', 'a', 'c', 'd'],\n",
       " 'faug': ['f', 'a', 'c#'],\n",
       " 'fdim7': ['f', 'g#', 'b', 'd'],\n",
       " 'fdim': ['f', 'g#', 'b'],\n",
       " 'f#Major': ['f#', 'a#', 'c#'],\n",
       " 'f#Minor': ['f#', 'a', 'c#'],\n",
       " 'f#dom7': ['f#', 'a#', 'c#', 'e'],\n",
       " 'f#Minor7': ['f#', 'a', 'c#', 'e'],\n",
       " 'f#Major7': ['f#', 'a#', 'c#', 'f'],\n",
       " 'f#Minor6': ['f#', 'a', 'c#', 'd#'],\n",
       " 'f#Major6': ['f#', 'a#', 'c#', 'd#'],\n",
       " 'f#aug': ['f#', 'a#', 'd'],\n",
       " 'f#dim7': ['f#', 'a', 'c', 'd#'],\n",
       " 'f#dim': ['f#', 'a', 'c'],\n",
       " 'gMajor': ['g', 'b', 'd'],\n",
       " 'gMinor': ['g', 'a#', 'd'],\n",
       " 'gdom7': ['g', 'b', 'd', 'f'],\n",
       " 'gMinor7': ['g', 'a#', 'd', 'f'],\n",
       " 'gMajor7': ['g', 'b', 'd', 'f#'],\n",
       " 'gMinor6': ['g', 'a#', 'd', 'e'],\n",
       " 'gMajor6': ['g', 'b', 'd', 'e'],\n",
       " 'gaug': ['g', 'b', 'd#'],\n",
       " 'gdim7': ['g', 'a#', 'c#', 'e'],\n",
       " 'gdim': ['g', 'a#', 'c#'],\n",
       " 'g#Major': ['g#', 'c', 'd#'],\n",
       " 'g#Minor': ['g#', 'b', 'd#'],\n",
       " 'g#dom7': ['g#', 'c', 'd#', 'f#'],\n",
       " 'g#Minor7': ['g#', 'b', 'd#', 'f#'],\n",
       " 'g#Major7': ['g#', 'c', 'd#', 'g'],\n",
       " 'g#Minor6': ['g#', 'b', 'd#', 'f'],\n",
       " 'g#Major6': ['g#', 'c', 'd#', 'f'],\n",
       " 'g#aug': ['g#', 'c', 'e'],\n",
       " 'g#dim7': ['g#', 'b', 'd', 'f'],\n",
       " 'g#dim': ['g#', 'b', 'd'],\n",
       " 'aMajor': ['a', 'c#', 'e'],\n",
       " 'aMinor': ['a', 'c', 'e'],\n",
       " 'adom7': ['a', 'c#', 'e', 'g'],\n",
       " 'aMinor7': ['a', 'c', 'e', 'g'],\n",
       " 'aMajor7': ['a', 'c#', 'e', 'g#'],\n",
       " 'aMinor6': ['a', 'c', 'e', 'f#'],\n",
       " 'aMajor6': ['a', 'c#', 'e', 'f#'],\n",
       " 'aaug': ['a', 'c#', 'f'],\n",
       " 'adim7': ['a', 'c', 'd#', 'f#'],\n",
       " 'adim': ['a', 'c', 'd#'],\n",
       " 'a#Major': ['a#', 'd', 'f'],\n",
       " 'a#Minor': ['a#', 'c#', 'f'],\n",
       " 'a#dom7': ['a#', 'd', 'f', 'g#'],\n",
       " 'a#Minor7': ['a#', 'c#', 'f', 'g#'],\n",
       " 'a#Major7': ['a#', 'd', 'f', 'a'],\n",
       " 'a#Minor6': ['a#', 'c#', 'f', 'g'],\n",
       " 'a#Major6': ['a#', 'd', 'f', 'g'],\n",
       " 'a#aug': ['a#', 'd', 'f#'],\n",
       " 'a#dim7': ['a#', 'c#', 'e', 'g'],\n",
       " 'a#dim': ['a#', 'c#', 'e'],\n",
       " 'bMajor': ['b', 'd#', 'f#'],\n",
       " 'bMinor': ['b', 'd', 'f#'],\n",
       " 'bdom7': ['b', 'd#', 'f#', 'a'],\n",
       " 'bMinor7': ['b', 'd', 'f#', 'a'],\n",
       " 'bMajor7': ['b', 'd#', 'f#', 'a#'],\n",
       " 'bMinor6': ['b', 'd', 'f#', 'g#'],\n",
       " 'bMajor6': ['b', 'd#', 'f#', 'g#'],\n",
       " 'baug': ['b', 'd#', 'g'],\n",
       " 'bdim7': ['b', 'd', 'f', 'g#'],\n",
       " 'bdim': ['b', 'd', 'f']}"
      ]
     },
     "execution_count": 30,
     "metadata": {},
     "output_type": "execute_result"
    }
   ],
   "source": [
    "chord_dict\n"
   ]
  },
  {
   "cell_type": "code",
   "execution_count": null,
   "id": "bad35847-b397-4942-b9c5-3e43f2bf2e7f",
   "metadata": {},
   "outputs": [],
   "source": []
  }
 ],
 "metadata": {
  "kernelspec": {
   "display_name": "Python 3",
   "language": "python",
   "name": "python3"
  },
  "language_info": {
   "codemirror_mode": {
    "name": "ipython",
    "version": 3
   },
   "file_extension": ".py",
   "mimetype": "text/x-python",
   "name": "python",
   "nbconvert_exporter": "python",
   "pygments_lexer": "ipython3",
   "version": "3.8.8"
  }
 },
 "nbformat": 4,
 "nbformat_minor": 5
}
