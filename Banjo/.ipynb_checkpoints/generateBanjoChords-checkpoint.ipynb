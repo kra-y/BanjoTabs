{
 "cells": [
  {
   "cell_type": "code",
   "execution_count": 1,
   "id": "d04d15bc-ff1d-4b2e-8f13-a6fdf876eca3",
   "metadata": {
    "tags": []
   },
   "outputs": [],
   "source": [
    "#Dictionary that uses the banjo string as the key, and the nth element as the note played on that fret\n",
    "#since the high g (or 5th string on a banjo) does not include the first four frets I decided to make the 0th through the 4th frets map to an empty note)\n",
    "TabBanjo = {\"d\":[\"d\",\"d#\",\"e\",\"f\",\"f#\",\"g\",\"g#\",\"a\",\"a#\",\"b\",\"c\",\"c#\",\"d\",\"d#\",\"e\",\"f\",\"f#\",\"g\",\"g#\",\"a\",\"a#\",\"b\",\"c\"],\n",
    "                 \"B\":[\"b\",\"c\",\"c#\",\"d\",\"c#\",\"e\",\"f\",\"f#\",\"g\",\"g#\",\"a\",\"a#\",\"b\",\"c\",\"c#\",\"d\",\"d#\",\"e\",\"f\",\"f#\",\"g\",\"g#\",\"a\"],\n",
    "                 \"G\":[\"g\",\"g#\",\"a\",\"a#\",\"b\",\"c\",\"c#\",\"d\",\"d#\",\"e\",\"f\",\"f#\",\"g\",\"g#\",\"a\",\"a#\",\"b\",\"c\",\"c#\",\"d\",\"d#\",\"e\",\"f\"],\n",
    "                 \"D\":[\"d\",\"d#\",\"e\",\"f\",\"f#\",\"g\",\"g#\",\"a\",\"a#\",\"b\",\"c\",\"c#\",\"d\",\"d#\",\"e\",\"f\",\"f#\",\"g\",\"g#\",\"a\",\"a#\",\"b\",\"c\"],\n",
    "                 \"g\":[\"d\",\"d#\",\"e\",\"f\",\"f#\",\"g\",\"g#\",\"a\",\"a#\",\"b\",\"c\",\"c#\",\"d\",\"d#\",\"e\",\"f\",\"f#\",\"g\",\"g#\",\"a\",\"a#\",\"b\",\"c\",\"m\"]}\n"
   ]
  },
  {
   "cell_type": "code",
   "execution_count": 2,
   "id": "eabee795-30ba-448a-8f98-8634f73d0584",
   "metadata": {
    "tags": []
   },
   "outputs": [],
   "source": [
    "#To generate all chords in a chord library, we should only need one chord of a class and then can generate all 12 notes of the chromatic scale\n",
    "#for example:\n",
    "#the chord C Major is composed of the notes of C,E,and G, and\n",
    "# C# Major is composed of C#,F,and G#\n",
    "# continue down the the chromatic scale to get all the notes that compose each Major chord in the chromatic scale. \n",
    "\n",
    "#Once we have this we'll be able to generate any dictionary of any chord variety\n",
    "\n",
    "# to start we'll make the list of notes in the chromatic scale\n",
    "\n",
    "chromatic_scale = ['c','c#','d','d#','e','f','f#','g','g#','a','a#','b']"
   ]
  },
  {
   "cell_type": "code",
   "execution_count": 3,
   "id": "8ec0637f-28d6-4d57-8851-5d3516cad815",
   "metadata": {
    "tags": []
   },
   "outputs": [],
   "source": [
    "#let's define a function that translates one note to another by n steps\n",
    "\n",
    "#the input should be the root note and number of half steps\n",
    "\n",
    "def translate_note(root,steps):\n",
    "    index = chromatic_scale.index(root)\n",
    "    return chromatic_scale[(index+steps)%len(chromatic_scale)]\n",
    "        "
   ]
  },
  {
   "cell_type": "code",
   "execution_count": 4,
   "id": "1e4e9245-3a2a-43a4-9b5b-ee1f5d2b8065",
   "metadata": {
    "tags": []
   },
   "outputs": [],
   "source": [
    "#now that we have the translate note function we need to use it to create a full chord translation list\n",
    "\n"
   ]
  },
  {
   "cell_type": "code",
   "execution_count": 5,
   "id": "5c277920-6873-4ab4-b99a-3eae90fde76e",
   "metadata": {
    "tags": []
   },
   "outputs": [],
   "source": [
    "Major_dict = {}\n",
    "for note in chromatic_scale:\n",
    "    Major_dict[note+\"Major\"] = [translate_note(note,0),translate_note(note,4),translate_note(note,7)]\n",
    "# Major_dict"
   ]
  },
  {
   "cell_type": "code",
   "execution_count": 6,
   "id": "bba8b421-4b95-46a1-9fe7-6ee9d14f20e9",
   "metadata": {
    "tags": []
   },
   "outputs": [],
   "source": [
    "Minor_dict = {}\n",
    "for note in chromatic_scale:\n",
    "    Minor_dict[note+\"Minor\"] = [translate_note(note,0),translate_note(note,3),translate_note(note,7)]\n",
    "# Minor_dict"
   ]
  },
  {
   "cell_type": "code",
   "execution_count": 7,
   "id": "f553ba62-b802-415f-8396-7fe807bc88cb",
   "metadata": {
    "tags": []
   },
   "outputs": [],
   "source": [
    "dom7_dict = {}\n",
    "for note in chromatic_scale:\n",
    "    dom7_dict[note+\"dom7\"] = [translate_note(note,0),translate_note(note,4),translate_note(note,7),translate_note(note,10)]\n",
    "# dom7_dict"
   ]
  },
  {
   "cell_type": "code",
   "execution_count": 8,
   "id": "c59e0b0b-75a9-41c3-a49e-19120ab07ba6",
   "metadata": {
    "tags": []
   },
   "outputs": [],
   "source": [
    "Minor7_dict = {}\n",
    "for note in chromatic_scale:\n",
    "    Minor7_dict[note+\"Minor7\"] = [translate_note(note,0),translate_note(note,3),translate_note(note,7),translate_note(note,10)]\n",
    "# Minor7_dict"
   ]
  },
  {
   "cell_type": "code",
   "execution_count": 9,
   "id": "18ae452b-5bb0-4f88-9284-0581c35733a0",
   "metadata": {
    "tags": []
   },
   "outputs": [],
   "source": [
    "Major7_dict = {}\n",
    "for note in chromatic_scale:\n",
    "    Major7_dict[note+\"Major7\"] = [translate_note(note,0),translate_note(note,4),translate_note(note,7),translate_note(note,11)]\n",
    "# Major7_dict"
   ]
  },
  {
   "cell_type": "code",
   "execution_count": 10,
   "id": "7e0763d6-9e0f-4ab0-aa77-02fab7f5fcc7",
   "metadata": {
    "tags": []
   },
   "outputs": [],
   "source": [
    "Minor7flat5_dict = {}\n",
    "for note in chromatic_scale:\n",
    "    Minor7flat5_dict[note+\"Minor7flat5\"] = [translate_note(note,0),translate_note(note,3),translate_note(note,6),translate_note(note,10)]\n",
    "# Minor7flat5_dict"
   ]
  },
  {
   "cell_type": "code",
   "execution_count": 11,
   "id": "f46402f5-9792-4c48-a287-2640d200a3c5",
   "metadata": {
    "tags": []
   },
   "outputs": [],
   "source": [
    "dim_dict = {}\n",
    "for note in chromatic_scale:\n",
    "    dim_dict[note+\"dim\"] = [translate_note(note,0),translate_note(note,3),translate_note(note,6)]\n",
    "# dim_dict"
   ]
  },
  {
   "cell_type": "code",
   "execution_count": 12,
   "id": "9b10b5c1-6fe0-4676-91ae-d142ce2f184f",
   "metadata": {
    "tags": []
   },
   "outputs": [],
   "source": [
    "dim7_dict = {}\n",
    "for note in chromatic_scale:\n",
    "    dim7_dict[note+\"dim7\"] = [translate_note(note,0),translate_note(note,3),translate_note(note,6),translate_note(note,9)]\n",
    "# dim7_dict"
   ]
  },
  {
   "cell_type": "code",
   "execution_count": 13,
   "id": "094ab49b-4141-4ffb-a735-6f36422bfe1c",
   "metadata": {
    "tags": []
   },
   "outputs": [],
   "source": [
    "aug_dict = {}\n",
    "for note in chromatic_scale:\n",
    "    aug_dict[note+\"aug\"] = [translate_note(note,0),translate_note(note,4),translate_note(note,8)]\n",
    "# aug_dict"
   ]
  },
  {
   "cell_type": "code",
   "execution_count": 14,
   "id": "b42d09e1-b577-43be-8b01-fa23483db669",
   "metadata": {
    "tags": []
   },
   "outputs": [],
   "source": [
    "Major6_dict = {}\n",
    "for note in chromatic_scale:\n",
    "    Major6_dict[note+\"Major6\"] = [translate_note(note,0),translate_note(note,4),translate_note(note,7),translate_note(note,9)]\n",
    "# Major6_dict"
   ]
  },
  {
   "cell_type": "code",
   "execution_count": 15,
   "id": "7a9018c4-89dc-4683-b8dd-156890a0edd3",
   "metadata": {
    "tags": []
   },
   "outputs": [],
   "source": [
    "Minor6_dict = {}\n",
    "for note in chromatic_scale:\n",
    "    Minor6_dict[note+\"Minor6\"] = [translate_note(note,0),translate_note(note,3),translate_note(note,7),translate_note(note,9)]\n",
    "# Minor6_dict"
   ]
  },
  {
   "cell_type": "code",
   "execution_count": 16,
   "id": "0365b07b-a63b-4796-8b82-1ebe748f4fc8",
   "metadata": {},
   "outputs": [],
   "source": [
    "Major7sharp5_dict = {}\n",
    "for note in chromatic_scale:\n",
    "    Major7sharp5_dict[note+\"Major7sharp5\"] = [translate_note(note,0),translate_note(note,4),translate_note(note,8),translate_note(note,10)]\n",
    "# Major7sharp5_dict"
   ]
  },
  {
   "cell_type": "code",
   "execution_count": 17,
   "id": "52e30bb4-8017-4f82-a3e0-a0984d54b3d9",
   "metadata": {},
   "outputs": [],
   "source": [
    "Major7flat5_dict = {}\n",
    "for note in chromatic_scale:\n",
    "    Major7flat5_dict[note+\"Major7flat5\"] = [translate_note(note,0),translate_note(note,4),translate_note(note,6),translate_note(note,10)]\n",
    "# Major7flat5_dict"
   ]
  },
  {
   "cell_type": "code",
   "execution_count": 18,
   "id": "243c3099-7163-45b0-b410-ba4922be1cd2",
   "metadata": {},
   "outputs": [],
   "source": [
    "def Merge(dict1, dict2):\n",
    "    return(dict2.update(dict1))"
   ]
  },
  {
   "cell_type": "code",
   "execution_count": 19,
   "id": "66ff2a16-e5b5-4808-b9da-91f73d5f9496",
   "metadata": {},
   "outputs": [],
   "source": [
    "Merge(Major_dict,Minor_dict)\n",
    "Merge(Minor_dict,dom7_dict)\n",
    "Merge(dom7_dict,Minor7_dict)\n",
    "Merge(Minor7_dict,Major7_dict)\n",
    "Merge(Major7_dict,Minor7flat5_dict)\n",
    "Merge(Minor7flat5_dict,dim_dict)\n",
    "Merge(Minor7flat5_dict,dim7_dict)\n",
    "Merge(dim7_dict,aug_dict)\n",
    "Merge(aug_dict,Major6_dict),\n",
    "Merge(Major6_dict,Minor6_dict),\n",
    "Merge(Minor6_dict,Major7sharp5_dict)\n",
    "Merge(Major7sharp5_dict,Major7flat5_dict)"
   ]
  },
  {
   "cell_type": "code",
   "execution_count": 20,
   "id": "89380edf-5291-456b-9c17-730b578e5c71",
   "metadata": {
    "tags": []
   },
   "outputs": [
    {
     "data": {
      "text/plain": [
       "{'cMajor7flat5': ['c', 'e', 'f#', 'a#'],\n",
       " 'c#Major7flat5': ['c#', 'f', 'g', 'b'],\n",
       " 'dMajor7flat5': ['d', 'f#', 'g#', 'c'],\n",
       " 'd#Major7flat5': ['d#', 'g', 'a', 'c#'],\n",
       " 'eMajor7flat5': ['e', 'g#', 'a#', 'd'],\n",
       " 'fMajor7flat5': ['f', 'a', 'b', 'd#'],\n",
       " 'f#Major7flat5': ['f#', 'a#', 'c', 'e'],\n",
       " 'gMajor7flat5': ['g', 'b', 'c#', 'f'],\n",
       " 'g#Major7flat5': ['g#', 'c', 'd', 'f#'],\n",
       " 'aMajor7flat5': ['a', 'c#', 'd#', 'g'],\n",
       " 'a#Major7flat5': ['a#', 'd', 'e', 'g#'],\n",
       " 'bMajor7flat5': ['b', 'd#', 'f', 'a'],\n",
       " 'cMajor7sharp5': ['c', 'e', 'g#', 'a#'],\n",
       " 'c#Major7sharp5': ['c#', 'f', 'a', 'b'],\n",
       " 'dMajor7sharp5': ['d', 'f#', 'a#', 'c'],\n",
       " 'd#Major7sharp5': ['d#', 'g', 'b', 'c#'],\n",
       " 'eMajor7sharp5': ['e', 'g#', 'c', 'd'],\n",
       " 'fMajor7sharp5': ['f', 'a', 'c#', 'd#'],\n",
       " 'f#Major7sharp5': ['f#', 'a#', 'd', 'e'],\n",
       " 'gMajor7sharp5': ['g', 'b', 'd#', 'f'],\n",
       " 'g#Major7sharp5': ['g#', 'c', 'e', 'f#'],\n",
       " 'aMajor7sharp5': ['a', 'c#', 'f', 'g'],\n",
       " 'a#Major7sharp5': ['a#', 'd', 'f#', 'g#'],\n",
       " 'bMajor7sharp5': ['b', 'd#', 'g', 'a'],\n",
       " 'cMinor6': ['c', 'd#', 'g', 'a'],\n",
       " 'c#Minor6': ['c#', 'e', 'g#', 'a#'],\n",
       " 'dMinor6': ['d', 'f', 'a', 'b'],\n",
       " 'd#Minor6': ['d#', 'f#', 'a#', 'c'],\n",
       " 'eMinor6': ['e', 'g', 'b', 'c#'],\n",
       " 'fMinor6': ['f', 'g#', 'c', 'd'],\n",
       " 'f#Minor6': ['f#', 'a', 'c#', 'd#'],\n",
       " 'gMinor6': ['g', 'a#', 'd', 'e'],\n",
       " 'g#Minor6': ['g#', 'b', 'd#', 'f'],\n",
       " 'aMinor6': ['a', 'c', 'e', 'f#'],\n",
       " 'a#Minor6': ['a#', 'c#', 'f', 'g'],\n",
       " 'bMinor6': ['b', 'd', 'f#', 'g#'],\n",
       " 'cMajor6': ['c', 'e', 'g', 'a'],\n",
       " 'c#Major6': ['c#', 'f', 'g#', 'a#'],\n",
       " 'dMajor6': ['d', 'f#', 'a', 'b'],\n",
       " 'd#Major6': ['d#', 'g', 'a#', 'c'],\n",
       " 'eMajor6': ['e', 'g#', 'b', 'c#'],\n",
       " 'fMajor6': ['f', 'a', 'c', 'd'],\n",
       " 'f#Major6': ['f#', 'a#', 'c#', 'd#'],\n",
       " 'gMajor6': ['g', 'b', 'd', 'e'],\n",
       " 'g#Major6': ['g#', 'c', 'd#', 'f'],\n",
       " 'aMajor6': ['a', 'c#', 'e', 'f#'],\n",
       " 'a#Major6': ['a#', 'd', 'f', 'g'],\n",
       " 'bMajor6': ['b', 'd#', 'f#', 'g#'],\n",
       " 'caug': ['c', 'e', 'g#'],\n",
       " 'c#aug': ['c#', 'f', 'a'],\n",
       " 'daug': ['d', 'f#', 'a#'],\n",
       " 'd#aug': ['d#', 'g', 'b'],\n",
       " 'eaug': ['e', 'g#', 'c'],\n",
       " 'faug': ['f', 'a', 'c#'],\n",
       " 'f#aug': ['f#', 'a#', 'd'],\n",
       " 'gaug': ['g', 'b', 'd#'],\n",
       " 'g#aug': ['g#', 'c', 'e'],\n",
       " 'aaug': ['a', 'c#', 'f'],\n",
       " 'a#aug': ['a#', 'd', 'f#'],\n",
       " 'baug': ['b', 'd#', 'g'],\n",
       " 'cdim7': ['c', 'd#', 'f#', 'a'],\n",
       " 'c#dim7': ['c#', 'e', 'g', 'a#'],\n",
       " 'ddim7': ['d', 'f', 'g#', 'b'],\n",
       " 'd#dim7': ['d#', 'f#', 'a', 'c'],\n",
       " 'edim7': ['e', 'g', 'a#', 'c#'],\n",
       " 'fdim7': ['f', 'g#', 'b', 'd'],\n",
       " 'f#dim7': ['f#', 'a', 'c', 'd#'],\n",
       " 'gdim7': ['g', 'a#', 'c#', 'e'],\n",
       " 'g#dim7': ['g#', 'b', 'd', 'f'],\n",
       " 'adim7': ['a', 'c', 'd#', 'f#'],\n",
       " 'a#dim7': ['a#', 'c#', 'e', 'g'],\n",
       " 'bdim7': ['b', 'd', 'f', 'g#'],\n",
       " 'cMinor7flat5': ['c', 'd#', 'f#', 'a#'],\n",
       " 'c#Minor7flat5': ['c#', 'e', 'g', 'b'],\n",
       " 'dMinor7flat5': ['d', 'f', 'g#', 'c'],\n",
       " 'd#Minor7flat5': ['d#', 'f#', 'a', 'c#'],\n",
       " 'eMinor7flat5': ['e', 'g', 'a#', 'd'],\n",
       " 'fMinor7flat5': ['f', 'g#', 'b', 'd#'],\n",
       " 'f#Minor7flat5': ['f#', 'a', 'c', 'e'],\n",
       " 'gMinor7flat5': ['g', 'a#', 'c#', 'f'],\n",
       " 'g#Minor7flat5': ['g#', 'b', 'd', 'f#'],\n",
       " 'aMinor7flat5': ['a', 'c', 'd#', 'g'],\n",
       " 'a#Minor7flat5': ['a#', 'c#', 'e', 'g#'],\n",
       " 'bMinor7flat5': ['b', 'd', 'f', 'a'],\n",
       " 'cMajor7': ['c', 'e', 'g', 'b'],\n",
       " 'c#Major7': ['c#', 'f', 'g#', 'c'],\n",
       " 'dMajor7': ['d', 'f#', 'a', 'c#'],\n",
       " 'd#Major7': ['d#', 'g', 'a#', 'd'],\n",
       " 'eMajor7': ['e', 'g#', 'b', 'd#'],\n",
       " 'fMajor7': ['f', 'a', 'c', 'e'],\n",
       " 'f#Major7': ['f#', 'a#', 'c#', 'f'],\n",
       " 'gMajor7': ['g', 'b', 'd', 'f#'],\n",
       " 'g#Major7': ['g#', 'c', 'd#', 'g'],\n",
       " 'aMajor7': ['a', 'c#', 'e', 'g#'],\n",
       " 'a#Major7': ['a#', 'd', 'f', 'a'],\n",
       " 'bMajor7': ['b', 'd#', 'f#', 'a#'],\n",
       " 'cMinor7': ['c', 'd#', 'g', 'a#'],\n",
       " 'c#Minor7': ['c#', 'e', 'g#', 'b'],\n",
       " 'dMinor7': ['d', 'f', 'a', 'c'],\n",
       " 'd#Minor7': ['d#', 'f#', 'a#', 'c#'],\n",
       " 'eMinor7': ['e', 'g', 'b', 'd'],\n",
       " 'fMinor7': ['f', 'g#', 'c', 'd#'],\n",
       " 'f#Minor7': ['f#', 'a', 'c#', 'e'],\n",
       " 'gMinor7': ['g', 'a#', 'd', 'f'],\n",
       " 'g#Minor7': ['g#', 'b', 'd#', 'f#'],\n",
       " 'aMinor7': ['a', 'c', 'e', 'g'],\n",
       " 'a#Minor7': ['a#', 'c#', 'f', 'g#'],\n",
       " 'bMinor7': ['b', 'd', 'f#', 'a'],\n",
       " 'cdom7': ['c', 'e', 'g', 'a#'],\n",
       " 'c#dom7': ['c#', 'f', 'g#', 'b'],\n",
       " 'ddom7': ['d', 'f#', 'a', 'c'],\n",
       " 'd#dom7': ['d#', 'g', 'a#', 'c#'],\n",
       " 'edom7': ['e', 'g#', 'b', 'd'],\n",
       " 'fdom7': ['f', 'a', 'c', 'd#'],\n",
       " 'f#dom7': ['f#', 'a#', 'c#', 'e'],\n",
       " 'gdom7': ['g', 'b', 'd', 'f'],\n",
       " 'g#dom7': ['g#', 'c', 'd#', 'f#'],\n",
       " 'adom7': ['a', 'c#', 'e', 'g'],\n",
       " 'a#dom7': ['a#', 'd', 'f', 'g#'],\n",
       " 'bdom7': ['b', 'd#', 'f#', 'a'],\n",
       " 'cMinor': ['c', 'd#', 'g'],\n",
       " 'c#Minor': ['c#', 'e', 'g#'],\n",
       " 'dMinor': ['d', 'f', 'a'],\n",
       " 'd#Minor': ['d#', 'f#', 'a#'],\n",
       " 'eMinor': ['e', 'g', 'b'],\n",
       " 'fMinor': ['f', 'g#', 'c'],\n",
       " 'f#Minor': ['f#', 'a', 'c#'],\n",
       " 'gMinor': ['g', 'a#', 'd'],\n",
       " 'g#Minor': ['g#', 'b', 'd#'],\n",
       " 'aMinor': ['a', 'c', 'e'],\n",
       " 'a#Minor': ['a#', 'c#', 'f'],\n",
       " 'bMinor': ['b', 'd', 'f#'],\n",
       " 'cMajor': ['c', 'e', 'g'],\n",
       " 'c#Major': ['c#', 'f', 'g#'],\n",
       " 'dMajor': ['d', 'f#', 'a'],\n",
       " 'd#Major': ['d#', 'g', 'a#'],\n",
       " 'eMajor': ['e', 'g#', 'b'],\n",
       " 'fMajor': ['f', 'a', 'c'],\n",
       " 'f#Major': ['f#', 'a#', 'c#'],\n",
       " 'gMajor': ['g', 'b', 'd'],\n",
       " 'g#Major': ['g#', 'c', 'd#'],\n",
       " 'aMajor': ['a', 'c#', 'e'],\n",
       " 'a#Major': ['a#', 'd', 'f'],\n",
       " 'bMajor': ['b', 'd#', 'f#']}"
      ]
     },
     "execution_count": 20,
     "metadata": {},
     "output_type": "execute_result"
    }
   ],
   "source": [
    "chord_dict = {}\n",
    "Merge(Major7flat5_dict,chord_dict)\n",
    "chord_dict"
   ]
  },
  {
   "cell_type": "code",
   "execution_count": 21,
   "id": "df612f62-6b64-46dc-b005-68d29ffc8cf3",
   "metadata": {},
   "outputs": [],
   "source": [
    "import itertools\n",
    "def get_chords(dct,note_list):\n",
    "    doable_chords = []\n",
    "    #make a list of all the notes on the high d that appear in the notes list\n",
    "    d_string = [i for i,x in enumerate(dct[\"d\"])if x in note_list]\n",
    "    #make a list of all the notes on the B that appear in the notes list\n",
    "    B_string = [i for i,x in enumerate(dct[\"B\"])if x in note_list]\n",
    "    #make a list of all the notes on the G that appear in the notes list\n",
    "    G_string = [i for i,x in enumerate(dct[\"G\"])if x in note_list]\n",
    "    #make a list of all the notes on the D that appear in the notes list\n",
    "    D_string = [i for i,x in enumerate(dct[\"D\"])if x in note_list]\n",
    "    #make a list of all the notes on the high g that appear in the notes list\n",
    "    g_string = [i for i,x in enumerate(dct[\"g\"])if x in note_list]\n",
    "    chords = itertools.product(g_string,D_string,G_string,B_string,d_string)\n",
    "    doable_chords = []\n",
    "    for i in chords:\n",
    "        i = list(i)\n",
    "        \n",
    "        if (max(i) - min(i))<=3:\n",
    "            doable_chords.append(i)\n",
    "    for chord in doable_chords:\n",
    "        if chord[0]<=5 and 'g' not in note_list:\n",
    "            chord[0] = 'm'\n",
    "    return doable_chords\n",
    "    \n",
    "    "
   ]
  },
  {
   "cell_type": "code",
   "execution_count": 37,
   "id": "e86423c6-8891-459f-b404-d3677c25f16e",
   "metadata": {},
   "outputs": [],
   "source": [
    "# C_Major = get_chords(TabBanjo,\"e\",\"c\",\"g\",\"g\")\n",
    "# # C_Major = get_chords(TabBanjo,\"e\",\"c\",\"g\",\"g\")\n",
    "# # C_Minor = get_chords(TabBanjo,\"c\",\"d#\",\"g\",\"g\")\n",
    "# # C_aug = get_chords(TabBanjo,\"c\",\"e\",\"g#\",\"e\")\n",
    "# # Cb5 = get_chords(TabBanjo,\"c\",\"e\",\"f#\",\"e\")\n",
    "# # C_dim = get_chords(TabBanjo,\"c\",\"d#\",\"g#\",\"c\")\n",
    "# # C_sus = get_chords(TabBanjo,\"c\",\"d\",\"g\",\"g\")\n",
    "# # C_sus2b5 = get_chords(TabBanjo,\"c\",\"d\",\"f#\",\"d\")\n",
    "# # C_sus4 = get_chords(TabBanjo,\"c\",\"f\",\"g\",\"g\")\n",
    "# # C5 = get_chords(TabBanjo,\"c\",\"g\",\"g\",\"g\")\n",
    "# # C7 = get_chords(TabBanjo,\"c\",\"a#\",\"g\",\"e\")\n",
    "# Gmin7 = get_chords(TabBanjo,\"g\",\"a#\",\"d\",\"f\")\n",
    "\n",
    "# Gsharpmin7 = get_chords(TabBanjo,\"g#\",\"b\",\"d#\",\"f#\")\n",
    "# Fsharpmin7 = get_chords(TabBanjo, \"f#\",\"c#\",\"a\",\"e\")\n",
    "# B7 = get_chords(TabBanjo,\"b\",\"d#\",\"f#\",\"a\")\n",
    "# E = get_chords(TabBanjo,\"e\",\"g#\",\"b\",\"b\")\n",
    "# E7 = get_chords(TabBanjo,\"e\",\"g#\",\"b\",\"d\")\n",
    "# kinda buggy. Coercing the the high g to a 0 every time doesn't make good sounding chords.\n",
    "\n",
    "chord = get_chords(TabBanjo,chord_dict['aMinor'])\n",
    "E_Major = get_chords(TabBanjo,chord_dict['eMajor'])\n",
    "D_minor = get_chords(TabBanjo,chord_dict['dMinor'])\n",
    "# a full chord dictionary would be cool\n",
    "\n",
    "# maybe that's soemthing to work on"
   ]
  },
  {
   "cell_type": "code",
   "execution_count": 38,
   "id": "1fd6cf41-99f3-4895-9c54-19f0bd702efa",
   "metadata": {},
   "outputs": [
    {
     "name": "stdout",
     "output_type": "stream",
     "text": [
      "['m', 2, 2, 1, 2]\n",
      "['m', 2, 2, 5, 2]\n",
      "['m', 2, 5, 5, 2]\n",
      "[7, 7, 5, 5, 7]\n",
      "[7, 7, 9, 10, 7]\n",
      "[7, 7, 9, 10, 10]\n",
      "[7, 10, 9, 10, 7]\n",
      "[7, 10, 9, 10, 10]\n",
      "[10, 7, 9, 10, 7]\n",
      "[10, 7, 9, 10, 10]\n",
      "[10, 10, 9, 10, 7]\n",
      "[10, 10, 9, 10, 10]\n",
      "[14, 14, 14, 13, 14]\n",
      "[14, 14, 14, 17, 14]\n",
      "[14, 14, 17, 17, 14]\n",
      "[19, 19, 17, 17, 19]\n",
      "[19, 19, 21, 22, 19]\n",
      "[19, 19, 21, 22, 22]\n",
      "[19, 22, 21, 22, 19]\n",
      "[19, 22, 21, 22, 22]\n",
      "[22, 19, 21, 22, 19]\n",
      "[22, 19, 21, 22, 22]\n",
      "[22, 22, 21, 22, 19]\n",
      "[22, 22, 21, 22, 22]\n"
     ]
    }
   ],
   "source": [
    "# print('E',E[2])\n",
    "\n",
    "# print('Gmin7',Gmin7[2])\n",
    "# print('F#min7',Fsharpmin7[0])\n",
    "# print('B7',B7[0])\n",
    "for i in chord:\n",
    "    print(i)"
   ]
  },
  {
   "cell_type": "code",
   "execution_count": 41,
   "id": "28151061-fa61-4325-9851-af311464d4ac",
   "metadata": {},
   "outputs": [
    {
     "data": {
      "text/plain": [
       "['a', 'c', 'e']"
      ]
     },
     "execution_count": 41,
     "metadata": {},
     "output_type": "execute_result"
    }
   ],
   "source": [
    "chord_dict['aMinor']"
   ]
  },
  {
   "cell_type": "code",
   "execution_count": null,
   "id": "c60ed52f-971d-496e-bd41-3dca67a2e828",
   "metadata": {
    "tags": []
   },
   "outputs": [],
   "source": [
    "Banjo_Chord_Dictionary = {}\n",
    "for key, value in chord_dict.items():\n",
    "    Banjo_Chord_Dictionary[key] = get_chords(TabBanjo,value)\n",
    "Banjo_Chord_Dictionary"
   ]
  },
  {
   "cell_type": "code",
   "execution_count": null,
   "id": "c556eacd-9f14-4d58-9105-4a593ce08bdd",
   "metadata": {},
   "outputs": [],
   "source": []
  }
 ],
 "metadata": {
  "kernelspec": {
   "display_name": "Python 3",
   "language": "python",
   "name": "python3"
  },
  "language_info": {
   "codemirror_mode": {
    "name": "ipython",
    "version": 3
   },
   "file_extension": ".py",
   "mimetype": "text/x-python",
   "name": "python",
   "nbconvert_exporter": "python",
   "pygments_lexer": "ipython3",
   "version": "3.8.8"
  }
 },
 "nbformat": 4,
 "nbformat_minor": 5
}
