{
 "cells": [
  {
   "cell_type": "code",
   "execution_count": 1,
   "id": "812b1d03-4bb7-40ff-a5bc-0c70083fb87e",
   "metadata": {},
   "outputs": [],
   "source": [
    "import numpy as np\n",
    "import sounddevice as sd"
   ]
  },
  {
   "cell_type": "code",
   "execution_count": 2,
   "id": "44ec1775-4815-42f2-b699-ebb1d93b700c",
   "metadata": {},
   "outputs": [],
   "source": [
    "fs = 48000\n",
    "sd.default.samplerate = fs"
   ]
  },
  {
   "cell_type": "code",
   "execution_count": 3,
   "id": "a8d09f32-f27d-43a6-8245-3f0cacda8517",
   "metadata": {},
   "outputs": [],
   "source": [
    "sd.default.channels = 2\n",
    "sd.default.device = 'LG UltraFine Display Audio, Core Audio'"
   ]
  },
  {
   "cell_type": "code",
   "execution_count": 4,
   "id": "01575460-3a6a-4f6c-bc0c-73d2f4dbf2c5",
   "metadata": {},
   "outputs": [],
   "source": [
    "duration = 10.5  # seconds\n",
    "myrecording = sd.rec(int(duration * fs), samplerate=fs, channels=1)"
   ]
  },
  {
   "cell_type": "code",
   "execution_count": null,
   "id": "7e52370b-3c67-4322-9ad4-e0d192c53717",
   "metadata": {},
   "outputs": [],
   "source": []
  }
 ],
 "metadata": {
  "kernelspec": {
   "display_name": "Python 3",
   "language": "python",
   "name": "python3"
  },
  "language_info": {
   "codemirror_mode": {
    "name": "ipython",
    "version": 3
   },
   "file_extension": ".py",
   "mimetype": "text/x-python",
   "name": "python",
   "nbconvert_exporter": "python",
   "pygments_lexer": "ipython3",
   "version": "3.8.8"
  }
 },
 "nbformat": 4,
 "nbformat_minor": 5
}
