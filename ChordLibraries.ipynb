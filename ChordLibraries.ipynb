{
 "cells": [
  {
   "cell_type": "code",
   "execution_count": 1,
   "id": "75a9a02c-7fb2-40af-9d27-f9e43be6ef5f",
   "metadata": {},
   "outputs": [],
   "source": [
    "#To generate all chords in a chord library, we should only need one chord of a class and then can generate all 12 notes of the chromatic scale\n",
    "#for example:\n",
    "#the chord C Major is composed of the notes of C,E,and G, and\n",
    "# C# Major is composed of C#,F,and G#\n",
    "# continue down the the chromatic scale to get all the notes that compose each Major chord in the chromatic scale. \n",
    "\n",
    "#Once we have this we'll be able to generate any dictionary of any chord variety\n",
    "\n",
    "# to start we'll make the list of notes in the chromatic scale\n",
    "\n",
    "chromatic_scale = ['c','c#','d','d#','e','f','f#','g','g#','a','a#','b']"
   ]
  },
  {
   "cell_type": "code",
   "execution_count": 2,
   "id": "39cd6caf-2e07-4983-90a2-394cc6348163",
   "metadata": {
    "tags": []
   },
   "outputs": [],
   "source": [
    "#let's define a function that translates one note to another by n steps\n",
    "\n",
    "#the input should be the root note and number of half steps\n",
    "\n",
    "def translate_note(root,steps):\n",
    "    index = chromatic_scale.index(root)\n",
    "    return chromatic_scale[(index+steps)%len(chromatic_scale)]\n",
    "        "
   ]
  },
  {
   "cell_type": "code",
   "execution_count": 3,
   "id": "da20a1e2-b985-471d-b2b9-fe2cb8ce4ab5",
   "metadata": {
    "tags": []
   },
   "outputs": [
    {
     "data": {
      "text/plain": [
       "'g#'"
      ]
     },
     "execution_count": 3,
     "metadata": {},
     "output_type": "execute_result"
    }
   ],
   "source": [
    "translate_note('f',3)\n",
    "#now that we have the translate note function we need to use it to create a full chord translation list\n",
    "\n"
   ]
  },
  {
   "cell_type": "code",
   "execution_count": 10,
   "id": "6f83cff2-daf9-42b1-b916-e1f7ce13569a",
   "metadata": {
    "tags": []
   },
   "outputs": [
    {
     "data": {
      "text/plain": [
       "{'cMajor': ['c', 'e', 'g'],\n",
       " 'c#Major': ['c#', 'f', 'g#'],\n",
       " 'dMajor': ['d', 'f#', 'a'],\n",
       " 'd#Major': ['d#', 'g', 'a#'],\n",
       " 'eMajor': ['e', 'g#', 'b'],\n",
       " 'fMajor': ['f', 'a', 'c'],\n",
       " 'f#Major': ['f#', 'a#', 'c#'],\n",
       " 'gMajor': ['g', 'b', 'd'],\n",
       " 'g#Major': ['g#', 'c', 'd#'],\n",
       " 'aMajor': ['a', 'c#', 'e'],\n",
       " 'a#Major': ['a#', 'd', 'f'],\n",
       " 'bMajor': ['b', 'd#', 'f#']}"
      ]
     },
     "execution_count": 10,
     "metadata": {},
     "output_type": "execute_result"
    }
   ],
   "source": [
    "#now we make a dictionary of Major Chords\n",
    "Major_dict = {}\n",
    "for note in chromatic_scale:\n",
    "    Major_dict[note+\"Major\"] = [translate_note(note,0),translate_note(note,4),translate_note(note,7)]\n",
    "Major_dict"
   ]
  },
  {
   "cell_type": "code",
   "execution_count": 11,
   "id": "881eb2d5-e5f3-46ce-a334-4423e47998a3",
   "metadata": {
    "tags": []
   },
   "outputs": [
    {
     "data": {
      "text/plain": [
       "{'cMinor': ['c', 'd#', 'g'],\n",
       " 'c#Minor': ['c#', 'e', 'g#'],\n",
       " 'dMinor': ['d', 'f', 'a'],\n",
       " 'd#Minor': ['d#', 'f#', 'a#'],\n",
       " 'eMinor': ['e', 'g', 'b'],\n",
       " 'fMinor': ['f', 'g#', 'c'],\n",
       " 'f#Minor': ['f#', 'a', 'c#'],\n",
       " 'gMinor': ['g', 'a#', 'd'],\n",
       " 'g#Minor': ['g#', 'b', 'd#'],\n",
       " 'aMinor': ['a', 'c', 'e'],\n",
       " 'a#Minor': ['a#', 'c#', 'f'],\n",
       " 'bMinor': ['b', 'd', 'f#']}"
      ]
     },
     "execution_count": 11,
     "metadata": {},
     "output_type": "execute_result"
    }
   ],
   "source": [
    "Minor_dict = {}\n",
    "for note in chromatic_scale:\n",
    "    Minor_dict[note+\"Minor\"] = [translate_note(note,0),translate_note(note,3),translate_note(note,7)]\n",
    "Minor_dict"
   ]
  },
  {
   "cell_type": "code",
   "execution_count": 12,
   "id": "35e4b11c-d8a0-4a11-aa31-e0a3e644574d",
   "metadata": {
    "tags": []
   },
   "outputs": [
    {
     "data": {
      "text/plain": [
       "{'cdom7': ['c', 'e', 'g', 'a#'],\n",
       " 'c#dom7': ['c#', 'f', 'g#', 'b'],\n",
       " 'ddom7': ['d', 'f#', 'a', 'c'],\n",
       " 'd#dom7': ['d#', 'g', 'a#', 'c#'],\n",
       " 'edom7': ['e', 'g#', 'b', 'd'],\n",
       " 'fdom7': ['f', 'a', 'c', 'd#'],\n",
       " 'f#dom7': ['f#', 'a#', 'c#', 'e'],\n",
       " 'gdom7': ['g', 'b', 'd', 'f'],\n",
       " 'g#dom7': ['g#', 'c', 'd#', 'f#'],\n",
       " 'adom7': ['a', 'c#', 'e', 'g'],\n",
       " 'a#dom7': ['a#', 'd', 'f', 'g#'],\n",
       " 'bdom7': ['b', 'd#', 'f#', 'a']}"
      ]
     },
     "execution_count": 12,
     "metadata": {},
     "output_type": "execute_result"
    }
   ],
   "source": [
    "dom7_dict = {}\n",
    "for note in chromatic_scale:\n",
    "    dom7_dict[note+\"dom7\"] = [translate_note(note,0),translate_note(note,4),translate_note(note,7),translate_note(note,10)]\n",
    "dom7_dict"
   ]
  },
  {
   "cell_type": "code",
   "execution_count": 13,
   "id": "017f6164-efbc-4dca-8bb3-9dafb05f096e",
   "metadata": {
    "tags": []
   },
   "outputs": [
    {
     "data": {
      "text/plain": [
       "{'cMinor7': ['c', 'd#', 'g', 'a#'],\n",
       " 'c#Minor7': ['c#', 'e', 'g#', 'b'],\n",
       " 'dMinor7': ['d', 'f', 'a', 'c'],\n",
       " 'd#Minor7': ['d#', 'f#', 'a#', 'c#'],\n",
       " 'eMinor7': ['e', 'g', 'b', 'd'],\n",
       " 'fMinor7': ['f', 'g#', 'c', 'd#'],\n",
       " 'f#Minor7': ['f#', 'a', 'c#', 'e'],\n",
       " 'gMinor7': ['g', 'a#', 'd', 'f'],\n",
       " 'g#Minor7': ['g#', 'b', 'd#', 'f#'],\n",
       " 'aMinor7': ['a', 'c', 'e', 'g'],\n",
       " 'a#Minor7': ['a#', 'c#', 'f', 'g#'],\n",
       " 'bMinor7': ['b', 'd', 'f#', 'a']}"
      ]
     },
     "execution_count": 13,
     "metadata": {},
     "output_type": "execute_result"
    }
   ],
   "source": [
    "Minor7_dict = {}\n",
    "for note in chromatic_scale:\n",
    "    Minor7_dict[note+\"Minor7\"] = [translate_note(note,0),translate_note(note,3),translate_note(note,7),translate_note(note,10)]\n",
    "Minor7_dict"
   ]
  },
  {
   "cell_type": "code",
   "execution_count": 14,
   "id": "614b7abb-ef1f-4ee5-b113-2d3b7c365184",
   "metadata": {
    "tags": []
   },
   "outputs": [
    {
     "data": {
      "text/plain": [
       "{'cMajor7': ['c', 'e', 'g', 'b'],\n",
       " 'c#Major7': ['c#', 'f', 'g#', 'c'],\n",
       " 'dMajor7': ['d', 'f#', 'a', 'c#'],\n",
       " 'd#Major7': ['d#', 'g', 'a#', 'd'],\n",
       " 'eMajor7': ['e', 'g#', 'b', 'd#'],\n",
       " 'fMajor7': ['f', 'a', 'c', 'e'],\n",
       " 'f#Major7': ['f#', 'a#', 'c#', 'f'],\n",
       " 'gMajor7': ['g', 'b', 'd', 'f#'],\n",
       " 'g#Major7': ['g#', 'c', 'd#', 'g'],\n",
       " 'aMajor7': ['a', 'c#', 'e', 'g#'],\n",
       " 'a#Major7': ['a#', 'd', 'f', 'a'],\n",
       " 'bMajor7': ['b', 'd#', 'f#', 'a#']}"
      ]
     },
     "execution_count": 14,
     "metadata": {},
     "output_type": "execute_result"
    }
   ],
   "source": [
    "Major7_dict = {}\n",
    "for note in chromatic_scale:\n",
    "    Major7_dict[note+\"Major7\"] = [translate_note(note,0),translate_note(note,4),translate_note(note,7),translate_note(note,11)]\n",
    "Major7_dict"
   ]
  },
  {
   "cell_type": "code",
   "execution_count": 15,
   "id": "1fda4eb8-eaba-4270-9d9b-4c65eb4c141a",
   "metadata": {
    "tags": []
   },
   "outputs": [
    {
     "data": {
      "text/plain": [
       "{'cMinor7flat5': ['c', 'd#', 'f#', 'a#'],\n",
       " 'c#Minor7flat5': ['c#', 'e', 'g', 'b'],\n",
       " 'dMinor7flat5': ['d', 'f', 'g#', 'c'],\n",
       " 'd#Minor7flat5': ['d#', 'f#', 'a', 'c#'],\n",
       " 'eMinor7flat5': ['e', 'g', 'a#', 'd'],\n",
       " 'fMinor7flat5': ['f', 'g#', 'b', 'd#'],\n",
       " 'f#Minor7flat5': ['f#', 'a', 'c', 'e'],\n",
       " 'gMinor7flat5': ['g', 'a#', 'c#', 'f'],\n",
       " 'g#Minor7flat5': ['g#', 'b', 'd', 'f#'],\n",
       " 'aMinor7flat5': ['a', 'c', 'd#', 'g'],\n",
       " 'a#Minor7flat5': ['a#', 'c#', 'e', 'g#'],\n",
       " 'bMinor7flat5': ['b', 'd', 'f', 'a']}"
      ]
     },
     "execution_count": 15,
     "metadata": {},
     "output_type": "execute_result"
    }
   ],
   "source": [
    "Minor7flat5_dict = {}\n",
    "for note in chromatic_scale:\n",
    "    Minor7flat5_dict[note+\"Minor7flat5\"] = [translate_note(note,0),translate_note(note,3),translate_note(note,6),translate_note(note,10)]\n",
    "Minor7flat5_dict"
   ]
  },
  {
   "cell_type": "code",
   "execution_count": 16,
   "id": "752d20d7-9187-48a9-ad11-f5d9f93bc31a",
   "metadata": {
    "tags": []
   },
   "outputs": [
    {
     "data": {
      "text/plain": [
       "{'cdim': ['c', 'd#', 'f#'],\n",
       " 'c#dim': ['c#', 'e', 'g'],\n",
       " 'ddim': ['d', 'f', 'g#'],\n",
       " 'd#dim': ['d#', 'f#', 'a'],\n",
       " 'edim': ['e', 'g', 'a#'],\n",
       " 'fdim': ['f', 'g#', 'b'],\n",
       " 'f#dim': ['f#', 'a', 'c'],\n",
       " 'gdim': ['g', 'a#', 'c#'],\n",
       " 'g#dim': ['g#', 'b', 'd'],\n",
       " 'adim': ['a', 'c', 'd#'],\n",
       " 'a#dim': ['a#', 'c#', 'e'],\n",
       " 'bdim': ['b', 'd', 'f']}"
      ]
     },
     "execution_count": 16,
     "metadata": {},
     "output_type": "execute_result"
    }
   ],
   "source": [
    "dim_dict = {}\n",
    "for note in chromatic_scale:\n",
    "    dim_dict[note+\"dim\"] = [translate_note(note,0),translate_note(note,3),translate_note(note,6)]\n",
    "dim_dict"
   ]
  },
  {
   "cell_type": "code",
   "execution_count": 17,
   "id": "4b5ab8a6-8edb-49c2-8948-0db6d04bace6",
   "metadata": {
    "tags": []
   },
   "outputs": [
    {
     "data": {
      "text/plain": [
       "{'cdim7': ['c', 'd#', 'f#', 'a'],\n",
       " 'c#dim7': ['c#', 'e', 'g', 'a#'],\n",
       " 'ddim7': ['d', 'f', 'g#', 'b'],\n",
       " 'd#dim7': ['d#', 'f#', 'a', 'c'],\n",
       " 'edim7': ['e', 'g', 'a#', 'c#'],\n",
       " 'fdim7': ['f', 'g#', 'b', 'd'],\n",
       " 'f#dim7': ['f#', 'a', 'c', 'd#'],\n",
       " 'gdim7': ['g', 'a#', 'c#', 'e'],\n",
       " 'g#dim7': ['g#', 'b', 'd', 'f'],\n",
       " 'adim7': ['a', 'c', 'd#', 'f#'],\n",
       " 'a#dim7': ['a#', 'c#', 'e', 'g'],\n",
       " 'bdim7': ['b', 'd', 'f', 'g#']}"
      ]
     },
     "execution_count": 17,
     "metadata": {},
     "output_type": "execute_result"
    }
   ],
   "source": [
    "dim7_dict = {}\n",
    "for note in chromatic_scale:\n",
    "    dim7_dict[note+\"dim7\"] = [translate_note(note,0),translate_note(note,3),translate_note(note,6),translate_note(note,9)]\n",
    "dim7_dict"
   ]
  },
  {
   "cell_type": "code",
   "execution_count": 18,
   "id": "547a6901-3d4d-4f57-9b0c-d0852a88cd68",
   "metadata": {
    "tags": []
   },
   "outputs": [
    {
     "data": {
      "text/plain": [
       "{'caug': ['c', 'e', 'g#'],\n",
       " 'c#aug': ['c#', 'f', 'a'],\n",
       " 'daug': ['d', 'f#', 'a#'],\n",
       " 'd#aug': ['d#', 'g', 'b'],\n",
       " 'eaug': ['e', 'g#', 'c'],\n",
       " 'faug': ['f', 'a', 'c#'],\n",
       " 'f#aug': ['f#', 'a#', 'd'],\n",
       " 'gaug': ['g', 'b', 'd#'],\n",
       " 'g#aug': ['g#', 'c', 'e'],\n",
       " 'aaug': ['a', 'c#', 'f'],\n",
       " 'a#aug': ['a#', 'd', 'f#'],\n",
       " 'baug': ['b', 'd#', 'g']}"
      ]
     },
     "execution_count": 18,
     "metadata": {},
     "output_type": "execute_result"
    }
   ],
   "source": [
    "aug_dict = {}\n",
    "for note in chromatic_scale:\n",
    "    aug_dict[note+\"aug\"] = [translate_note(note,0),translate_note(note,4),translate_note(note,8)]\n",
    "aug_dict"
   ]
  },
  {
   "cell_type": "code",
   "execution_count": 19,
   "id": "c3d254a0-1644-4b4f-8874-ea6f387bcdf5",
   "metadata": {
    "tags": []
   },
   "outputs": [
    {
     "data": {
      "text/plain": [
       "{'cMajor6': ['c', 'e', 'g', 'a'],\n",
       " 'c#Major6': ['c#', 'f', 'g#', 'a#'],\n",
       " 'dMajor6': ['d', 'f#', 'a', 'b'],\n",
       " 'd#Major6': ['d#', 'g', 'a#', 'c'],\n",
       " 'eMajor6': ['e', 'g#', 'b', 'c#'],\n",
       " 'fMajor6': ['f', 'a', 'c', 'd'],\n",
       " 'f#Major6': ['f#', 'a#', 'c#', 'd#'],\n",
       " 'gMajor6': ['g', 'b', 'd', 'e'],\n",
       " 'g#Major6': ['g#', 'c', 'd#', 'f'],\n",
       " 'aMajor6': ['a', 'c#', 'e', 'f#'],\n",
       " 'a#Major6': ['a#', 'd', 'f', 'g'],\n",
       " 'bMajor6': ['b', 'd#', 'f#', 'g#']}"
      ]
     },
     "execution_count": 19,
     "metadata": {},
     "output_type": "execute_result"
    }
   ],
   "source": [
    "Major6_dict = {}\n",
    "for note in chromatic_scale:\n",
    "    Major6_dict[note+\"Major6\"] = [translate_note(note,0),translate_note(note,4),translate_note(note,7),translate_note(note,9)]\n",
    "Major6_dict"
   ]
  },
  {
   "cell_type": "code",
   "execution_count": 20,
   "id": "467f5733-4f31-4fcc-959c-f788d625f1d2",
   "metadata": {
    "tags": []
   },
   "outputs": [
    {
     "data": {
      "text/plain": [
       "{'cMinor6': ['c', 'd#', 'g', 'a'],\n",
       " 'c#Minor6': ['c#', 'e', 'g#', 'a#'],\n",
       " 'dMinor6': ['d', 'f', 'a', 'b'],\n",
       " 'd#Minor6': ['d#', 'f#', 'a#', 'c'],\n",
       " 'eMinor6': ['e', 'g', 'b', 'c#'],\n",
       " 'fMinor6': ['f', 'g#', 'c', 'd'],\n",
       " 'f#Minor6': ['f#', 'a', 'c#', 'd#'],\n",
       " 'gMinor6': ['g', 'a#', 'd', 'e'],\n",
       " 'g#Minor6': ['g#', 'b', 'd#', 'f'],\n",
       " 'aMinor6': ['a', 'c', 'e', 'f#'],\n",
       " 'a#Minor6': ['a#', 'c#', 'f', 'g'],\n",
       " 'bMinor6': ['b', 'd', 'f#', 'g#']}"
      ]
     },
     "execution_count": 20,
     "metadata": {},
     "output_type": "execute_result"
    }
   ],
   "source": [
    "Minor6_dict = {}\n",
    "for note in chromatic_scale:\n",
    "    Minor6_dict[note+\"Minor6\"] = [translate_note(note,0),translate_note(note,3),translate_note(note,7),translate_note(note,9)]\n",
    "Minor6_dict"
   ]
  },
  {
   "cell_type": "code",
   "execution_count": 21,
   "id": "41438e09-03d4-468d-84a5-232a7a94c7b8",
   "metadata": {},
   "outputs": [
    {
     "data": {
      "text/plain": [
       "{'cMajor7sharp5': ['c', 'e', 'g#', 'a#'],\n",
       " 'c#Major7sharp5': ['c#', 'f', 'a', 'b'],\n",
       " 'dMajor7sharp5': ['d', 'f#', 'a#', 'c'],\n",
       " 'd#Major7sharp5': ['d#', 'g', 'b', 'c#'],\n",
       " 'eMajor7sharp5': ['e', 'g#', 'c', 'd'],\n",
       " 'fMajor7sharp5': ['f', 'a', 'c#', 'd#'],\n",
       " 'f#Major7sharp5': ['f#', 'a#', 'd', 'e'],\n",
       " 'gMajor7sharp5': ['g', 'b', 'd#', 'f'],\n",
       " 'g#Major7sharp5': ['g#', 'c', 'e', 'f#'],\n",
       " 'aMajor7sharp5': ['a', 'c#', 'f', 'g'],\n",
       " 'a#Major7sharp5': ['a#', 'd', 'f#', 'g#'],\n",
       " 'bMajor7sharp5': ['b', 'd#', 'g', 'a']}"
      ]
     },
     "execution_count": 21,
     "metadata": {},
     "output_type": "execute_result"
    }
   ],
   "source": [
    "Major7sharp5_dict = {}\n",
    "for note in chromatic_scale:\n",
    "    Major7sharp5_dict[note+\"Major7sharp5\"] = [translate_note(note,0),translate_note(note,4),translate_note(note,8),translate_note(note,10)]\n",
    "Major7sharp5_dict"
   ]
  },
  {
   "cell_type": "code",
   "execution_count": 22,
   "id": "b0ddfeaa-9015-420f-bd73-3b9a7c2075f0",
   "metadata": {
    "tags": []
   },
   "outputs": [
    {
     "data": {
      "text/plain": [
       "{'cMajor7flat5': ['c', 'e', 'f#', 'a#'],\n",
       " 'c#Major7flat5': ['c#', 'f', 'g', 'b'],\n",
       " 'dMajor7flat5': ['d', 'f#', 'g#', 'c'],\n",
       " 'd#Major7flat5': ['d#', 'g', 'a', 'c#'],\n",
       " 'eMajor7flat5': ['e', 'g#', 'a#', 'd'],\n",
       " 'fMajor7flat5': ['f', 'a', 'b', 'd#'],\n",
       " 'f#Major7flat5': ['f#', 'a#', 'c', 'e'],\n",
       " 'gMajor7flat5': ['g', 'b', 'c#', 'f'],\n",
       " 'g#Major7flat5': ['g#', 'c', 'd', 'f#'],\n",
       " 'aMajor7flat5': ['a', 'c#', 'd#', 'g'],\n",
       " 'a#Major7flat5': ['a#', 'd', 'e', 'g#'],\n",
       " 'bMajor7flat5': ['b', 'd#', 'f', 'a']}"
      ]
     },
     "execution_count": 22,
     "metadata": {},
     "output_type": "execute_result"
    }
   ],
   "source": [
    "Major7flat5_dict = {}\n",
    "for note in chromatic_scale:\n",
    "    Major7flat5_dict[note+\"Major7flat5\"] = [translate_note(note,0),translate_note(note,4),translate_note(note,6),translate_note(note,10)]\n",
    "Major7flat5_dict"
   ]
  },
  {
   "cell_type": "code",
   "execution_count": 23,
   "id": "72163736-e674-4771-a0c8-c62a96f91503",
   "metadata": {},
   "outputs": [],
   "source": [
    "def Merge(dict1, dict2):\n",
    "    return(dict2.update(dict1))"
   ]
  },
  {
   "cell_type": "code",
   "execution_count": 24,
   "id": "f82d8914-7c33-4c93-ba0f-f4019069f67f",
   "metadata": {},
   "outputs": [],
   "source": [
    "Merge(Major_dict,Minor_dict)\n",
    "Merge(Minor_dict,dom7_dict)\n",
    "Merge(dom7_dict,Minor7_dict)\n",
    "Merge(Minor7_dict,Major7_dict)\n",
    "Merge(Major7_dict,Minor7flat5_dict)\n",
    "Merge(Minor7flat5_dict,dim_dict)\n",
    "Merge(Minor7flat5_dict,dim7_dict)\n",
    "Merge(dim7_dict,aug_dict)\n",
    "Merge(aug_dict,Major6_dict),\n",
    "Merge(Major6_dict,Minor6_dict),\n",
    "Merge(Minor6_dict,Major7sharp5_dict)\n",
    "Merge(Major7sharp5_dict,Major7flat5_dict)"
   ]
  },
  {
   "cell_type": "code",
   "execution_count": 25,
   "id": "38ca86fc-7993-4978-9c82-c263c1931e25",
   "metadata": {
    "tags": []
   },
   "outputs": [],
   "source": [
    "chord_dict = {}\n",
    "Merge(Major7flat5_dict,chord_dict)"
   ]
  },
  {
   "cell_type": "code",
   "execution_count": 26,
   "id": "831fdce5-0eda-4614-a6a6-faea9dbfdc17",
   "metadata": {},
   "outputs": [
    {
     "data": {
      "text/plain": [
       "{'cMajor7flat5': ['c', 'e', 'f#', 'a#'],\n",
       " 'c#Major7flat5': ['c#', 'f', 'g', 'b'],\n",
       " 'dMajor7flat5': ['d', 'f#', 'g#', 'c'],\n",
       " 'd#Major7flat5': ['d#', 'g', 'a', 'c#'],\n",
       " 'eMajor7flat5': ['e', 'g#', 'a#', 'd'],\n",
       " 'fMajor7flat5': ['f', 'a', 'b', 'd#'],\n",
       " 'f#Major7flat5': ['f#', 'a#', 'c', 'e'],\n",
       " 'gMajor7flat5': ['g', 'b', 'c#', 'f'],\n",
       " 'g#Major7flat5': ['g#', 'c', 'd', 'f#'],\n",
       " 'aMajor7flat5': ['a', 'c#', 'd#', 'g'],\n",
       " 'a#Major7flat5': ['a#', 'd', 'e', 'g#'],\n",
       " 'bMajor7flat5': ['b', 'd#', 'f', 'a'],\n",
       " 'cMajor7sharp5': ['c', 'e', 'g#', 'a#'],\n",
       " 'c#Major7sharp5': ['c#', 'f', 'a', 'b'],\n",
       " 'dMajor7sharp5': ['d', 'f#', 'a#', 'c'],\n",
       " 'd#Major7sharp5': ['d#', 'g', 'b', 'c#'],\n",
       " 'eMajor7sharp5': ['e', 'g#', 'c', 'd'],\n",
       " 'fMajor7sharp5': ['f', 'a', 'c#', 'd#'],\n",
       " 'f#Major7sharp5': ['f#', 'a#', 'd', 'e'],\n",
       " 'gMajor7sharp5': ['g', 'b', 'd#', 'f'],\n",
       " 'g#Major7sharp5': ['g#', 'c', 'e', 'f#'],\n",
       " 'aMajor7sharp5': ['a', 'c#', 'f', 'g'],\n",
       " 'a#Major7sharp5': ['a#', 'd', 'f#', 'g#'],\n",
       " 'bMajor7sharp5': ['b', 'd#', 'g', 'a'],\n",
       " 'cMinor6': ['c', 'd#', 'g', 'a'],\n",
       " 'c#Minor6': ['c#', 'e', 'g#', 'a#'],\n",
       " 'dMinor6': ['d', 'f', 'a', 'b'],\n",
       " 'd#Minor6': ['d#', 'f#', 'a#', 'c'],\n",
       " 'eMinor6': ['e', 'g', 'b', 'c#'],\n",
       " 'fMinor6': ['f', 'g#', 'c', 'd'],\n",
       " 'f#Minor6': ['f#', 'a', 'c#', 'd#'],\n",
       " 'gMinor6': ['g', 'a#', 'd', 'e'],\n",
       " 'g#Minor6': ['g#', 'b', 'd#', 'f'],\n",
       " 'aMinor6': ['a', 'c', 'e', 'f#'],\n",
       " 'a#Minor6': ['a#', 'c#', 'f', 'g'],\n",
       " 'bMinor6': ['b', 'd', 'f#', 'g#'],\n",
       " 'cMajor6': ['c', 'e', 'g', 'a'],\n",
       " 'c#Major6': ['c#', 'f', 'g#', 'a#'],\n",
       " 'dMajor6': ['d', 'f#', 'a', 'b'],\n",
       " 'd#Major6': ['d#', 'g', 'a#', 'c'],\n",
       " 'eMajor6': ['e', 'g#', 'b', 'c#'],\n",
       " 'fMajor6': ['f', 'a', 'c', 'd'],\n",
       " 'f#Major6': ['f#', 'a#', 'c#', 'd#'],\n",
       " 'gMajor6': ['g', 'b', 'd', 'e'],\n",
       " 'g#Major6': ['g#', 'c', 'd#', 'f'],\n",
       " 'aMajor6': ['a', 'c#', 'e', 'f#'],\n",
       " 'a#Major6': ['a#', 'd', 'f', 'g'],\n",
       " 'bMajor6': ['b', 'd#', 'f#', 'g#'],\n",
       " 'caug': ['c', 'e', 'g#'],\n",
       " 'c#aug': ['c#', 'f', 'a'],\n",
       " 'daug': ['d', 'f#', 'a#'],\n",
       " 'd#aug': ['d#', 'g', 'b'],\n",
       " 'eaug': ['e', 'g#', 'c'],\n",
       " 'faug': ['f', 'a', 'c#'],\n",
       " 'f#aug': ['f#', 'a#', 'd'],\n",
       " 'gaug': ['g', 'b', 'd#'],\n",
       " 'g#aug': ['g#', 'c', 'e'],\n",
       " 'aaug': ['a', 'c#', 'f'],\n",
       " 'a#aug': ['a#', 'd', 'f#'],\n",
       " 'baug': ['b', 'd#', 'g'],\n",
       " 'cdim7': ['c', 'd#', 'f#', 'a'],\n",
       " 'c#dim7': ['c#', 'e', 'g', 'a#'],\n",
       " 'ddim7': ['d', 'f', 'g#', 'b'],\n",
       " 'd#dim7': ['d#', 'f#', 'a', 'c'],\n",
       " 'edim7': ['e', 'g', 'a#', 'c#'],\n",
       " 'fdim7': ['f', 'g#', 'b', 'd'],\n",
       " 'f#dim7': ['f#', 'a', 'c', 'd#'],\n",
       " 'gdim7': ['g', 'a#', 'c#', 'e'],\n",
       " 'g#dim7': ['g#', 'b', 'd', 'f'],\n",
       " 'adim7': ['a', 'c', 'd#', 'f#'],\n",
       " 'a#dim7': ['a#', 'c#', 'e', 'g'],\n",
       " 'bdim7': ['b', 'd', 'f', 'g#'],\n",
       " 'cMinor7flat5': ['c', 'd#', 'f#', 'a#'],\n",
       " 'c#Minor7flat5': ['c#', 'e', 'g', 'b'],\n",
       " 'dMinor7flat5': ['d', 'f', 'g#', 'c'],\n",
       " 'd#Minor7flat5': ['d#', 'f#', 'a', 'c#'],\n",
       " 'eMinor7flat5': ['e', 'g', 'a#', 'd'],\n",
       " 'fMinor7flat5': ['f', 'g#', 'b', 'd#'],\n",
       " 'f#Minor7flat5': ['f#', 'a', 'c', 'e'],\n",
       " 'gMinor7flat5': ['g', 'a#', 'c#', 'f'],\n",
       " 'g#Minor7flat5': ['g#', 'b', 'd', 'f#'],\n",
       " 'aMinor7flat5': ['a', 'c', 'd#', 'g'],\n",
       " 'a#Minor7flat5': ['a#', 'c#', 'e', 'g#'],\n",
       " 'bMinor7flat5': ['b', 'd', 'f', 'a'],\n",
       " 'cMajor7': ['c', 'e', 'g', 'b'],\n",
       " 'c#Major7': ['c#', 'f', 'g#', 'c'],\n",
       " 'dMajor7': ['d', 'f#', 'a', 'c#'],\n",
       " 'd#Major7': ['d#', 'g', 'a#', 'd'],\n",
       " 'eMajor7': ['e', 'g#', 'b', 'd#'],\n",
       " 'fMajor7': ['f', 'a', 'c', 'e'],\n",
       " 'f#Major7': ['f#', 'a#', 'c#', 'f'],\n",
       " 'gMajor7': ['g', 'b', 'd', 'f#'],\n",
       " 'g#Major7': ['g#', 'c', 'd#', 'g'],\n",
       " 'aMajor7': ['a', 'c#', 'e', 'g#'],\n",
       " 'a#Major7': ['a#', 'd', 'f', 'a'],\n",
       " 'bMajor7': ['b', 'd#', 'f#', 'a#'],\n",
       " 'cMinor7': ['c', 'd#', 'g', 'a#'],\n",
       " 'c#Minor7': ['c#', 'e', 'g#', 'b'],\n",
       " 'dMinor7': ['d', 'f', 'a', 'c'],\n",
       " 'd#Minor7': ['d#', 'f#', 'a#', 'c#'],\n",
       " 'eMinor7': ['e', 'g', 'b', 'd'],\n",
       " 'fMinor7': ['f', 'g#', 'c', 'd#'],\n",
       " 'f#Minor7': ['f#', 'a', 'c#', 'e'],\n",
       " 'gMinor7': ['g', 'a#', 'd', 'f'],\n",
       " 'g#Minor7': ['g#', 'b', 'd#', 'f#'],\n",
       " 'aMinor7': ['a', 'c', 'e', 'g'],\n",
       " 'a#Minor7': ['a#', 'c#', 'f', 'g#'],\n",
       " 'bMinor7': ['b', 'd', 'f#', 'a'],\n",
       " 'cdom7': ['c', 'e', 'g', 'a#'],\n",
       " 'c#dom7': ['c#', 'f', 'g#', 'b'],\n",
       " 'ddom7': ['d', 'f#', 'a', 'c'],\n",
       " 'd#dom7': ['d#', 'g', 'a#', 'c#'],\n",
       " 'edom7': ['e', 'g#', 'b', 'd'],\n",
       " 'fdom7': ['f', 'a', 'c', 'd#'],\n",
       " 'f#dom7': ['f#', 'a#', 'c#', 'e'],\n",
       " 'gdom7': ['g', 'b', 'd', 'f'],\n",
       " 'g#dom7': ['g#', 'c', 'd#', 'f#'],\n",
       " 'adom7': ['a', 'c#', 'e', 'g'],\n",
       " 'a#dom7': ['a#', 'd', 'f', 'g#'],\n",
       " 'bdom7': ['b', 'd#', 'f#', 'a'],\n",
       " 'cMinor': ['c', 'd#', 'g'],\n",
       " 'c#Minor': ['c#', 'e', 'g#'],\n",
       " 'dMinor': ['d', 'f', 'a'],\n",
       " 'd#Minor': ['d#', 'f#', 'a#'],\n",
       " 'eMinor': ['e', 'g', 'b'],\n",
       " 'fMinor': ['f', 'g#', 'c'],\n",
       " 'f#Minor': ['f#', 'a', 'c#'],\n",
       " 'gMinor': ['g', 'a#', 'd'],\n",
       " 'g#Minor': ['g#', 'b', 'd#'],\n",
       " 'aMinor': ['a', 'c', 'e'],\n",
       " 'a#Minor': ['a#', 'c#', 'f'],\n",
       " 'bMinor': ['b', 'd', 'f#'],\n",
       " 'cMajor': ['c', 'e', 'g'],\n",
       " 'c#Major': ['c#', 'f', 'g#'],\n",
       " 'dMajor': ['d', 'f#', 'a'],\n",
       " 'd#Major': ['d#', 'g', 'a#'],\n",
       " 'eMajor': ['e', 'g#', 'b'],\n",
       " 'fMajor': ['f', 'a', 'c'],\n",
       " 'f#Major': ['f#', 'a#', 'c#'],\n",
       " 'gMajor': ['g', 'b', 'd'],\n",
       " 'g#Major': ['g#', 'c', 'd#'],\n",
       " 'aMajor': ['a', 'c#', 'e'],\n",
       " 'a#Major': ['a#', 'd', 'f'],\n",
       " 'bMajor': ['b', 'd#', 'f#']}"
      ]
     },
     "execution_count": 26,
     "metadata": {},
     "output_type": "execute_result"
    }
   ],
   "source": [
    "chord_dict"
   ]
  },
  {
   "cell_type": "code",
   "execution_count": null,
   "id": "7f253cfc-f4b5-4d6a-a9aa-e53cdca5e4cb",
   "metadata": {},
   "outputs": [],
   "source": []
  }
 ],
 "metadata": {
  "kernelspec": {
   "display_name": "Python 3",
   "language": "python",
   "name": "python3"
  },
  "language_info": {
   "codemirror_mode": {
    "name": "ipython",
    "version": 3
   },
   "file_extension": ".py",
   "mimetype": "text/x-python",
   "name": "python",
   "nbconvert_exporter": "python",
   "pygments_lexer": "ipython3",
   "version": "3.8.8"
  }
 },
 "nbformat": 4,
 "nbformat_minor": 5
}
